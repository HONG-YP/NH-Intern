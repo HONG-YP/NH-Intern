{
 "cells": [
  {
   "cell_type": "markdown",
   "metadata": {},
   "source": [
    "# 비정형 데이터를 통한 국내 상장사 연관정보 추출\n",
    "\n",
    "### NER 알고리즘을 사용한 테마 / 이벤트 단어 추출 \n",
    "### 연관 기업은 NICE 기업정보를 크롤링하여 본 notebook에는 포함되지 않음\n",
    "### 연관 단어 추출은 SoyKeyword 오픈소스 라이브러리 사용"
   ]
  },
  {
   "cell_type": "code",
   "execution_count": 1,
   "metadata": {},
   "outputs": [],
   "source": [
    "import pandas as pd\n",
    "import numpy as np\n",
    "from tqdm import tqdm, tqdm_pandas\n",
    "import warnings\n",
    "import re\n",
    "from collections import Counter, defaultdict\n",
    "\n",
    "warnings.filterwarnings('ignore')\n",
    "\n",
    "tqdm.pandas()"
   ]
  },
  {
   "cell_type": "code",
   "execution_count": 2,
   "metadata": {},
   "outputs": [
    {
     "name": "stdout",
     "output_type": "stream",
     "text": [
      "CPU times: user 7.22 s, sys: 1.87 s, total: 9.1 s\n",
      "Wall time: 57.1 s\n"
     ]
    }
   ],
   "source": [
    "from pyhive import hive \n",
    "import pandas as pd \n",
    "conn = hive.Connection('172.20.8.62', port=10000, username='65223', password='65223q12!', database='lake', auth='LDAP') \n",
    "sql = ''' \n",
    "select n_date, n_code, n_title, n_content from lake.n_newsmem\n",
    "where n_fgubun not in ('F05','F12','F22','F38','F39','F40')\n",
    "and (n_title, n_content) is NOT NULL\n",
    "and n_code != '000000  '\n",
    "and n_date > 20210601\n",
    "''' \n",
    "%time news_data = pd.read_sql(sql, conn, parse_dates = ['n_date']) "
   ]
  },
  {
   "cell_type": "code",
   "execution_count": 952,
   "metadata": {},
   "outputs": [
    {
     "name": "stdout",
     "output_type": "stream",
     "text": [
      "CPU times: user 71.3 ms, sys: 11.1 ms, total: 82.4 ms\n",
      "Wall time: 10.4 s\n"
     ]
    }
   ],
   "source": [
    "from pyhive import hive \n",
    "import pandas as pd \n",
    "conn = hive.Connection('172.20.8.62', port=10000, username='65223', password='65223q12!', database='lake', auth='LDAP') \n",
    "\n",
    "sql = ''' \n",
    "select RSH_PPR_DRU_DT, RSH_PPR_IEM_CD_PCL, RSH_PPR_IEM_NM_PCL, ems_til_cts, RSH_PPR_CTS_lne_del from lake.tcisr_rsh_ppr \n",
    "where rsh_ppr_dru_dt between 20210601 and 20210815\n",
    "''' \n",
    "%time research_data = pd.read_sql(sql, conn, parse_dates = ['rsh_ppr_dru_dt']) "
   ]
  },
  {
   "cell_type": "code",
   "execution_count": 710,
   "metadata": {},
   "outputs": [],
   "source": [
    "iem_data = pd.read_csv('stk_iem_ifo.csv', sep = '\\t', encoding = 'utf-8')"
   ]
  },
  {
   "cell_type": "markdown",
   "metadata": {},
   "source": [
    "# 분석용 테이블 생성 및 기본 전처리"
   ]
  },
  {
   "cell_type": "code",
   "execution_count": 5,
   "metadata": {},
   "outputs": [],
   "source": [
    "news_data.drop(news_data.loc[news_data['n_content'].isnull()].index, axis = 0, inplace = True)\n",
    "news_data.drop(news_data.loc[news_data['n_title'].isnull()].index, axis = 0, inplace = True)\n",
    "news_data.reset_index(drop = True, inplace = True)"
   ]
  },
  {
   "cell_type": "code",
   "execution_count": 711,
   "metadata": {},
   "outputs": [
    {
     "name": "stderr",
     "output_type": "stream",
     "text": [
      "100%|██████████| 5454/5454 [00:00<00:00, 200155.17it/s]\n",
      "100%|██████████| 5454/5454 [00:00<00:00, 210185.36it/s]\n",
      "100%|██████████| 5454/5454 [00:00<00:00, 126896.36it/s]\n",
      "100%|██████████| 5454/5454 [00:00<00:00, 201358.49it/s]\n"
     ]
    }
   ],
   "source": [
    "def del_tab(x):\n",
    "    x = re.sub(' ', '', x)\n",
    "    return x\n",
    "\n",
    "iem_data.dropna(axis = 0, inplace = True)\n",
    "iem_data.reset_index(drop = True, inplace = True)\n",
    "\n",
    "tqdm.pandas()\n",
    "iem_data['iem_cd'] = iem_data['iem_cd'].progress_apply(del_tab)\n",
    "iem_data['iem_cd'] = iem_data['iem_cd'].progress_apply(lambda x : re.sub('A', '', x))\n",
    "iem_data['stk_iem_krl_nm'] = iem_data['stk_iem_krl_nm'].progress_apply(del_tab)\n",
    "iem_data['rgs_mkt_cd'] = iem_data['rgs_mkt_cd'].progress_apply(del_tab)\n",
    "\n",
    "#news_data['n_code'] = news_data['n_code'].progress_apply(del_tab)"
   ]
  },
  {
   "cell_type": "code",
   "execution_count": 712,
   "metadata": {},
   "outputs": [],
   "source": [
    "iem_data.rename({'iem_cd' : 'n_code'}, axis = 1, inplace = True)"
   ]
  },
  {
   "cell_type": "code",
   "execution_count": 8,
   "metadata": {},
   "outputs": [],
   "source": [
    "news_data['title_content'] = news_data['n_title'] + '. ' + news_data['n_content']\n",
    "research_data['title_content'] = research_data['ems_til_cts'] + '. ' + research_data['rsh_ppr_cts_lne_del']"
   ]
  },
  {
   "cell_type": "code",
   "execution_count": 708,
   "metadata": {},
   "outputs": [],
   "source": [
    "# cleaning code\n",
    "\n",
    "from bs4 import BeautifulSoup\n",
    "\n",
    "def text_cleaning_1(text):\n",
    "    text = re.sub('<a[ _a-zA-Z=\\\"\\']+href.*?>(.*?)<\\/a>', ' ', text)\n",
    "    text = re.sub('<td[ _a-zA-Z=\\\"\\']+.*?>(.*?)<\\/td>', ' ', text)\n",
    "    text = re.sub('<head.*/head>', ' ', text)\n",
    "    text = re.sub('&[a-zA-Z0-9]+;', ' ', text)\n",
    "    text = re.sub('<br />', ' ', text)\n",
    "    # Beautiful Soup 으로 읽으면 어느정도 HTML 태그는 제거 됨  \n",
    "    text = BeautifulSoup(text).get_text()\n",
    "    # 중복되는 공백 (2개 이상) 제거 \n",
    "    text = re.sub('[ ]+', ' ', text)\n",
    "    return text\n",
    "\n",
    "def text_cleaning_2(x):\n",
    "    if len(re.findall('[a-zA-Z0-9_.+-]+@[a-zA-Z0-9-]+\\.[a-zA-Z-.]+', x)) > 0:\n",
    "        x = x.split(re.findall('[a-zA-Z0-9_.+-]+@[a-zA-Z0-9-]+\\.[a-zA-Z-.]+', x)[0])[0]\n",
    "    else:\n",
    "        pass\n",
    "    if len(re.findall('VIP', x)) > 0:\n",
    "        x = 'drop_records'\n",
    "    else:\n",
    "        pass\n",
    "    if len(re.findall('머니투데이', x)) > 0:\n",
    "        x = 'drop_records'\n",
    "    else:\n",
    "        pass\n",
    "    if len(re.findall('골든클럽', x)) > 0:\n",
    "        x = 'drop_records'\n",
    "    else:\n",
    "        pass\n",
    "    if len(re.findall('무료체험 신청', x)) > 0:\n",
    "        x = 'drop_records'\n",
    "    else:\n",
    "        pass\n",
    "    if len(re.findall('바로가기', x)) > 0:\n",
    "        x = x.split(re.findall('바로가기', x)[0])[0]\n",
    "    else:\n",
    "        pass\n",
    "    if len(re.findall('해당 기사는', x)) > 0:\n",
    "        x = x.split(re.findall('해당 기사는', x)[0])[0]\n",
    "    else:\n",
    "        pass\n",
    "    if len(re.findall('이 기사는', x)) > 0:\n",
    "        x = x.split(re.findall('이 기사는', x)[0])[0]\n",
    "    else:\n",
    "        pass\n",
    "    if len(re.findall('자료출처', x)) > 0:\n",
    "        x = x.split(re.findall('자료출처', x)[0])[0]\n",
    "    else:\n",
    "        pass\n",
    "    if len(re.findall('본 글은 투자 참고용', x)) > 0:\n",
    "        x = x.split(re.findall('본 글은 투자 참고용', x)[0])[0]\n",
    "    else:\n",
    "        pass\n",
    "    if len(re.findall('Copyright', x)) > 0:\n",
    "        x = x.split(re.findall('Copyright', x)[0])[0]\n",
    "    else:\n",
    "        pass\n",
    "    if len(re.findall('사진 제공', x)) > 0:\n",
    "        x = x.split(re.findall('사진 제공', x)[0])[0]\n",
    "    else:\n",
    "        pass\n",
    "    if len(re.findall('급등포착', x)) > 0:\n",
    "        x = x.split(re.findall('급등포착', x)[0])[0]\n",
    "    else:\n",
    "        pass\n",
    "    x = re.sub('&.+?;', ' ', x)\n",
    "    x = re.sub('\\s+[가-힣]+\\s[기]+[자]+',' ', x)\n",
    "    x = re.sub('서울', ' ', x)\n",
    "    x = re.sub('연합뉴스', ' ', x)\n",
    "    x = re.sub('한경닷컴', ' ', x)\n",
    "    x = re.sub('뉴스룸', ' ', x)\n",
    "    x = re.sub('파이낸셜뉴스', ' ', x)\n",
    "    x = re.sub(r'[^\\w'+\".\"+']', ' ', x)\n",
    "    x = re.sub('[\\\\t]', ' ', x)\n",
    "    x = re.sub('ㆍ', ' ', x)\n",
    "    x = re.sub('nbsp', ' ', x)\n",
    "    x = re.sub('[ ]+', ' ', x)\n",
    "    return x"
   ]
  },
  {
   "cell_type": "code",
   "execution_count": 69,
   "metadata": {},
   "outputs": [
    {
     "name": "stderr",
     "output_type": "stream",
     "text": [
      "100%|██████████| 145078/145078 [06:24<00:00, 377.12it/s]\n",
      "100%|██████████| 145078/145078 [01:03<00:00, 2285.20it/s]\n"
     ]
    }
   ],
   "source": [
    "news_data['title_content_clean'] = news_data['title_content'].progress_apply(text_cleaning_1)\n",
    "news_data['title_content_clean'] = news_data['title_content_clean'].progress_apply(text_cleaning_2)"
   ]
  },
  {
   "cell_type": "code",
   "execution_count": 70,
   "metadata": {},
   "outputs": [],
   "source": [
    "news_data.drop(news_data.loc[news_data['title_content_clean'] == 'drop_records'].index, axis = 0, inplace = True)\n",
    "news_data.reset_index(drop = True, inplace = True)"
   ]
  },
  {
   "cell_type": "code",
   "execution_count": 71,
   "metadata": {},
   "outputs": [],
   "source": [
    "research_data.dropna(axis = 0, inplace = True)\n",
    "research_data.reset_index(drop = True, inplace = True)"
   ]
  },
  {
   "cell_type": "code",
   "execution_count": 72,
   "metadata": {},
   "outputs": [],
   "source": [
    "def research_text_cleaning(x):\n",
    "    x = re.sub('<.+?>', ' ', x)\n",
    "    x = re.sub('&.+?;', ' ', x)\n",
    "    return re.sub('[^\\w\\s]', ' ', x)"
   ]
  },
  {
   "cell_type": "code",
   "execution_count": 73,
   "metadata": {},
   "outputs": [],
   "source": [
    "research_data['title_content_clean'] = research_data['title_content'].apply(research_text_cleaning)"
   ]
  },
  {
   "cell_type": "code",
   "execution_count": 74,
   "metadata": {},
   "outputs": [],
   "source": [
    "news_data = pd.merge(iem_data, news_data, on = 'n_code', how = 'right')"
   ]
  },
  {
   "cell_type": "code",
   "execution_count": 75,
   "metadata": {},
   "outputs": [],
   "source": [
    "news_data.dropna(axis = 0, inplace = True)\n",
    "news_data.reset_index(drop = True, inplace = True)"
   ]
  },
  {
   "cell_type": "code",
   "execution_count": 76,
   "metadata": {},
   "outputs": [],
   "source": [
    "multivalue_research_data = research_data.loc[research_data['rsh_ppr_iem_cd_pcl'].str.contains(',')]\n",
    "research_data.drop(multivalue_research_data.index, axis = 0, inplace = True)\n",
    "multivalue_research_data.reset_index(drop = True, inplace = True)"
   ]
  },
  {
   "cell_type": "code",
   "execution_count": 77,
   "metadata": {},
   "outputs": [],
   "source": [
    "# 다중값 종목코드, 종목명 레코드 단위 분리\n",
    "\n",
    "multi_sep_data = []\n",
    "\n",
    "for i in range(len(multivalue_research_data)):\n",
    "    for j in range(100):\n",
    "        try:\n",
    "            date = multivalue_research_data['rsh_ppr_dru_dt'][i]\n",
    "            code = multivalue_research_data['rsh_ppr_iem_cd_pcl'][i].split(',')[j]\n",
    "            name = multivalue_research_data['rsh_ppr_iem_nm_pcl'][i].split(',')[j]\n",
    "            title = multivalue_research_data['ems_til_cts'][i]\n",
    "            content = multivalue_research_data['rsh_ppr_cts_lne_del'][i]\n",
    "            title_clean = multivalue_research_data['ems_til_cts_clean'][i]\n",
    "            content_clean = multivalue_research_data['rsh_ppr_cts_clean'][i]\n",
    "            \n",
    "            data = date, code, name, title, content, title_clean, content_clean\n",
    "            multi_sep_data.append(data)\n",
    "        except:\n",
    "            continue"
   ]
  },
  {
   "cell_type": "code",
   "execution_count": 78,
   "metadata": {},
   "outputs": [],
   "source": [
    "multivalue_research_data = pd.DataFrame(multi_sep_data, columns = research_data.columns)"
   ]
  },
  {
   "cell_type": "code",
   "execution_count": 79,
   "metadata": {},
   "outputs": [],
   "source": [
    "research_data = pd.concat([research_data, multivalue_research_data], axis = 0)"
   ]
  },
  {
   "cell_type": "code",
   "execution_count": 80,
   "metadata": {},
   "outputs": [],
   "source": [
    "research_data.rename({'rsh_ppr_iem_cd_pcl' : 'n_code'}, axis = 1, inplace = True)"
   ]
  },
  {
   "cell_type": "code",
   "execution_count": 81,
   "metadata": {},
   "outputs": [],
   "source": [
    "research_data = pd.merge(iem_data, research_data, on = 'n_code', how = 'right')"
   ]
  },
  {
   "cell_type": "code",
   "execution_count": 82,
   "metadata": {},
   "outputs": [],
   "source": [
    "research_data.dropna(axis = 0, inplace = True)"
   ]
  },
  {
   "cell_type": "code",
   "execution_count": 83,
   "metadata": {},
   "outputs": [],
   "source": [
    "research_data.drop(['rsh_ppr_iem_nm_pcl'], axis = 1, inplace = True)"
   ]
  },
  {
   "cell_type": "code",
   "execution_count": 84,
   "metadata": {},
   "outputs": [],
   "source": [
    "research_data.rename({'rsh_ppr_dru_dt' : 'n_date',\n",
    "                      'ems_til_cts': 'n_title',\n",
    "                      'ems_til_cts_clean' : 'n_title_clean',\n",
    "                     'rsh_ppr_cts_lne_del' : 'n_content',\n",
    "                     'rsh_ppr_cts_clean' : 'n_content_clean'}, axis = 1, inplace = True)"
   ]
  },
  {
   "cell_type": "code",
   "execution_count": 85,
   "metadata": {},
   "outputs": [],
   "source": [
    "news_data['form'] = 'news'\n",
    "research_data['form'] = 'research'"
   ]
  },
  {
   "cell_type": "code",
   "execution_count": 86,
   "metadata": {},
   "outputs": [],
   "source": [
    "data = pd.concat([news_data, research_data], axis = 0)"
   ]
  },
  {
   "cell_type": "code",
   "execution_count": 87,
   "metadata": {},
   "outputs": [
    {
     "data": {
      "text/plain": [
       "(134719, 10)"
      ]
     },
     "execution_count": 87,
     "metadata": {},
     "output_type": "execute_result"
    }
   ],
   "source": [
    "data.reset_index(drop = True, inplace = True)\n",
    "data.shape"
   ]
  },
  {
   "cell_type": "code",
   "execution_count": 88,
   "metadata": {},
   "outputs": [],
   "source": [
    "data['month'] = data['n_date'].dt.month\n",
    "data['day'] = data['n_date'].dt.day\n",
    "data['dayofweek'] = data['n_date'].dt.dayofweek"
   ]
  },
  {
   "cell_type": "code",
   "execution_count": 89,
   "metadata": {},
   "outputs": [
    {
     "name": "stdout",
     "output_type": "stream",
     "text": [
      "CPU times: user 1min 11s, sys: 1.9 s, total: 1min 13s\n",
      "Wall time: 1min 14s\n"
     ]
    }
   ],
   "source": [
    "%%time\n",
    "data.to_csv('new_metadata.csv',index = False)"
   ]
  },
  {
   "cell_type": "code",
   "execution_count": 221,
   "metadata": {},
   "outputs": [
    {
     "name": "stdout",
     "output_type": "stream",
     "text": [
      "/home/65223/INTERN2021_Python/hyp\n"
     ]
    }
   ],
   "source": [
    "cd ./INTERN2021_Python/hyp"
   ]
  },
  {
   "cell_type": "code",
   "execution_count": 4,
   "metadata": {},
   "outputs": [
    {
     "name": "stdout",
     "output_type": "stream",
     "text": [
      "CPU times: user 43.4 s, sys: 5.62 s, total: 49.1 s\n",
      "Wall time: 51.6 s\n"
     ]
    }
   ],
   "source": [
    "%%time\n",
    "metadata = pd.read_csv('new_metadata.csv')"
   ]
  },
  {
   "cell_type": "markdown",
   "metadata": {},
   "source": [
    "# 사용자 사전 정의"
   ]
  },
  {
   "cell_type": "code",
   "execution_count": 57,
   "metadata": {},
   "outputs": [
    {
     "name": "stdout",
     "output_type": "stream",
     "text": [
      "/home/65223/INTERN2021_Python/hyp\n"
     ]
    }
   ],
   "source": [
    "cd ./INTERN2021_Python/hyp"
   ]
  },
  {
   "cell_type": "code",
   "execution_count": 689,
   "metadata": {},
   "outputs": [],
   "source": [
    "from konlpy.tag import Mecab\n",
    "\n",
    "mecab = Mecab('/home/65223/mecab_new/mecab-ko-dic-2.1.1-20180720')"
   ]
  },
  {
   "cell_type": "code",
   "execution_count": 826,
   "metadata": {},
   "outputs": [],
   "source": [
    "df_theme = pd.read_csv('테마.csv')\n",
    "df_sector = pd.read_csv('sector.txt', sep = '\\t')\n",
    "df_kospi = pd.read_csv('kospi.txt', sep = '\\t')\n",
    "df_kosdaq = pd.read_csv('kosdaq.txt', sep = '\\t')\n",
    "stk_mk_words = pd.read_csv('stk_mk_words.txt', sep = '\\t')"
   ]
  },
  {
   "cell_type": "code",
   "execution_count": 60,
   "metadata": {},
   "outputs": [],
   "source": [
    "extra_words = ['선물거래', '현물거래', '동학개미', '서학개미', '동학개미운동', '서학개미운동',\n",
    "              '주도주', '동전주', '지폐주', '품절주', '테마주', '종목명', '스윙', 'PER', 'PBR', '따상',\n",
    "              '따따상', '쩜상', '쩜하', '시총', '투자주의', '투자경고', '코스피', '코스닥',\n",
    "              '이데일리', '머니투데이', '연합뉴스', '인포스탁', '매일경제', '한경닷컴', 'FICC', '투자전략', '해외주식',\n",
    "               '자산관리', '아시아경제', '뉴스핌', '파이낸셜', '이투데이', '헤럴드경제', '조선경제', '모닝미팅브리프', '서울경제',\n",
    "               '코넥스', 'NSP통신', '금현물', '채권공시', '타임앤포인트', 'IR GO', '아이투자', '연합뉴스', '톰슨로이터',\n",
    "              '기계·장비', '금융', '반도체', '통신장비', '운송장비·부품', '방송서비스', '유통', '제약',\n",
    "               '디지털컨텐츠', '화학', '기타서비스', '건설', '섬유·의류', '일반전기전자', '오락·문화', '금속',\n",
    "               '소프트웨어', 'IT부품', '출판·매체복제', '기타제조', '비금속', '인터넷', '정보기기', '음식료·담배',\n",
    "               '종이·목재', '의료·정밀기기', '통신서비스', '농업, 임업 및 어업', '컴퓨터서비스', '숙박·음식',\n",
    "               '운송', '광업', '전기·가스·수도', '서비스업', '기타금융', '유통업', '섬유의복', '운수창고업',\n",
    "               '음식료품', '증권', '보험', '전기전자', '건설업', '철강금속', '기계', '의약품', '비금속광물',\n",
    "               '운수장비', '통신업', '기타제조업', '전기가스업', '종이목재', '은행', '의료정밀', '관련주', '2차전지',\n",
    "               '신규상장', '농업','은행','코로나19', '남북경협', '태풍 및 장마', '비료', 'mRNA', '사료', '백화점',\n",
    "               '영화', 'K-뉴딜지수', '카카오뱅크 관련주', '바이오시밀러', '모바일솔루션', '아스콘', '日 수출 규제', '구충제',\n",
    "               '조림사업', '온실가스', '제대혈','가상현실', '아프리카 돼지열병', '면세점', '핵융합에너지', '슈퍼박테리아',\n",
    "               '시멘트', '레미콘', '백신','진단시약', '음원', '음반', '음성인식', '엔터테인먼트', '항공', '저가 항공사',\n",
    "               '원자력발전소 해체', '콜드체인', '항공기부품', '증강현실', '육계', 'GTX', 'PCB', '2차전지', '해저터널', '패션',\n",
    "               '의류', '골프', '테마파크', '수소차', '치매', '3D 낸드', '희귀금속', '제약업체', '공작기계', '스마트팩토리', '전자파',\n",
    "               '우주항공산업', '셰일가스', '터치패널','반도체 재료', '부품', '플렉서블 디스플레이', '해운', '태블릿PC',\n",
    "               '메르스 코로나 바이러스', '토스 관련주', '스포츠행사 수혜', '편의점', '구제역', '광우병 수혜', '전력저장장치',\n",
    "               '여행', '소모성자재구매대행', '3D 프린터', '보톡스', '음식료업종', '인터넷은행', '전자결제', '강관업체', '제4이동통신',\n",
    "               '화장품', 'SSD', '건설기계', '기업인수목적회사', 'OLED', '원자력발전', '줄기세포', '클라우드 컴퓨팅',\n",
    "               '무선충전기술', '그래핀','LCD 부품', '소재', '고령화 사회','수자원', 'LNG', '모바일콘텐츠', '사물인터넷',\n",
    "               '전기차', '日제품 불매운동', '폴더블폰', '비철금속', '수산', '증권', '리츠', '자율주행차', '제지', '갤럭시 부품주',\n",
    "               '건강기능식품', 'LCD장비', '환율하락 수혜', '아이폰', 'U-Healthcare', '게임', '건설 중소형', '소매유통', '지주사',\n",
    "               '선박평형수 처리장치', '스마트홈', '여름', '풍력에너지', '겨울', '두나무 관련주', '마리화나', 'CCTV＆DVR',\n",
    "               '신규상장', '영상콘텐츠', '건설 대표주', 'MLCC', '스마트폰', '황사', '미세먼지', '모바일게임', '광고', '주류업',\n",
    "               '보안주', 'NI', '페인트', '키오스크', '태양광에너지', '석유화학', '손해보험', '철강 중소형','국내 상장 중국기업',\n",
    "               '자동차 대표주', '스마트카', '반도체 장비', '차량용블랙박스', '생명보험', '삼성페이', '밥솥', '전기자전거', '조선기자재',\n",
    "               '도시가스', '지능형로봇', '인공지능', '방위산업', '전쟁 및 테러', '반도체 대표주', '유전자 치료제', '분석', '자동차부품',\n",
    "               '의료기기', '통신', '치아 치료', '핀테크', '바이오인식', '남-북-러 가스관사업', '시스템반도체', '화학섬유', '타이어',\n",
    "               '자원개발', 'LPG', '홈쇼핑', '휴대폰부품', 'DMZ 평화공원', 'LED', '화폐', '금융자동화기기', '북한 광물자원개발',\n",
    "               '야놀자 관련주', '재난', '안전', '가상화폐', '조선', '리모델링', '인테리어', '면역항암제', 'LCD BLU제조',\n",
    "               '4차산업 수혜주', '폐기물처리', '마켓컬리 관련주', '종합상사','SI', '정유', '마스크', '철강 주요종목', '5G', '종합 물류',\n",
    "               '제습기', '캐릭터상품', '쿠팡 관련주', '창투사', 'LED장비', '메타버스', '공기청정기', '카메라모듈', '부품', 'IT 대표주',\n",
    "               '2019 상반기신규상장', 'SNS', '블록체인', '자전거', '스마트그리드', '통신장비', '골판지 제조', '엔젤산업', '미디어',\n",
    "               'MVNO', '인터넷대표주', '웹툰', '재택근무','스마트워크', '마이크로 LED', '출산장려정책', '4대강 복원', '드론',\n",
    "               '케이블TV SO', 'MSO', '교육', '온라인 교육', '전력설비', '백신여권', '탄소나노튜브', '일자리', '전선', 'RFID',\n",
    "               '크래프톤 관련주', '카지노', 'ODM', 'OEM','수혜주', '관련주', '2차전지', '이차전지', '카카오택시', \n",
    "               '카카오 택시', '카카오모빌리티', '카카오 모빌리티', '카카오 뱅크',\n",
    "               '카카오뱅크', '카카오웹툰', '카카오프렌즈','갤럭시S11',\n",
    "               '갤럭시폴드','갤럭시 플립', '갤럭시플립',  '카카오페이', '카카오게임즈', \n",
    "               '카카오엔터프라이즈', '크래프톤', '배틀그라운드',  '테이퍼링',\n",
    "               'NH투자증권', '엔비디아', '게이밍노트북', '울트라기어', '디오스', 'DIOS', '휘센',\n",
    "              'WHISEN', '트롬', 'TROMM', '퓨리케어', 'PuriCare', '코드제로', 'CordZero', '디램', 'DRAM', 'NAND', '낸드',\n",
    "              'QLED', '큐엘이디', '아몰레드', 'AMOLED', '인피니티 디스플레이', '비스포크', '무풍에어컨', '오디세이',\n",
    "              '갤럭시 워치', '갤럭시워치', '갤럭시버즈', '갤럭시 버즈', '컨버터블 PC', '컨버터블PC', '스마트싱스', '스마트띵스',\n",
    "              'SmartThings', '기어360', '기어 360', 'LG에너지솔루션', 'LG이노텍', 'SK바이오사이언스', 'SK아이이테크', 'SK아이이테크놀로지',\n",
    "              'SK디앤디', 'SKD&D', 'SKC', 'SK디스커버리', 'SKC솔믹스', 'SK하이닉스', 'SK렌터카', 'PSK', 'SK바이오팜','SK커뮤니케이션',\n",
    "               'DSK', 'SK브로드밴드', 'PSK홀딩스', 'SK머티리얼즈']"
   ]
  },
  {
   "cell_type": "code",
   "execution_count": 61,
   "metadata": {},
   "outputs": [],
   "source": [
    "extra_words = pd.DataFrame(extra_words, columns = ['words'])\n",
    "stk_mk_words['words'] = stk_mk_words['words'].apply(lambda x:x.split('(')[0])\n",
    "stk_mk_words = pd.concat([stk_mk_words, extra_words], axis = 0)\n",
    "\n",
    "theme_name = df_theme[['테마이름']]\n",
    "theme_name.rename({'테마이름' : 'words'}, axis = 1, inplace = True)\n",
    "df_sector.rename({'업종명' : 'words'}, axis = 1, inplace = True)\n",
    "df_kospi.rename({'코스피' : 'words'}, axis = 1, inplace = True)\n",
    "df_kosdaq.rename({'코스닥' : 'words'}, axis = 1, inplace = True)\n",
    "\n",
    "stk_mk_words = pd.concat([stk_mk_words, theme_name], axis = 0)\n",
    "stk_mk_words = pd.concat([stk_mk_words, df_sector], axis = 0)\n",
    "stk_mk_words = pd.concat([stk_mk_words, df_kospi], axis = 0)\n",
    "stk_mk_words = pd.concat([stk_mk_words, df_kosdaq], axis = 0)\n",
    "\n",
    "stk_mk_words.drop_duplicates(['words'], inplace = True)\n",
    "stk_mk_words.reset_index(drop = True, inplace = True)"
   ]
  },
  {
   "cell_type": "code",
   "execution_count": 62,
   "metadata": {},
   "outputs": [],
   "source": [
    "for i in range(len(stk_mk_words['words'])):\n",
    "    stk_mk_words['words'][i] = re.sub(' ', '', stk_mk_words['words'][i])\n",
    "    stk_mk_words['words'][i] = re.sub(',', '', stk_mk_words['words'][i])"
   ]
  },
  {
   "cell_type": "code",
   "execution_count": 64,
   "metadata": {},
   "outputs": [
    {
     "name": "stdout",
     "output_type": "stream",
     "text": [
      "/home/65223\n"
     ]
    }
   ],
   "source": [
    "cd .."
   ]
  },
  {
   "cell_type": "code",
   "execution_count": 65,
   "metadata": {},
   "outputs": [
    {
     "name": "stdout",
     "output_type": "stream",
     "text": [
      "/home/65223/mecab_new/mecab-ko-dic-2.1.1-20180720\n"
     ]
    }
   ],
   "source": [
    "cd ./mecab_new/mecab-ko-dic-2.1.1-20180720"
   ]
  },
  {
   "cell_type": "code",
   "execution_count": 66,
   "metadata": {},
   "outputs": [],
   "source": [
    "with open(\"./user-dic/nnp.csv\", 'r', encoding='utf-8') as f:\n",
    "    file_data = f.readlines()"
   ]
  },
  {
   "cell_type": "code",
   "execution_count": 67,
   "metadata": {},
   "outputs": [
    {
     "data": {
      "text/plain": [
       "['대우,,,,NNP,*,F,대우,*,*,*,*,*\\n', '구글,,,,NNP,*,T,구글,*,*,*,*,*\\n']"
      ]
     },
     "execution_count": 67,
     "metadata": {},
     "output_type": "execute_result"
    }
   ],
   "source": [
    "file_data"
   ]
  },
  {
   "cell_type": "code",
   "execution_count": 68,
   "metadata": {},
   "outputs": [
    {
     "name": "stdout",
     "output_type": "stream",
     "text": [
      "Looking in indexes: http://172.20.8.21:8081/repository/pypi-repo/simple\r\n",
      "Requirement already satisfied: jamo in /usr/local/lib/python3.6/dist-packages (0.4.1)\r\n"
     ]
    }
   ],
   "source": [
    "!pip install jamo"
   ]
  },
  {
   "cell_type": "code",
   "execution_count": 69,
   "metadata": {},
   "outputs": [],
   "source": [
    "from jamo import h2j, j2hcj \n",
    "\n",
    "def get_jongsung_TF(sample_text): \n",
    "    sample_text_list = list(sample_text) \n",
    "    last_word = sample_text_list[-1] \n",
    "    last_word_jamo_list = list(j2hcj(h2j(last_word))) \n",
    "    last_jamo = last_word_jamo_list[-1] \n",
    "    \n",
    "    jongsung_TF = \"T\" \n",
    "    \n",
    "    if last_jamo in ['ㅏ', 'ㅑ', 'ㅓ', 'ㅕ', 'ㅗ', 'ㅛ', 'ㅜ', 'ㅠ', 'ㅡ', 'ㅣ', 'ㅘ', 'ㅚ', 'ㅙ', 'ㅝ', 'ㅞ', 'ㅢ', 'ㅐ,ㅔ', 'ㅟ', 'ㅖ', 'ㅒ']: \n",
    "        jongsung_TF = \"F\" \n",
    "        \n",
    "    return jongsung_TF"
   ]
  },
  {
   "cell_type": "code",
   "execution_count": 70,
   "metadata": {},
   "outputs": [],
   "source": [
    "with open(\"./user-dic/nnp.csv\", 'r', encoding='utf-8') as f: \n",
    "    file_data = f.readlines() \n",
    "    \n",
    "word_list = list(stk_mk_words['words'])\n",
    "\n",
    "for word in word_list: \n",
    "    jongsung_TF = get_jongsung_TF(word) \n",
    "    \n",
    "    line = '{},,,,NNP,*,{},{},*,*,*,*,*\\n'.format(word, jongsung_TF, word) \n",
    "    \n",
    "    file_data.append(line)"
   ]
  },
  {
   "cell_type": "code",
   "execution_count": 71,
   "metadata": {},
   "outputs": [],
   "source": [
    "with open(\"./user-dic/nnp.csv\", 'w', encoding='utf-8') as f:\n",
    "    for line in file_data:\n",
    "        f.write(line)"
   ]
  },
  {
   "cell_type": "code",
   "execution_count": 72,
   "metadata": {},
   "outputs": [
    {
     "data": {
      "text/plain": [
       "['대우,,,,NNP,*,F,대우,*,*,*,*,*\\n',\n",
       " '구글,,,,NNP,*,T,구글,*,*,*,*,*\\n',\n",
       " '10%휠터룰,,,,NNP,*,T,10%휠터룰,*,*,*,*,*\\n',\n",
       " 'BLUECHIP의요건,,,,NNP,*,T,BLUECHIP의요건,*,*,*,*,*\\n',\n",
       " 'BMF,,,,NNP,*,T,BMF,*,*,*,*,*\\n',\n",
       " 'M1M2M3,,,,NNP,*,T,M1M2M3,*,*,*,*,*\\n',\n",
       " 'MIP,,,,NNP,*,T,MIP,*,*,*,*,*\\n',\n",
       " 'OBV지표,,,,NNP,*,F,OBV지표,*,*,*,*,*\\n',\n",
       " 'OBV지표의해석,,,,NNP,*,T,OBV지표의해석,*,*,*,*,*\\n',\n",
       " 'OBV지표로본매매시점포착방법,,,,NNP,*,T,OBV지표로본매매시점포착방법,*,*,*,*,*\\n',\n",
       " 'Q비율,,,,NNP,*,T,Q비율,*,*,*,*,*\\n',\n",
       " '가격역지정주문,,,,NNP,*,T,가격역지정주문,*,*,*,*,*\\n',\n",
       " '가격우선의원칙,,,,NNP,*,T,가격우선의원칙,*,*,*,*,*\\n',\n",
       " '가수급,,,,NNP,*,T,가수급,*,*,*,*,*\\n',\n",
       " '가장매매,,,,NNP,*,T,가장매매,*,*,*,*,*\\n',\n",
       " '간사회사,,,,NNP,*,F,간사회사,*,*,*,*,*\\n',\n",
       " '감가상각,,,,NNP,*,T,감가상각,*,*,*,*,*\\n',\n",
       " '감리종목,,,,NNP,*,T,감리종목,*,*,*,*,*\\n',\n",
       " '감사의견,,,,NNP,*,T,감사의견,*,*,*,*,*\\n',\n",
       " '감사증명,,,,NNP,*,T,감사증명,*,*,*,*,*\\n',\n",
       " '개방형수익증권,,,,NNP,*,T,개방형수익증권,*,*,*,*,*\\n',\n",
       " '개별경쟁매매,,,,NNP,*,T,개별경쟁매매,*,*,*,*,*\\n',\n",
       " '갱생주가,,,,NNP,*,F,갱생주가,*,*,*,*,*\\n',\n",
       " '거래량이동평균선,,,,NNP,*,T,거래량이동평균선,*,*,*,*,*\\n',\n",
       " '거래량,,,,NNP,*,T,거래량,*,*,*,*,*\\n',\n",
       " '거래량회전율,,,,NNP,*,T,거래량회전율,*,*,*,*,*\\n',\n",
       " '거래소거래,,,,NNP,*,T,거래소거래,*,*,*,*,*\\n',\n",
       " '거액RP,,,,NNP,*,T,거액RP,*,*,*,*,*\\n',\n",
       " '게걸음,,,,NNP,*,T,게걸음,*,*,*,*,*\\n',\n",
       " '결제,,,,NNP,*,T,결제,*,*,*,*,*\\n',\n",
       " '경기예고지표,,,,NNP,*,F,경기예고지표,*,*,*,*,*\\n',\n",
       " '경상손익,,,,NNP,*,T,경상손익,*,*,*,*,*\\n',\n",
       " '경쟁매매,,,,NNP,*,T,경쟁매매,*,*,*,*,*\\n',\n",
       " '경제적부가가치,,,,NNP,*,F,경제적부가가치,*,*,*,*,*\\n',\n",
       " '계절주,,,,NNP,*,F,계절주,*,*,*,*,*\\n',\n",
       " '고가갱신,,,,NNP,*,T,고가갱신,*,*,*,*,*\\n',\n",
       " '고객예탁금,,,,NNP,*,T,고객예탁금,*,*,*,*,*\\n',\n",
       " '고정부채,,,,NNP,*,T,고정부채,*,*,*,*,*\\n',\n",
       " '고정자산,,,,NNP,*,T,고정자산,*,*,*,*,*\\n',\n",
       " '고정주,,,,NNP,*,F,고정주,*,*,*,*,*\\n',\n",
       " '골든크로스,,,,NNP,*,F,골든크로스,*,*,*,*,*\\n',\n",
       " '공개매수,,,,NNP,*,F,공개매수,*,*,*,*,*\\n',\n",
       " '공개법인,,,,NNP,*,T,공개법인,*,*,*,*,*\\n',\n",
       " '공개시장조작,,,,NNP,*,T,공개시장조작,*,*,*,*,*\\n',\n",
       " '공기업,,,,NNP,*,T,공기업,*,*,*,*,*\\n',\n",
       " '공매,,,,NNP,*,T,공매,*,*,*,*,*\\n',\n",
       " '공모,,,,NNP,*,F,공모,*,*,*,*,*\\n',\n",
       " '공모증자,,,,NNP,*,F,공모증자,*,*,*,*,*\\n',\n",
       " '공시,,,,NNP,*,F,공시,*,*,*,*,*\\n',\n",
       " '공시최고,,,,NNP,*,F,공시최고,*,*,*,*,*\\n',\n",
       " '공채,,,,NNP,*,T,공채,*,*,*,*,*\\n',\n",
       " '관리대상감리대상,,,,NNP,*,T,관리대상감리대상,*,*,*,*,*\\n',\n",
       " '관리대상종목,,,,NNP,*,T,관리대상종목,*,*,*,*,*\\n',\n",
       " '관심주,,,,NNP,*,F,관심주,*,*,*,*,*\\n',\n",
       " '교환사채,,,,NNP,*,T,교환사채,*,*,*,*,*\\n',\n",
       " '구주,,,,NNP,*,F,구주,*,*,*,*,*\\n',\n",
       " '국제통화기금,,,,NNP,*,T,국제통화기금,*,*,*,*,*\\n',\n",
       " '권리락,,,,NNP,*,T,권리락,*,*,*,*,*\\n',\n",
       " '글래머주식,,,,NNP,*,T,글래머주식,*,*,*,*,*\\n',\n",
       " '금고주,,,,NNP,*,F,금고주,*,*,*,*,*\\n',\n",
       " '금리선물옵션,,,,NNP,*,T,금리선물옵션,*,*,*,*,*\\n',\n",
       " '금융장세,,,,NNP,*,T,금융장세,*,*,*,*,*\\n',\n",
       " '금융전업기업군,,,,NNP,*,T,금융전업기업군,*,*,*,*,*\\n',\n",
       " '기관투자가,,,,NNP,*,F,기관투자가,*,*,*,*,*\\n',\n",
       " '기관화현상,,,,NNP,*,T,기관화현상,*,*,*,*,*\\n',\n",
       " '기명주식,,,,NNP,*,T,기명주식,*,*,*,*,*\\n',\n",
       " '기세,,,,NNP,*,T,기세,*,*,*,*,*\\n',\n",
       " '기업결합,,,,NNP,*,T,기업결합,*,*,*,*,*\\n',\n",
       " '기업합병.매수,,,,NNP,*,F,기업합병.매수,*,*,*,*,*\\n',\n",
       " '기준일,,,,NNP,*,T,기준일,*,*,*,*,*\\n',\n",
       " '납입자본금,,,,NNP,*,T,납입자본금,*,*,*,*,*\\n',\n",
       " '납회,,,,NNP,*,F,납회,*,*,*,*,*\\n',\n",
       " '내부금융,,,,NNP,*,T,내부금융,*,*,*,*,*\\n',\n",
       " '내부자거래,,,,NNP,*,T,내부자거래,*,*,*,*,*\\n',\n",
       " '내수관련주,,,,NNP,*,F,내수관련주,*,*,*,*,*\\n',\n",
       " '뇌동매매,,,,NNP,*,T,뇌동매매,*,*,*,*,*\\n',\n",
       " '다우이론,,,,NNP,*,T,다우이론,*,*,*,*,*\\n',\n",
       " '단순주가평균,,,,NNP,*,T,단순주가평균,*,*,*,*,*\\n',\n",
       " '단자시장,,,,NNP,*,T,단자시장,*,*,*,*,*\\n',\n",
       " '단자회사,,,,NNP,*,F,단자회사,*,*,*,*,*\\n',\n",
       " '단주,,,,NNP,*,F,단주,*,*,*,*,*\\n',\n",
       " '단주이론,,,,NNP,*,T,단주이론,*,*,*,*,*\\n',\n",
       " '달러평균법,,,,NNP,*,T,달러평균법,*,*,*,*,*\\n',\n",
       " '당일결제거래,,,,NNP,*,T,당일결제거래,*,*,*,*,*\\n',\n",
       " '당일치기,,,,NNP,*,F,당일치기,*,*,*,*,*\\n',\n",
       " '대량매매,,,,NNP,*,T,대량매매,*,*,*,*,*\\n',\n",
       " '대량주식소유의신고,,,,NNP,*,F,대량주식소유의신고,*,*,*,*,*\\n',\n",
       " '대용가격,,,,NNP,*,T,대용가격,*,*,*,*,*\\n',\n",
       " '대용증권,,,,NNP,*,T,대용증권,*,*,*,*,*\\n',\n",
       " '대주,,,,NNP,*,F,대주,*,*,*,*,*\\n',\n",
       " '대체결제,,,,NNP,*,T,대체결제,*,*,*,*,*\\n',\n",
       " '대항매수,,,,NNP,*,F,대항매수,*,*,*,*,*\\n',\n",
       " '데드크로스,,,,NNP,*,F,데드크로스,*,*,*,*,*\\n',\n",
       " '동시호가,,,,NNP,*,F,동시호가,*,*,*,*,*\\n',\n",
       " '등락비율,,,,NNP,*,T,등락비율,*,*,*,*,*\\n',\n",
       " '마셜K,,,,NNP,*,T,마셜K,*,*,*,*,*\\n',\n",
       " '매매약정대금이동평균선,,,,NNP,*,T,매매약정대금이동평균선,*,*,*,*,*\\n',\n",
       " '매출액경상이익률,,,,NNP,*,T,매출액경상이익률,*,*,*,*,*\\n',\n",
       " '매칭펀드,,,,NNP,*,F,매칭펀드,*,*,*,*,*\\n',\n",
       " '명령상장,,,,NNP,*,T,명령상장,*,*,*,*,*\\n',\n",
       " '명의개서,,,,NNP,*,F,명의개서,*,*,*,*,*\\n',\n",
       " '모집,,,,NNP,*,T,모집,*,*,*,*,*\\n',\n",
       " '무배주,,,,NNP,*,F,무배주,*,*,*,*,*\\n',\n",
       " '무상주,,,,NNP,*,F,무상주,*,*,*,*,*\\n',\n",
       " '무의결권주,,,,NNP,*,F,무의결권주,*,*,*,*,*\\n',\n",
       " '물량압박,,,,NNP,*,T,물량압박,*,*,*,*,*\\n',\n",
       " '물타기,,,,NNP,*,F,물타기,*,*,*,*,*\\n',\n",
       " '물탄주식,,,,NNP,*,T,물탄주식,*,*,*,*,*\\n',\n",
       " '미수금,,,,NNP,*,T,미수금,*,*,*,*,*\\n',\n",
       " '바꿔타기,,,,NNP,*,F,바꿔타기,*,*,*,*,*\\n',\n",
       " '박스,,,,NNP,*,F,박스,*,*,*,*,*\\n',\n",
       " '반기보고서,,,,NNP,*,F,반기보고서,*,*,*,*,*\\n',\n",
       " '반대매매,,,,NNP,*,T,반대매매,*,*,*,*,*\\n',\n",
       " '발행가격,,,,NNP,*,T,발행가격,*,*,*,*,*\\n',\n",
       " '발행시장,,,,NNP,*,T,발행시장,*,*,*,*,*\\n',\n",
       " '발회,,,,NNP,*,F,발회,*,*,*,*,*\\n',\n",
       " '배당기산일,,,,NNP,*,T,배당기산일,*,*,*,*,*\\n',\n",
       " '배당락,,,,NNP,*,T,배당락,*,*,*,*,*\\n',\n",
       " '배당성향,,,,NNP,*,T,배당성향,*,*,*,*,*\\n',\n",
       " '배당투자,,,,NNP,*,F,배당투자,*,*,*,*,*\\n',\n",
       " '뱅크론,,,,NNP,*,T,뱅크론,*,*,*,*,*\\n',\n",
       " '버블,,,,NNP,*,T,버블,*,*,*,*,*\\n',\n",
       " '번한지표,,,,NNP,*,F,번한지표,*,*,*,*,*\\n',\n",
       " '베어마켓,,,,NNP,*,T,베어마켓,*,*,*,*,*\\n',\n",
       " '베타,,,,NNP,*,F,베타,*,*,*,*,*\\n',\n",
       " '벤처기업,,,,NNP,*,T,벤처기업,*,*,*,*,*\\n',\n",
       " '병합상장,,,,NNP,*,T,병합상장,*,*,*,*,*\\n',\n",
       " '보장형수익증권,,,,NNP,*,T,보장형수익증권,*,*,*,*,*\\n',\n",
       " '보전매도,,,,NNP,*,F,보전매도,*,*,*,*,*\\n',\n",
       " '보통거래,,,,NNP,*,T,보통거래,*,*,*,*,*\\n',\n",
       " '보통주,,,,NNP,*,F,보통주,*,*,*,*,*\\n',\n",
       " '보합,,,,NNP,*,T,보합,*,*,*,*,*\\n',\n",
       " '볼륨레이쇼,,,,NNP,*,F,볼륨레이쇼,*,*,*,*,*\\n',\n",
       " '부가가치세,,,,NNP,*,T,부가가치세,*,*,*,*,*\\n',\n",
       " '부동주,,,,NNP,*,F,부동주,*,*,*,*,*\\n',\n",
       " '부분전환사채,,,,NNP,*,T,부분전환사채,*,*,*,*,*\\n',\n",
       " '부자시세,,,,NNP,*,T,부자시세,*,*,*,*,*\\n',\n",
       " '분리과세,,,,NNP,*,T,분리과세,*,*,*,*,*\\n',\n",
       " '분산투자,,,,NNP,*,F,분산투자,*,*,*,*,*\\n',\n",
       " '분식결산,,,,NNP,*,T,분식결산,*,*,*,*,*\\n',\n",
       " '불효시세,,,,NNP,*,T,불효시세,*,*,*,*,*\\n',\n",
       " '블루치프,,,,NNP,*,F,블루치프,*,*,*,*,*\\n',\n",
       " '빅뱅,,,,NNP,*,T,빅뱅,*,*,*,*,*\\n',\n",
       " '사업보고서,,,,NNP,*,F,사업보고서,*,*,*,*,*\\n',\n",
       " '사채,,,,NNP,*,T,사채,*,*,*,*,*\\n',\n",
       " '사회간접자본SOC,,,,NNP,*,T,사회간접자본SOC,*,*,*,*,*\\n',\n",
       " '상장,,,,NNP,*,T,상장,*,*,*,*,*\\n',\n",
       " '상투,,,,NNP,*,F,상투,*,*,*,*,*\\n',\n",
       " '상한가<->하한가,,,,NNP,*,F,상한가<->하한가,*,*,*,*,*\\n',\n",
       " '상호주,,,,NNP,*,F,상호주,*,*,*,*,*\\n',\n",
       " '상환주식,,,,NNP,*,T,상환주식,*,*,*,*,*\\n',\n",
       " '선도주,,,,NNP,*,F,선도주,*,*,*,*,*\\n',\n",
       " '선물,,,,NNP,*,T,선물,*,*,*,*,*\\n',\n",
       " '선물거래,,,,NNP,*,T,선물거래,*,*,*,*,*\\n',\n",
       " '선물거래의대상상품,,,,NNP,*,T,선물거래의대상상품,*,*,*,*,*\\n',\n",
       " '선물거래자/투기자,,,,NNP,*,F,선물거래자/투기자,*,*,*,*,*\\n',\n",
       " '선물거래자/헤저,,,,NNP,*,F,선물거래자/헤저,*,*,*,*,*\\n',\n",
       " '선물환,,,,NNP,*,T,선물환,*,*,*,*,*\\n',\n",
       " '선취매,,,,NNP,*,T,선취매,*,*,*,*,*\\n',\n",
       " '섬머랠리,,,,NNP,*,F,섬머랠리,*,*,*,*,*\\n',\n",
       " '성장성분석,,,,NNP,*,T,성장성분석,*,*,*,*,*\\n',\n",
       " '소속부변경,,,,NNP,*,T,소속부변경,*,*,*,*,*\\n',\n",
       " '소액주주,,,,NNP,*,F,소액주주,*,*,*,*,*\\n',\n",
       " '소형주중형주대형주,,,,NNP,*,F,소형주중형주대형주,*,*,*,*,*\\n',\n",
       " '손절매,,,,NNP,*,T,손절매,*,*,*,*,*\\n',\n",
       " '수권자본,,,,NNP,*,T,수권자본,*,*,*,*,*\\n',\n",
       " '수급장세,,,,NNP,*,T,수급장세,*,*,*,*,*\\n',\n",
       " '수도결제,,,,NNP,*,T,수도결제,*,*,*,*,*\\n',\n",
       " '순환매매,,,,NNP,*,T,순환매매,*,*,*,*,*\\n',\n",
       " '스와프,,,,NNP,*,F,스와프,*,*,*,*,*\\n',\n",
       " '스태그플레이션,,,,NNP,*,T,스태그플레이션,*,*,*,*,*\\n',\n",
       " '스파트펀드,,,,NNP,*,F,스파트펀드,*,*,*,*,*\\n',\n",
       " '시가발행,,,,NNP,*,T,시가발행,*,*,*,*,*\\n',\n",
       " '시가총액,,,,NNP,*,T,시가총액,*,*,*,*,*\\n',\n",
       " '시드머니,,,,NNP,*,F,시드머니,*,*,*,*,*\\n',\n",
       " '시세조작,,,,NNP,*,T,시세조작,*,*,*,*,*\\n',\n",
       " '시장대리인,,,,NNP,*,T,시장대리인,*,*,*,*,*\\n',\n",
       " '시장조성,,,,NNP,*,T,시장조성,*,*,*,*,*\\n',\n",
       " '시장평균환율제도,,,,NNP,*,F,시장평균환율제도,*,*,*,*,*\\n',\n",
       " '시초가,,,,NNP,*,F,시초가,*,*,*,*,*\\n',\n",
       " '신디케이트,,,,NNP,*,F,신디케이트,*,*,*,*,*\\n',\n",
       " '신용거래,,,,NNP,*,T,신용거래,*,*,*,*,*\\n',\n",
       " '신종기업어음CP,,,,NNP,*,T,신종기업어음CP,*,*,*,*,*\\n',\n",
       " '신주인수권,,,,NNP,*,T,신주인수권,*,*,*,*,*\\n',\n",
       " '신주인수권부사채,,,,NNP,*,T,신주인수권부사채,*,*,*,*,*\\n',\n",
       " '실권주,,,,NNP,*,F,실권주,*,*,*,*,*\\n',\n",
       " '실기주,,,,NNP,*,F,실기주,*,*,*,*,*\\n',\n",
       " '실적장세,,,,NNP,*,T,실적장세,*,*,*,*,*\\n',\n",
       " '안전성분석,,,,NNP,*,T,안전성분석,*,*,*,*,*\\n',\n",
       " '안정조작,,,,NNP,*,T,안정조작,*,*,*,*,*\\n',\n",
       " '액면분할,,,,NNP,*,T,액면분할,*,*,*,*,*\\n',\n",
       " '약정대금,,,,NNP,*,T,약정대금,*,*,*,*,*\\n',\n",
       " '양건,,,,NNP,*,T,양건,*,*,*,*,*\\n',\n",
       " '양키본드,,,,NNP,*,F,양키본드,*,*,*,*,*\\n',\n",
       " '어음,,,,NNP,*,T,어음,*,*,*,*,*\\n',\n",
       " '어음관리구좌CMA,,,,NNP,*,T,어음관리구좌CMA,*,*,*,*,*\\n',\n",
       " '업종전문화,,,,NNP,*,F,업종전문화,*,*,*,*,*\\n',\n",
       " '에드워드와매기의가정,,,,NNP,*,T,에드워드와매기의가정,*,*,*,*,*\\n',\n",
       " '역시계방향곡선주가거래량상관곡선,,,,NNP,*,T,역시계방향곡선주가거래량상관곡선,*,*,*,*,*\\n',\n",
       " '역외펀드,,,,NNP,*,F,역외펀드,*,*,*,*,*\\n',\n",
       " '연결재무제표,,,,NNP,*,F,연결재무제표,*,*,*,*,*\\n',\n",
       " '영업보고서,,,,NNP,*,F,영업보고서,*,*,*,*,*\\n',\n",
       " '외국인투자한도,,,,NNP,*,F,외국인투자한도,*,*,*,*,*\\n',\n",
       " '외수펀드,,,,NNP,*,F,외수펀드,*,*,*,*,*\\n',\n",
       " '우리사주조합,,,,NNP,*,T,우리사주조합,*,*,*,*,*\\n',\n",
       " '우선주,,,,NNP,*,F,우선주,*,*,*,*,*\\n',\n",
       " '원천징수,,,,NNP,*,F,원천징수,*,*,*,*,*\\n',\n",
       " '월가,,,,NNP,*,F,월가,*,*,*,*,*\\n',\n",
       " '위탁매매,,,,NNP,*,T,위탁매매,*,*,*,*,*\\n',\n",
       " '위탁증거금률신용거래보증금률,,,,NNP,*,T,위탁증거금률신용거래보증금률,*,*,*,*,*\\n',\n",
       " '유동부채,,,,NNP,*,T,유동부채,*,*,*,*,*\\n',\n",
       " '유동비율,,,,NNP,*,T,유동비율,*,*,*,*,*\\n',\n",
       " '유동자산,,,,NNP,*,T,유동자산,*,*,*,*,*\\n',\n",
       " '유로달러,,,,NNP,*,F,유로달러,*,*,*,*,*\\n',\n",
       " '유로본드,,,,NNP,*,F,유로본드,*,*,*,*,*\\n',\n",
       " '유보율,,,,NNP,*,T,유보율,*,*,*,*,*\\n',\n",
       " '유상주,,,,NNP,*,F,유상주,*,*,*,*,*\\n',\n",
       " '이격도,,,,NNP,*,F,이격도,*,*,*,*,*\\n',\n",
       " '이동평균선해석...그랜빌,,,,NNP,*,T,이동평균선해석...그랜빌,*,*,*,*,*\\n',\n",
       " '이동평균선,,,,NNP,*,T,이동평균선,*,*,*,*,*\\n',\n",
       " '이연,,,,NNP,*,T,이연,*,*,*,*,*\\n',\n",
       " '이익잉여금,,,,NNP,*,T,이익잉여금,*,*,*,*,*\\n',\n",
       " '이익준비금,,,,NNP,*,T,이익준비금,*,*,*,*,*\\n',\n",
       " '인기주,,,,NNP,*,F,인기주,*,*,*,*,*\\n',\n",
       " '인컴게인,,,,NNP,*,T,인컴게인,*,*,*,*,*\\n',\n",
       " '인플레헤지,,,,NNP,*,F,인플레헤지,*,*,*,*,*\\n',\n",
       " '일임매매,,,,NNP,*,T,일임매매,*,*,*,*,*\\n',\n",
       " '입회,,,,NNP,*,F,입회,*,*,*,*,*\\n',\n",
       " '자금사정지표,,,,NNP,*,F,자금사정지표,*,*,*,*,*\\n',\n",
       " '자기매매,,,,NNP,*,T,자기매매,*,*,*,*,*\\n',\n",
       " '자기자본,,,,NNP,*,T,자기자본,*,*,*,*,*\\n',\n",
       " '자본,,,,NNP,*,T,자본,*,*,*,*,*\\n',\n",
       " '자본시장,,,,NNP,*,T,자본시장,*,*,*,*,*\\n',\n",
       " '자본잉여금,,,,NNP,*,T,자본잉여금,*,*,*,*,*\\n',\n",
       " '자본자유화,,,,NNP,*,F,자본자유화,*,*,*,*,*\\n',\n",
       " '자본잠식,,,,NNP,*,T,자본잠식,*,*,*,*,*\\n',\n",
       " '자사주,,,,NNP,*,F,자사주,*,*,*,*,*\\n',\n",
       " '자사주펀드,,,,NNP,*,F,자사주펀드,*,*,*,*,*\\n',\n",
       " '자산재평가,,,,NNP,*,F,자산재평가,*,*,*,*,*\\n',\n",
       " '자산주,,,,NNP,*,F,자산주,*,*,*,*,*\\n',\n",
       " '자율반등자율반락,,,,NNP,*,T,자율반등자율반락,*,*,*,*,*\\n',\n",
       " '자전매매,,,,NNP,*,T,자전매매,*,*,*,*,*\\n',\n",
       " '장외시장,,,,NNP,*,T,장외시장,*,*,*,*,*\\n',\n",
       " '재평가적립금,,,,NNP,*,T,재평가적립금,*,*,*,*,*\\n',\n",
       " '재할인율,,,,NNP,*,T,재할인율,*,*,*,*,*\\n',\n",
       " '정크본드,,,,NNP,*,F,정크본드,*,*,*,*,*\\n',\n",
       " '제꼬리배당,,,,NNP,*,T,제꼬리배당,*,*,*,*,*\\n',\n",
       " '종합금융회사,,,,NNP,*,F,종합금융회사,*,*,*,*,*\\n',\n",
       " '종합주가지수,,,,NNP,*,F,종합주가지수,*,*,*,*,*\\n',\n",
       " '주가수익비율,,,,NNP,*,T,주가수익비율,*,*,*,*,*\\n',\n",
       " '주가순자산비율,,,,NNP,*,T,주가순자산비율,*,*,*,*,*\\n',\n",
       " '주가지수선물시장의매매방법등,,,,NNP,*,T,주가지수선물시장의매매방법등,*,*,*,*,*\\n',\n",
       " '주가지수선물필수용어,,,,NNP,*,F,주가지수선물필수용어,*,*,*,*,*\\n',\n",
       " '주가지수선물거래,,,,NNP,*,T,주가지수선물거래,*,*,*,*,*\\n',\n",
       " '주가차별화,,,,NNP,*,F,주가차별화,*,*,*,*,*\\n',\n",
       " '주가캐시플로우비율,,,,NNP,*,T,주가캐시플로우비율,*,*,*,*,*\\n',\n",
       " '주거래은행,,,,NNP,*,T,주거래은행,*,*,*,*,*\\n',\n",
       " '주말효과,,,,NNP,*,F,주말효과,*,*,*,*,*\\n',\n",
       " '주문표,,,,NNP,*,F,주문표,*,*,*,*,*\\n',\n",
       " '주식과채권,,,,NNP,*,T,주식과채권,*,*,*,*,*\\n',\n",
       " '주식매수청구권,,,,NNP,*,T,주식매수청구권,*,*,*,*,*\\n',\n",
       " '주식배당,,,,NNP,*,T,주식배당,*,*,*,*,*\\n',\n",
       " '주식보유조합,,,,NNP,*,T,주식보유조합,*,*,*,*,*\\n',\n",
       " '주식예탁증서DR,,,,NNP,*,T,주식예탁증서DR,*,*,*,*,*\\n',\n",
       " '주주총회,,,,NNP,*,F,주주총회,*,*,*,*,*\\n',\n",
       " '증권거래세,,,,NNP,*,T,증권거래세,*,*,*,*,*\\n',\n",
       " '증금공모주청약예금,,,,NNP,*,T,증금공모주청약예금,*,*,*,*,*\\n',\n",
       " '지지선과저항선,,,,NNP,*,T,지지선과저항선,*,*,*,*,*\\n',\n",
       " '직상장,,,,NNP,*,T,직상장,*,*,*,*,*\\n',\n",
       " '집중투자,,,,NNP,*,F,집중투자,*,*,*,*,*\\n',\n",
       " '추세선,,,,NNP,*,T,추세선,*,*,*,*,*\\n',\n",
       " '추세전환,,,,NNP,*,T,추세전환,*,*,*,*,*\\n',\n",
       " '캐시플로우,,,,NNP,*,F,캐시플로우,*,*,*,*,*\\n',\n",
       " '캐피탈게인,,,,NNP,*,T,캐피탈게인,*,*,*,*,*\\n',\n",
       " '코리아펀드코리아유로펀드,,,,NNP,*,F,코리아펀드코리아유로펀드,*,*,*,*,*\\n',\n",
       " '콜시장,,,,NNP,*,T,콜시장,*,*,*,*,*\\n',\n",
       " '콜옵션,,,,NNP,*,T,콜옵션,*,*,*,*,*\\n',\n",
       " '클라이맥스지표,,,,NNP,*,F,클라이맥스지표,*,*,*,*,*\\n',\n",
       " '타입대,,,,NNP,*,T,타입대,*,*,*,*,*\\n',\n",
       " '테마주,,,,NNP,*,F,테마주,*,*,*,*,*\\n',\n",
       " '통화안정증권,,,,NNP,*,T,통화안정증권,*,*,*,*,*\\n',\n",
       " '투매,,,,NNP,*,T,투매,*,*,*,*,*\\n',\n",
       " '투자상담사,,,,NNP,*,F,투자상담사,*,*,*,*,*\\n',\n",
       " '트로이카주,,,,NNP,*,F,트로이카주,*,*,*,*,*\\n',\n",
       " '파생금융상품,,,,NNP,*,T,파생금융상품,*,*,*,*,*\\n',\n",
       " '펀드,,,,NNP,*,F,펀드,*,*,*,*,*\\n',\n",
       " '포뮬러플랜,,,,NNP,*,T,포뮬러플랜,*,*,*,*,*\\n',\n",
       " '포트폴리오,,,,NNP,*,F,포트폴리오,*,*,*,*,*\\n',\n",
       " '표지어음,,,,NNP,*,T,표지어음,*,*,*,*,*\\n',\n",
       " '프라임레이트,,,,NNP,*,F,프라임레이트,*,*,*,*,*\\n',\n",
       " '프로그램매매,,,,NNP,*,T,프로그램매매,*,*,*,*,*\\n',\n",
       " '피셔효과,,,,NNP,*,F,피셔효과,*,*,*,*,*\\n',\n",
       " '필터이론,,,,NNP,*,T,필터이론,*,*,*,*,*\\n',\n",
       " '해외전환사채,,,,NNP,*,T,해외전환사채,*,*,*,*,*\\n',\n",
       " '해외증권,,,,NNP,*,T,해외증권,*,*,*,*,*\\n',\n",
       " '헤징,,,,NNP,*,T,헤징,*,*,*,*,*\\n',\n",
       " '현물시장과선물시장의차이,,,,NNP,*,F,현물시장과선물시장의차이,*,*,*,*,*\\n',\n",
       " '호재악재,,,,NNP,*,T,호재악재,*,*,*,*,*\\n',\n",
       " '선물거래,,,,NNP,*,T,선물거래,*,*,*,*,*\\n',\n",
       " '현물거래,,,,NNP,*,T,현물거래,*,*,*,*,*\\n',\n",
       " '동학개미,,,,NNP,*,F,동학개미,*,*,*,*,*\\n',\n",
       " '서학개미,,,,NNP,*,F,서학개미,*,*,*,*,*\\n',\n",
       " '동학개미운동,,,,NNP,*,T,동학개미운동,*,*,*,*,*\\n',\n",
       " '서학개미운동,,,,NNP,*,T,서학개미운동,*,*,*,*,*\\n',\n",
       " '주도주,,,,NNP,*,F,주도주,*,*,*,*,*\\n',\n",
       " '동전주,,,,NNP,*,F,동전주,*,*,*,*,*\\n',\n",
       " '지폐주,,,,NNP,*,F,지폐주,*,*,*,*,*\\n',\n",
       " '품절주,,,,NNP,*,F,품절주,*,*,*,*,*\\n',\n",
       " '테마주,,,,NNP,*,F,테마주,*,*,*,*,*\\n',\n",
       " '종목명,,,,NNP,*,T,종목명,*,*,*,*,*\\n',\n",
       " '스윙,,,,NNP,*,T,스윙,*,*,*,*,*\\n',\n",
       " 'PER,,,,NNP,*,T,PER,*,*,*,*,*\\n',\n",
       " 'PBR,,,,NNP,*,T,PBR,*,*,*,*,*\\n',\n",
       " '따상,,,,NNP,*,T,따상,*,*,*,*,*\\n',\n",
       " '따따상,,,,NNP,*,T,따따상,*,*,*,*,*\\n',\n",
       " '쩜상,,,,NNP,*,T,쩜상,*,*,*,*,*\\n',\n",
       " '쩜하,,,,NNP,*,F,쩜하,*,*,*,*,*\\n',\n",
       " '시총,,,,NNP,*,T,시총,*,*,*,*,*\\n',\n",
       " '투자주의,,,,NNP,*,F,투자주의,*,*,*,*,*\\n',\n",
       " '투자경고,,,,NNP,*,F,투자경고,*,*,*,*,*\\n',\n",
       " '코스피,,,,NNP,*,F,코스피,*,*,*,*,*\\n',\n",
       " '코스닥,,,,NNP,*,T,코스닥,*,*,*,*,*\\n',\n",
       " '이데일리,,,,NNP,*,F,이데일리,*,*,*,*,*\\n',\n",
       " '머니투데이,,,,NNP,*,F,머니투데이,*,*,*,*,*\\n',\n",
       " '연합뉴스,,,,NNP,*,F,연합뉴스,*,*,*,*,*\\n',\n",
       " '인포스탁,,,,NNP,*,T,인포스탁,*,*,*,*,*\\n',\n",
       " '매일경제,,,,NNP,*,T,매일경제,*,*,*,*,*\\n',\n",
       " '한경닷컴,,,,NNP,*,T,한경닷컴,*,*,*,*,*\\n',\n",
       " 'FICC,,,,NNP,*,T,FICC,*,*,*,*,*\\n',\n",
       " '투자전략,,,,NNP,*,T,투자전략,*,*,*,*,*\\n',\n",
       " '해외주식,,,,NNP,*,T,해외주식,*,*,*,*,*\\n',\n",
       " '자산관리,,,,NNP,*,F,자산관리,*,*,*,*,*\\n',\n",
       " '아시아경제,,,,NNP,*,T,아시아경제,*,*,*,*,*\\n',\n",
       " '뉴스핌,,,,NNP,*,T,뉴스핌,*,*,*,*,*\\n',\n",
       " '파이낸셜,,,,NNP,*,T,파이낸셜,*,*,*,*,*\\n',\n",
       " '이투데이,,,,NNP,*,F,이투데이,*,*,*,*,*\\n',\n",
       " '헤럴드경제,,,,NNP,*,T,헤럴드경제,*,*,*,*,*\\n',\n",
       " '조선경제,,,,NNP,*,T,조선경제,*,*,*,*,*\\n',\n",
       " '모닝미팅브리프,,,,NNP,*,F,모닝미팅브리프,*,*,*,*,*\\n',\n",
       " '서울경제,,,,NNP,*,T,서울경제,*,*,*,*,*\\n',\n",
       " '코넥스,,,,NNP,*,F,코넥스,*,*,*,*,*\\n',\n",
       " 'NSP통신,,,,NNP,*,T,NSP통신,*,*,*,*,*\\n',\n",
       " '금현물,,,,NNP,*,T,금현물,*,*,*,*,*\\n',\n",
       " '채권공시,,,,NNP,*,F,채권공시,*,*,*,*,*\\n',\n",
       " '타임앤포인트,,,,NNP,*,F,타임앤포인트,*,*,*,*,*\\n',\n",
       " 'IRGO,,,,NNP,*,T,IRGO,*,*,*,*,*\\n',\n",
       " '아이투자,,,,NNP,*,F,아이투자,*,*,*,*,*\\n',\n",
       " '톰슨로이터,,,,NNP,*,F,톰슨로이터,*,*,*,*,*\\n',\n",
       " '기계·장비,,,,NNP,*,F,기계·장비,*,*,*,*,*\\n',\n",
       " '금융,,,,NNP,*,T,금융,*,*,*,*,*\\n',\n",
       " '반도체,,,,NNP,*,T,반도체,*,*,*,*,*\\n',\n",
       " '통신장비,,,,NNP,*,F,통신장비,*,*,*,*,*\\n',\n",
       " '운송장비·부품,,,,NNP,*,T,운송장비·부품,*,*,*,*,*\\n',\n",
       " '방송서비스,,,,NNP,*,F,방송서비스,*,*,*,*,*\\n',\n",
       " '유통,,,,NNP,*,T,유통,*,*,*,*,*\\n',\n",
       " '제약,,,,NNP,*,T,제약,*,*,*,*,*\\n',\n",
       " '디지털컨텐츠,,,,NNP,*,F,디지털컨텐츠,*,*,*,*,*\\n',\n",
       " '화학,,,,NNP,*,T,화학,*,*,*,*,*\\n',\n",
       " '기타서비스,,,,NNP,*,F,기타서비스,*,*,*,*,*\\n',\n",
       " '건설,,,,NNP,*,T,건설,*,*,*,*,*\\n',\n",
       " '섬유·의류,,,,NNP,*,F,섬유·의류,*,*,*,*,*\\n',\n",
       " '일반전기전자,,,,NNP,*,F,일반전기전자,*,*,*,*,*\\n',\n",
       " '오락·문화,,,,NNP,*,F,오락·문화,*,*,*,*,*\\n',\n",
       " '금속,,,,NNP,*,T,금속,*,*,*,*,*\\n',\n",
       " '소프트웨어,,,,NNP,*,F,소프트웨어,*,*,*,*,*\\n',\n",
       " 'IT부품,,,,NNP,*,T,IT부품,*,*,*,*,*\\n',\n",
       " '출판·매체복제,,,,NNP,*,T,출판·매체복제,*,*,*,*,*\\n',\n",
       " '기타제조,,,,NNP,*,F,기타제조,*,*,*,*,*\\n',\n",
       " '비금속,,,,NNP,*,T,비금속,*,*,*,*,*\\n',\n",
       " '인터넷,,,,NNP,*,T,인터넷,*,*,*,*,*\\n',\n",
       " '정보기기,,,,NNP,*,F,정보기기,*,*,*,*,*\\n',\n",
       " '음식료·담배,,,,NNP,*,T,음식료·담배,*,*,*,*,*\\n',\n",
       " '종이·목재,,,,NNP,*,T,종이·목재,*,*,*,*,*\\n',\n",
       " '의료·정밀기기,,,,NNP,*,F,의료·정밀기기,*,*,*,*,*\\n',\n",
       " '통신서비스,,,,NNP,*,F,통신서비스,*,*,*,*,*\\n',\n",
       " '농업임업및어업,,,,NNP,*,T,농업임업및어업,*,*,*,*,*\\n',\n",
       " '컴퓨터서비스,,,,NNP,*,F,컴퓨터서비스,*,*,*,*,*\\n',\n",
       " '숙박·음식,,,,NNP,*,T,숙박·음식,*,*,*,*,*\\n',\n",
       " '운송,,,,NNP,*,T,운송,*,*,*,*,*\\n',\n",
       " '광업,,,,NNP,*,T,광업,*,*,*,*,*\\n',\n",
       " '전기·가스·수도,,,,NNP,*,F,전기·가스·수도,*,*,*,*,*\\n',\n",
       " '서비스업,,,,NNP,*,T,서비스업,*,*,*,*,*\\n',\n",
       " '기타금융,,,,NNP,*,T,기타금융,*,*,*,*,*\\n',\n",
       " '유통업,,,,NNP,*,T,유통업,*,*,*,*,*\\n',\n",
       " '섬유의복,,,,NNP,*,T,섬유의복,*,*,*,*,*\\n',\n",
       " '운수창고업,,,,NNP,*,T,운수창고업,*,*,*,*,*\\n',\n",
       " '음식료품,,,,NNP,*,T,음식료품,*,*,*,*,*\\n',\n",
       " '증권,,,,NNP,*,T,증권,*,*,*,*,*\\n',\n",
       " '보험,,,,NNP,*,T,보험,*,*,*,*,*\\n',\n",
       " '전기전자,,,,NNP,*,F,전기전자,*,*,*,*,*\\n',\n",
       " '건설업,,,,NNP,*,T,건설업,*,*,*,*,*\\n',\n",
       " '철강금속,,,,NNP,*,T,철강금속,*,*,*,*,*\\n',\n",
       " '기계,,,,NNP,*,F,기계,*,*,*,*,*\\n',\n",
       " '의약품,,,,NNP,*,T,의약품,*,*,*,*,*\\n',\n",
       " '비금속광물,,,,NNP,*,T,비금속광물,*,*,*,*,*\\n',\n",
       " '운수장비,,,,NNP,*,F,운수장비,*,*,*,*,*\\n',\n",
       " '통신업,,,,NNP,*,T,통신업,*,*,*,*,*\\n',\n",
       " '기타제조업,,,,NNP,*,T,기타제조업,*,*,*,*,*\\n',\n",
       " '전기가스업,,,,NNP,*,T,전기가스업,*,*,*,*,*\\n',\n",
       " '종이목재,,,,NNP,*,T,종이목재,*,*,*,*,*\\n',\n",
       " '은행,,,,NNP,*,T,은행,*,*,*,*,*\\n',\n",
       " '의료정밀,,,,NNP,*,T,의료정밀,*,*,*,*,*\\n',\n",
       " '관련주,,,,NNP,*,F,관련주,*,*,*,*,*\\n',\n",
       " '2차전지,,,,NNP,*,F,2차전지,*,*,*,*,*\\n',\n",
       " '신규상장,,,,NNP,*,T,신규상장,*,*,*,*,*\\n',\n",
       " '농업,,,,NNP,*,T,농업,*,*,*,*,*\\n',\n",
       " '코로나19,,,,NNP,*,T,코로나19,*,*,*,*,*\\n',\n",
       " '남북경협,,,,NNP,*,T,남북경협,*,*,*,*,*\\n',\n",
       " '태풍및장마,,,,NNP,*,F,태풍및장마,*,*,*,*,*\\n',\n",
       " '비료,,,,NNP,*,F,비료,*,*,*,*,*\\n',\n",
       " 'mRNA,,,,NNP,*,T,mRNA,*,*,*,*,*\\n',\n",
       " '사료,,,,NNP,*,F,사료,*,*,*,*,*\\n',\n",
       " '백화점,,,,NNP,*,T,백화점,*,*,*,*,*\\n',\n",
       " '영화,,,,NNP,*,F,영화,*,*,*,*,*\\n',\n",
       " 'K-뉴딜지수,,,,NNP,*,F,K-뉴딜지수,*,*,*,*,*\\n',\n",
       " '카카오뱅크관련주,,,,NNP,*,F,카카오뱅크관련주,*,*,*,*,*\\n',\n",
       " '바이오시밀러,,,,NNP,*,F,바이오시밀러,*,*,*,*,*\\n',\n",
       " '모바일솔루션,,,,NNP,*,T,모바일솔루션,*,*,*,*,*\\n',\n",
       " '아스콘,,,,NNP,*,T,아스콘,*,*,*,*,*\\n',\n",
       " '日수출규제,,,,NNP,*,T,日수출규제,*,*,*,*,*\\n',\n",
       " '구충제,,,,NNP,*,T,구충제,*,*,*,*,*\\n',\n",
       " '조림사업,,,,NNP,*,T,조림사업,*,*,*,*,*\\n',\n",
       " '온실가스,,,,NNP,*,F,온실가스,*,*,*,*,*\\n',\n",
       " '제대혈,,,,NNP,*,T,제대혈,*,*,*,*,*\\n',\n",
       " '가상현실,,,,NNP,*,T,가상현실,*,*,*,*,*\\n',\n",
       " '아프리카돼지열병,,,,NNP,*,T,아프리카돼지열병,*,*,*,*,*\\n',\n",
       " '면세점,,,,NNP,*,T,면세점,*,*,*,*,*\\n',\n",
       " '핵융합에너지,,,,NNP,*,F,핵융합에너지,*,*,*,*,*\\n',\n",
       " '슈퍼박테리아,,,,NNP,*,F,슈퍼박테리아,*,*,*,*,*\\n',\n",
       " '시멘트,,,,NNP,*,F,시멘트,*,*,*,*,*\\n',\n",
       " '레미콘,,,,NNP,*,T,레미콘,*,*,*,*,*\\n',\n",
       " '백신,,,,NNP,*,T,백신,*,*,*,*,*\\n',\n",
       " '진단시약,,,,NNP,*,T,진단시약,*,*,*,*,*\\n',\n",
       " '음원,,,,NNP,*,T,음원,*,*,*,*,*\\n',\n",
       " '음반,,,,NNP,*,T,음반,*,*,*,*,*\\n',\n",
       " '음성인식,,,,NNP,*,T,음성인식,*,*,*,*,*\\n',\n",
       " '엔터테인먼트,,,,NNP,*,F,엔터테인먼트,*,*,*,*,*\\n',\n",
       " '항공,,,,NNP,*,T,항공,*,*,*,*,*\\n',\n",
       " '저가항공사,,,,NNP,*,F,저가항공사,*,*,*,*,*\\n',\n",
       " '원자력발전소해체,,,,NNP,*,T,원자력발전소해체,*,*,*,*,*\\n',\n",
       " '콜드체인,,,,NNP,*,T,콜드체인,*,*,*,*,*\\n',\n",
       " '항공기부품,,,,NNP,*,T,항공기부품,*,*,*,*,*\\n',\n",
       " '증강현실,,,,NNP,*,T,증강현실,*,*,*,*,*\\n',\n",
       " '육계,,,,NNP,*,F,육계,*,*,*,*,*\\n',\n",
       " 'GTX,,,,NNP,*,T,GTX,*,*,*,*,*\\n',\n",
       " 'PCB,,,,NNP,*,T,PCB,*,*,*,*,*\\n',\n",
       " '해저터널,,,,NNP,*,T,해저터널,*,*,*,*,*\\n',\n",
       " '패션,,,,NNP,*,T,패션,*,*,*,*,*\\n',\n",
       " '의류,,,,NNP,*,F,의류,*,*,*,*,*\\n',\n",
       " '골프,,,,NNP,*,F,골프,*,*,*,*,*\\n',\n",
       " '테마파크,,,,NNP,*,F,테마파크,*,*,*,*,*\\n',\n",
       " '수소차,,,,NNP,*,F,수소차,*,*,*,*,*\\n',\n",
       " '치매,,,,NNP,*,T,치매,*,*,*,*,*\\n',\n",
       " '3D낸드,,,,NNP,*,F,3D낸드,*,*,*,*,*\\n',\n",
       " '희귀금속,,,,NNP,*,T,희귀금속,*,*,*,*,*\\n',\n",
       " '제약업체,,,,NNP,*,T,제약업체,*,*,*,*,*\\n',\n",
       " '공작기계,,,,NNP,*,F,공작기계,*,*,*,*,*\\n',\n",
       " '스마트팩토리,,,,NNP,*,F,스마트팩토리,*,*,*,*,*\\n',\n",
       " '전자파,,,,NNP,*,F,전자파,*,*,*,*,*\\n',\n",
       " '우주항공산업,,,,NNP,*,T,우주항공산업,*,*,*,*,*\\n',\n",
       " '셰일가스,,,,NNP,*,F,셰일가스,*,*,*,*,*\\n',\n",
       " '터치패널,,,,NNP,*,T,터치패널,*,*,*,*,*\\n',\n",
       " '반도체재료,,,,NNP,*,F,반도체재료,*,*,*,*,*\\n',\n",
       " '부품,,,,NNP,*,T,부품,*,*,*,*,*\\n',\n",
       " '플렉서블디스플레이,,,,NNP,*,F,플렉서블디스플레이,*,*,*,*,*\\n',\n",
       " '해운,,,,NNP,*,T,해운,*,*,*,*,*\\n',\n",
       " '태블릿PC,,,,NNP,*,T,태블릿PC,*,*,*,*,*\\n',\n",
       " '메르스코로나바이러스,,,,NNP,*,F,메르스코로나바이러스,*,*,*,*,*\\n',\n",
       " '토스관련주,,,,NNP,*,F,토스관련주,*,*,*,*,*\\n',\n",
       " '스포츠행사수혜,,,,NNP,*,F,스포츠행사수혜,*,*,*,*,*\\n',\n",
       " '편의점,,,,NNP,*,T,편의점,*,*,*,*,*\\n',\n",
       " '구제역,,,,NNP,*,T,구제역,*,*,*,*,*\\n',\n",
       " '광우병수혜,,,,NNP,*,F,광우병수혜,*,*,*,*,*\\n',\n",
       " '전력저장장치,,,,NNP,*,F,전력저장장치,*,*,*,*,*\\n',\n",
       " '여행,,,,NNP,*,T,여행,*,*,*,*,*\\n',\n",
       " '소모성자재구매대행,,,,NNP,*,T,소모성자재구매대행,*,*,*,*,*\\n',\n",
       " '3D프린터,,,,NNP,*,F,3D프린터,*,*,*,*,*\\n',\n",
       " '보톡스,,,,NNP,*,F,보톡스,*,*,*,*,*\\n',\n",
       " '음식료업종,,,,NNP,*,T,음식료업종,*,*,*,*,*\\n',\n",
       " '인터넷은행,,,,NNP,*,T,인터넷은행,*,*,*,*,*\\n',\n",
       " '전자결제,,,,NNP,*,T,전자결제,*,*,*,*,*\\n',\n",
       " '강관업체,,,,NNP,*,T,강관업체,*,*,*,*,*\\n',\n",
       " '제4이동통신,,,,NNP,*,T,제4이동통신,*,*,*,*,*\\n',\n",
       " '화장품,,,,NNP,*,T,화장품,*,*,*,*,*\\n',\n",
       " 'SSD,,,,NNP,*,T,SSD,*,*,*,*,*\\n',\n",
       " '건설기계,,,,NNP,*,F,건설기계,*,*,*,*,*\\n',\n",
       " '기업인수목적회사,,,,NNP,*,F,기업인수목적회사,*,*,*,*,*\\n',\n",
       " 'OLED,,,,NNP,*,T,OLED,*,*,*,*,*\\n',\n",
       " '원자력발전,,,,NNP,*,T,원자력발전,*,*,*,*,*\\n',\n",
       " '줄기세포,,,,NNP,*,F,줄기세포,*,*,*,*,*\\n',\n",
       " '클라우드컴퓨팅,,,,NNP,*,T,클라우드컴퓨팅,*,*,*,*,*\\n',\n",
       " '무선충전기술,,,,NNP,*,T,무선충전기술,*,*,*,*,*\\n',\n",
       " '그래핀,,,,NNP,*,T,그래핀,*,*,*,*,*\\n',\n",
       " 'LCD부품,,,,NNP,*,T,LCD부품,*,*,*,*,*\\n',\n",
       " '소재,,,,NNP,*,T,소재,*,*,*,*,*\\n',\n",
       " '고령화사회,,,,NNP,*,F,고령화사회,*,*,*,*,*\\n',\n",
       " '수자원,,,,NNP,*,T,수자원,*,*,*,*,*\\n',\n",
       " 'LNG,,,,NNP,*,T,LNG,*,*,*,*,*\\n',\n",
       " '모바일콘텐츠,,,,NNP,*,F,모바일콘텐츠,*,*,*,*,*\\n',\n",
       " '사물인터넷,,,,NNP,*,T,사물인터넷,*,*,*,*,*\\n',\n",
       " '전기차,,,,NNP,*,F,전기차,*,*,*,*,*\\n',\n",
       " '日제품불매운동,,,,NNP,*,T,日제품불매운동,*,*,*,*,*\\n',\n",
       " '폴더블폰,,,,NNP,*,T,폴더블폰,*,*,*,*,*\\n',\n",
       " '비철금속,,,,NNP,*,T,비철금속,*,*,*,*,*\\n',\n",
       " '수산,,,,NNP,*,T,수산,*,*,*,*,*\\n',\n",
       " '리츠,,,,NNP,*,F,리츠,*,*,*,*,*\\n',\n",
       " '자율주행차,,,,NNP,*,F,자율주행차,*,*,*,*,*\\n',\n",
       " '제지,,,,NNP,*,F,제지,*,*,*,*,*\\n',\n",
       " '갤럭시부품주,,,,NNP,*,F,갤럭시부품주,*,*,*,*,*\\n',\n",
       " '건강기능식품,,,,NNP,*,T,건강기능식품,*,*,*,*,*\\n',\n",
       " 'LCD장비,,,,NNP,*,F,LCD장비,*,*,*,*,*\\n',\n",
       " '환율하락수혜,,,,NNP,*,F,환율하락수혜,*,*,*,*,*\\n',\n",
       " '아이폰,,,,NNP,*,T,아이폰,*,*,*,*,*\\n',\n",
       " 'U-Healthcare,,,,NNP,*,T,U-Healthcare,*,*,*,*,*\\n',\n",
       " '게임,,,,NNP,*,T,게임,*,*,*,*,*\\n',\n",
       " '건설중소형,,,,NNP,*,T,건설중소형,*,*,*,*,*\\n',\n",
       " '소매유통,,,,NNP,*,T,소매유통,*,*,*,*,*\\n',\n",
       " '지주사,,,,NNP,*,F,지주사,*,*,*,*,*\\n',\n",
       " '선박평형수처리장치,,,,NNP,*,F,선박평형수처리장치,*,*,*,*,*\\n',\n",
       " '스마트홈,,,,NNP,*,T,스마트홈,*,*,*,*,*\\n',\n",
       " '여름,,,,NNP,*,T,여름,*,*,*,*,*\\n',\n",
       " '풍력에너지,,,,NNP,*,F,풍력에너지,*,*,*,*,*\\n',\n",
       " '겨울,,,,NNP,*,T,겨울,*,*,*,*,*\\n',\n",
       " '두나무관련주,,,,NNP,*,F,두나무관련주,*,*,*,*,*\\n',\n",
       " '마리화나,,,,NNP,*,F,마리화나,*,*,*,*,*\\n',\n",
       " 'CCTV＆DVR,,,,NNP,*,T,CCTV＆DVR,*,*,*,*,*\\n',\n",
       " '영상콘텐츠,,,,NNP,*,F,영상콘텐츠,*,*,*,*,*\\n',\n",
       " '건설대표주,,,,NNP,*,F,건설대표주,*,*,*,*,*\\n',\n",
       " 'MLCC,,,,NNP,*,T,MLCC,*,*,*,*,*\\n',\n",
       " '스마트폰,,,,NNP,*,T,스마트폰,*,*,*,*,*\\n',\n",
       " '황사,,,,NNP,*,F,황사,*,*,*,*,*\\n',\n",
       " '미세먼지,,,,NNP,*,F,미세먼지,*,*,*,*,*\\n',\n",
       " '모바일게임,,,,NNP,*,T,모바일게임,*,*,*,*,*\\n',\n",
       " '광고,,,,NNP,*,F,광고,*,*,*,*,*\\n',\n",
       " '주류업,,,,NNP,*,T,주류업,*,*,*,*,*\\n',\n",
       " '보안주,,,,NNP,*,F,보안주,*,*,*,*,*\\n',\n",
       " 'NI,,,,NNP,*,T,NI,*,*,*,*,*\\n',\n",
       " '페인트,,,,NNP,*,F,페인트,*,*,*,*,*\\n',\n",
       " '키오스크,,,,NNP,*,F,키오스크,*,*,*,*,*\\n',\n",
       " '태양광에너지,,,,NNP,*,F,태양광에너지,*,*,*,*,*\\n',\n",
       " '석유화학,,,,NNP,*,T,석유화학,*,*,*,*,*\\n',\n",
       " '손해보험,,,,NNP,*,T,손해보험,*,*,*,*,*\\n',\n",
       " '철강중소형,,,,NNP,*,T,철강중소형,*,*,*,*,*\\n',\n",
       " '국내상장중국기업,,,,NNP,*,T,국내상장중국기업,*,*,*,*,*\\n',\n",
       " '자동차대표주,,,,NNP,*,F,자동차대표주,*,*,*,*,*\\n',\n",
       " '스마트카,,,,NNP,*,F,스마트카,*,*,*,*,*\\n',\n",
       " '반도체장비,,,,NNP,*,F,반도체장비,*,*,*,*,*\\n',\n",
       " '차량용블랙박스,,,,NNP,*,F,차량용블랙박스,*,*,*,*,*\\n',\n",
       " '생명보험,,,,NNP,*,T,생명보험,*,*,*,*,*\\n',\n",
       " '삼성페이,,,,NNP,*,F,삼성페이,*,*,*,*,*\\n',\n",
       " '밥솥,,,,NNP,*,T,밥솥,*,*,*,*,*\\n',\n",
       " '전기자전거,,,,NNP,*,F,전기자전거,*,*,*,*,*\\n',\n",
       " '조선기자재,,,,NNP,*,T,조선기자재,*,*,*,*,*\\n',\n",
       " '도시가스,,,,NNP,*,F,도시가스,*,*,*,*,*\\n',\n",
       " '지능형로봇,,,,NNP,*,T,지능형로봇,*,*,*,*,*\\n',\n",
       " '인공지능,,,,NNP,*,T,인공지능,*,*,*,*,*\\n',\n",
       " '방위산업,,,,NNP,*,T,방위산업,*,*,*,*,*\\n',\n",
       " '전쟁및테러,,,,NNP,*,F,전쟁및테러,*,*,*,*,*\\n',\n",
       " '반도체대표주,,,,NNP,*,F,반도체대표주,*,*,*,*,*\\n',\n",
       " '유전자치료제,,,,NNP,*,T,유전자치료제,*,*,*,*,*\\n',\n",
       " '분석,,,,NNP,*,T,분석,*,*,*,*,*\\n',\n",
       " '자동차부품,,,,NNP,*,T,자동차부품,*,*,*,*,*\\n',\n",
       " '의료기기,,,,NNP,*,F,의료기기,*,*,*,*,*\\n',\n",
       " '통신,,,,NNP,*,T,통신,*,*,*,*,*\\n',\n",
       " '치아치료,,,,NNP,*,F,치아치료,*,*,*,*,*\\n',\n",
       " '핀테크,,,,NNP,*,F,핀테크,*,*,*,*,*\\n',\n",
       " '바이오인식,,,,NNP,*,T,바이오인식,*,*,*,*,*\\n',\n",
       " '남-북-러가스관사업,,,,NNP,*,T,남-북-러가스관사업,*,*,*,*,*\\n',\n",
       " '시스템반도체,,,,NNP,*,T,시스템반도체,*,*,*,*,*\\n',\n",
       " '화학섬유,,,,NNP,*,F,화학섬유,*,*,*,*,*\\n',\n",
       " '타이어,,,,NNP,*,F,타이어,*,*,*,*,*\\n',\n",
       " '자원개발,,,,NNP,*,T,자원개발,*,*,*,*,*\\n',\n",
       " 'LPG,,,,NNP,*,T,LPG,*,*,*,*,*\\n',\n",
       " '홈쇼핑,,,,NNP,*,T,홈쇼핑,*,*,*,*,*\\n',\n",
       " '휴대폰부품,,,,NNP,*,T,휴대폰부품,*,*,*,*,*\\n',\n",
       " 'DMZ평화공원,,,,NNP,*,T,DMZ평화공원,*,*,*,*,*\\n',\n",
       " 'LED,,,,NNP,*,T,LED,*,*,*,*,*\\n',\n",
       " '화폐,,,,NNP,*,F,화폐,*,*,*,*,*\\n',\n",
       " '금융자동화기기,,,,NNP,*,F,금융자동화기기,*,*,*,*,*\\n',\n",
       " '북한광물자원개발,,,,NNP,*,T,북한광물자원개발,*,*,*,*,*\\n',\n",
       " '야놀자관련주,,,,NNP,*,F,야놀자관련주,*,*,*,*,*\\n',\n",
       " '재난,,,,NNP,*,T,재난,*,*,*,*,*\\n',\n",
       " '안전,,,,NNP,*,T,안전,*,*,*,*,*\\n',\n",
       " '가상화폐,,,,NNP,*,F,가상화폐,*,*,*,*,*\\n',\n",
       " '조선,,,,NNP,*,T,조선,*,*,*,*,*\\n',\n",
       " '리모델링,,,,NNP,*,T,리모델링,*,*,*,*,*\\n',\n",
       " '인테리어,,,,NNP,*,F,인테리어,*,*,*,*,*\\n',\n",
       " '면역항암제,,,,NNP,*,T,면역항암제,*,*,*,*,*\\n',\n",
       " 'LCDBLU제조,,,,NNP,*,F,LCDBLU제조,*,*,*,*,*\\n',\n",
       " '4차산업수혜주,,,,NNP,*,F,4차산업수혜주,*,*,*,*,*\\n',\n",
       " '폐기물처리,,,,NNP,*,F,폐기물처리,*,*,*,*,*\\n',\n",
       " '마켓컬리관련주,,,,NNP,*,F,마켓컬리관련주,*,*,*,*,*\\n',\n",
       " '종합상사,,,,NNP,*,F,종합상사,*,*,*,*,*\\n',\n",
       " 'SI,,,,NNP,*,T,SI,*,*,*,*,*\\n',\n",
       " '정유,,,,NNP,*,F,정유,*,*,*,*,*\\n',\n",
       " '마스크,,,,NNP,*,F,마스크,*,*,*,*,*\\n',\n",
       " '철강주요종목,,,,NNP,*,T,철강주요종목,*,*,*,*,*\\n',\n",
       " '5G,,,,NNP,*,T,5G,*,*,*,*,*\\n',\n",
       " '종합물류,,,,NNP,*,F,종합물류,*,*,*,*,*\\n',\n",
       " '제습기,,,,NNP,*,F,제습기,*,*,*,*,*\\n',\n",
       " '캐릭터상품,,,,NNP,*,T,캐릭터상품,*,*,*,*,*\\n',\n",
       " '쿠팡관련주,,,,NNP,*,F,쿠팡관련주,*,*,*,*,*\\n',\n",
       " '창투사,,,,NNP,*,F,창투사,*,*,*,*,*\\n',\n",
       " 'LED장비,,,,NNP,*,F,LED장비,*,*,*,*,*\\n',\n",
       " '메타버스,,,,NNP,*,F,메타버스,*,*,*,*,*\\n',\n",
       " '공기청정기,,,,NNP,*,F,공기청정기,*,*,*,*,*\\n',\n",
       " '카메라모듈,,,,NNP,*,T,카메라모듈,*,*,*,*,*\\n',\n",
       " 'IT대표주,,,,NNP,*,F,IT대표주,*,*,*,*,*\\n',\n",
       " '2019상반기신규상장,,,,NNP,*,T,2019상반기신규상장,*,*,*,*,*\\n',\n",
       " 'SNS,,,,NNP,*,T,SNS,*,*,*,*,*\\n',\n",
       " '블록체인,,,,NNP,*,T,블록체인,*,*,*,*,*\\n',\n",
       " '자전거,,,,NNP,*,F,자전거,*,*,*,*,*\\n',\n",
       " '스마트그리드,,,,NNP,*,F,스마트그리드,*,*,*,*,*\\n',\n",
       " '골판지제조,,,,NNP,*,F,골판지제조,*,*,*,*,*\\n',\n",
       " '엔젤산업,,,,NNP,*,T,엔젤산업,*,*,*,*,*\\n',\n",
       " '미디어,,,,NNP,*,F,미디어,*,*,*,*,*\\n',\n",
       " 'MVNO,,,,NNP,*,T,MVNO,*,*,*,*,*\\n',\n",
       " '인터넷대표주,,,,NNP,*,F,인터넷대표주,*,*,*,*,*\\n',\n",
       " '웹툰,,,,NNP,*,T,웹툰,*,*,*,*,*\\n',\n",
       " '재택근무,,,,NNP,*,F,재택근무,*,*,*,*,*\\n',\n",
       " '스마트워크,,,,NNP,*,F,스마트워크,*,*,*,*,*\\n',\n",
       " '마이크로LED,,,,NNP,*,T,마이크로LED,*,*,*,*,*\\n',\n",
       " '출산장려정책,,,,NNP,*,T,출산장려정책,*,*,*,*,*\\n',\n",
       " '4대강복원,,,,NNP,*,T,4대강복원,*,*,*,*,*\\n',\n",
       " '드론,,,,NNP,*,T,드론,*,*,*,*,*\\n',\n",
       " '케이블TVSO,,,,NNP,*,T,케이블TVSO,*,*,*,*,*\\n',\n",
       " 'MSO,,,,NNP,*,T,MSO,*,*,*,*,*\\n',\n",
       " '교육,,,,NNP,*,T,교육,*,*,*,*,*\\n',\n",
       " '온라인교육,,,,NNP,*,T,온라인교육,*,*,*,*,*\\n',\n",
       " '전력설비,,,,NNP,*,F,전력설비,*,*,*,*,*\\n',\n",
       " '백신여권,,,,NNP,*,T,백신여권,*,*,*,*,*\\n',\n",
       " '탄소나노튜브,,,,NNP,*,F,탄소나노튜브,*,*,*,*,*\\n',\n",
       " '일자리,,,,NNP,*,F,일자리,*,*,*,*,*\\n',\n",
       " '전선,,,,NNP,*,T,전선,*,*,*,*,*\\n',\n",
       " 'RFID,,,,NNP,*,T,RFID,*,*,*,*,*\\n',\n",
       " '크래프톤관련주,,,,NNP,*,F,크래프톤관련주,*,*,*,*,*\\n',\n",
       " '카지노,,,,NNP,*,F,카지노,*,*,*,*,*\\n',\n",
       " 'ODM,,,,NNP,*,T,ODM,*,*,*,*,*\\n',\n",
       " 'OEM,,,,NNP,*,T,OEM,*,*,*,*,*\\n',\n",
       " '수혜주,,,,NNP,*,F,수혜주,*,*,*,*,*\\n',\n",
       " '이차전지,,,,NNP,*,F,이차전지,*,*,*,*,*\\n',\n",
       " '카카오택시,,,,NNP,*,F,카카오택시,*,*,*,*,*\\n',\n",
       " '카카오택시,,,,NNP,*,F,카카오택시,*,*,*,*,*\\n',\n",
       " '카카오모빌리티,,,,NNP,*,F,카카오모빌리티,*,*,*,*,*\\n',\n",
       " '카카오모빌리티,,,,NNP,*,F,카카오모빌리티,*,*,*,*,*\\n',\n",
       " '카카오뱅크,,,,NNP,*,F,카카오뱅크,*,*,*,*,*\\n',\n",
       " '카카오뱅크,,,,NNP,*,F,카카오뱅크,*,*,*,*,*\\n',\n",
       " '카카오웹툰,,,,NNP,*,T,카카오웹툰,*,*,*,*,*\\n',\n",
       " '카카오프렌즈,,,,NNP,*,F,카카오프렌즈,*,*,*,*,*\\n',\n",
       " '갤럭시S11,,,,NNP,*,T,갤럭시S11,*,*,*,*,*\\n',\n",
       " '갤럭시폴드,,,,NNP,*,F,갤럭시폴드,*,*,*,*,*\\n',\n",
       " '갤럭시플립,,,,NNP,*,T,갤럭시플립,*,*,*,*,*\\n',\n",
       " '갤럭시플립,,,,NNP,*,T,갤럭시플립,*,*,*,*,*\\n',\n",
       " '카카오페이,,,,NNP,*,F,카카오페이,*,*,*,*,*\\n',\n",
       " '카카오게임즈,,,,NNP,*,F,카카오게임즈,*,*,*,*,*\\n',\n",
       " '카카오엔터프라이즈,,,,NNP,*,F,카카오엔터프라이즈,*,*,*,*,*\\n',\n",
       " '크래프톤,,,,NNP,*,T,크래프톤,*,*,*,*,*\\n',\n",
       " '배틀그라운드,,,,NNP,*,F,배틀그라운드,*,*,*,*,*\\n',\n",
       " '테이퍼링,,,,NNP,*,T,테이퍼링,*,*,*,*,*\\n',\n",
       " 'NH투자증권,,,,NNP,*,T,NH투자증권,*,*,*,*,*\\n',\n",
       " '엔비디아,,,,NNP,*,F,엔비디아,*,*,*,*,*\\n',\n",
       " '게이밍노트북,,,,NNP,*,T,게이밍노트북,*,*,*,*,*\\n',\n",
       " '울트라기어,,,,NNP,*,F,울트라기어,*,*,*,*,*\\n',\n",
       " '디오스,,,,NNP,*,F,디오스,*,*,*,*,*\\n',\n",
       " 'DIOS,,,,NNP,*,T,DIOS,*,*,*,*,*\\n',\n",
       " '휘센,,,,NNP,*,T,휘센,*,*,*,*,*\\n',\n",
       " 'WHISEN,,,,NNP,*,T,WHISEN,*,*,*,*,*\\n',\n",
       " '트롬,,,,NNP,*,T,트롬,*,*,*,*,*\\n',\n",
       " 'TROMM,,,,NNP,*,T,TROMM,*,*,*,*,*\\n',\n",
       " '퓨리케어,,,,NNP,*,F,퓨리케어,*,*,*,*,*\\n',\n",
       " 'PuriCare,,,,NNP,*,T,PuriCare,*,*,*,*,*\\n',\n",
       " '코드제로,,,,NNP,*,F,코드제로,*,*,*,*,*\\n',\n",
       " 'CordZero,,,,NNP,*,T,CordZero,*,*,*,*,*\\n',\n",
       " '디램,,,,NNP,*,T,디램,*,*,*,*,*\\n',\n",
       " 'DRAM,,,,NNP,*,T,DRAM,*,*,*,*,*\\n',\n",
       " 'NAND,,,,NNP,*,T,NAND,*,*,*,*,*\\n',\n",
       " '낸드,,,,NNP,*,F,낸드,*,*,*,*,*\\n',\n",
       " 'QLED,,,,NNP,*,T,QLED,*,*,*,*,*\\n',\n",
       " '큐엘이디,,,,NNP,*,F,큐엘이디,*,*,*,*,*\\n',\n",
       " '아몰레드,,,,NNP,*,F,아몰레드,*,*,*,*,*\\n',\n",
       " 'AMOLED,,,,NNP,*,T,AMOLED,*,*,*,*,*\\n',\n",
       " '인피니티디스플레이,,,,NNP,*,F,인피니티디스플레이,*,*,*,*,*\\n',\n",
       " '비스포크,,,,NNP,*,F,비스포크,*,*,*,*,*\\n',\n",
       " '무풍에어컨,,,,NNP,*,T,무풍에어컨,*,*,*,*,*\\n',\n",
       " '오디세이,,,,NNP,*,F,오디세이,*,*,*,*,*\\n',\n",
       " '갤럭시워치,,,,NNP,*,F,갤럭시워치,*,*,*,*,*\\n',\n",
       " '갤럭시워치,,,,NNP,*,F,갤럭시워치,*,*,*,*,*\\n',\n",
       " '갤럭시버즈,,,,NNP,*,F,갤럭시버즈,*,*,*,*,*\\n',\n",
       " '갤럭시버즈,,,,NNP,*,F,갤럭시버즈,*,*,*,*,*\\n',\n",
       " '컨버터블PC,,,,NNP,*,T,컨버터블PC,*,*,*,*,*\\n',\n",
       " '컨버터블PC,,,,NNP,*,T,컨버터블PC,*,*,*,*,*\\n',\n",
       " '스마트싱스,,,,NNP,*,F,스마트싱스,*,*,*,*,*\\n',\n",
       " '스마트띵스,,,,NNP,*,F,스마트띵스,*,*,*,*,*\\n',\n",
       " 'SmartThings,,,,NNP,*,T,SmartThings,*,*,*,*,*\\n',\n",
       " '기어360,,,,NNP,*,T,기어360,*,*,*,*,*\\n',\n",
       " '기어360,,,,NNP,*,T,기어360,*,*,*,*,*\\n',\n",
       " 'LG에너지솔루션,,,,NNP,*,T,LG에너지솔루션,*,*,*,*,*\\n',\n",
       " 'LG이노텍,,,,NNP,*,T,LG이노텍,*,*,*,*,*\\n',\n",
       " 'SK바이오사이언스,,,,NNP,*,F,SK바이오사이언스,*,*,*,*,*\\n',\n",
       " 'SK아이이테크,,,,NNP,*,F,SK아이이테크,*,*,*,*,*\\n',\n",
       " 'SK아이이테크놀로지,,,,NNP,*,F,SK아이이테크놀로지,*,*,*,*,*\\n',\n",
       " 'SK디앤디,,,,NNP,*,F,SK디앤디,*,*,*,*,*\\n',\n",
       " 'SKD&D,,,,NNP,*,T,SKD&D,*,*,*,*,*\\n',\n",
       " 'SKC,,,,NNP,*,T,SKC,*,*,*,*,*\\n',\n",
       " 'SK디스커버리,,,,NNP,*,F,SK디스커버리,*,*,*,*,*\\n',\n",
       " 'SKC솔믹스,,,,NNP,*,F,SKC솔믹스,*,*,*,*,*\\n',\n",
       " 'SK하이닉스,,,,NNP,*,F,SK하이닉스,*,*,*,*,*\\n',\n",
       " 'SK렌터카,,,,NNP,*,F,SK렌터카,*,*,*,*,*\\n',\n",
       " 'PSK,,,,NNP,*,T,PSK,*,*,*,*,*\\n',\n",
       " 'SK바이오팜,,,,NNP,*,T,SK바이오팜,*,*,*,*,*\\n',\n",
       " 'SK커뮤니케이션,,,,NNP,*,T,SK커뮤니케이션,*,*,*,*,*\\n',\n",
       " 'DSK,,,,NNP,*,T,DSK,*,*,*,*,*\\n',\n",
       " 'SK브로드밴드,,,,NNP,*,F,SK브로드밴드,*,*,*,*,*\\n',\n",
       " 'PSK홀딩스,,,,NNP,*,F,PSK홀딩스,*,*,*,*,*\\n',\n",
       " 'SK머티리얼즈,,,,NNP,*,F,SK머티리얼즈,*,*,*,*,*\\n',\n",
       " '로봇,,,,NNP,*,T,로봇,*,*,*,*,*\\n',\n",
       " '해운,,,,NNP,*,T,해운,*,*,*,*,*\\n',\n",
       " '조선,,,,NNP,*,T,조선,*,*,*,*,*\\n',\n",
       " '화장품,,,,NNP,*,T,화장품,*,*,*,*,*\\n',\n",
       " '자율주행차,,,,NNP,*,F,자율주행차,*,*,*,*,*\\n',\n",
       " '홍준표,,,,NNP,*,F,홍준표,*,*,*,*,*\\n',\n",
       " '원격의료,,,,NNP,*,F,원격의료,*,*,*,*,*\\n',\n",
       " '은행,,,,NNP,*,T,은행,*,*,*,*,*\\n',\n",
       " '애플카,,,,NNP,*,F,애플카,*,*,*,*,*\\n',\n",
       " '2차전지,,,,NNP,*,F,2차전지,*,*,*,*,*\\n',\n",
       " '마켓컬리,,,,NNP,*,F,마켓컬리,*,*,*,*,*\\n',\n",
       " '아프리카돼지열병,,,,NNP,*,T,아프리카돼지열병,*,*,*,*,*\\n',\n",
       " '여행,,,,NNP,*,T,여행,*,*,*,*,*\\n',\n",
       " '기후변화,,,,NNP,*,F,기후변화,*,*,*,*,*\\n',\n",
       " '전기차,,,,NNP,*,F,전기차,*,*,*,*,*\\n',\n",
       " '고령화,,,,NNP,*,F,고령화,*,*,*,*,*\\n',\n",
       " '5G,,,,NNP,*,T,5G,*,*,*,*,*\\n',\n",
       " '이재명정책기본주택,,,,NNP,*,T,이재명정책기본주택,*,*,*,*,*\\n',\n",
       " '양자컴퓨터,,,,NNP,*,F,양자컴퓨터,*,*,*,*,*\\n',\n",
       " 'DDR5,,,,NNP,*,T,DDR5,*,*,*,*,*\\n',\n",
       " '야놀자,,,,NNP,*,F,야놀자,*,*,*,*,*\\n',\n",
       " '에스엠,,,,NNP,*,T,에스엠,*,*,*,*,*\\n',\n",
       " '반도체,,,,NNP,*,T,반도체,*,*,*,*,*\\n',\n",
       " '코로나,,,,NNP,*,F,코로나,*,*,*,*,*\\n',\n",
       " '최재형,,,,NNP,*,T,최재형,*,*,*,*,*\\n',\n",
       " '이재명,,,,NNP,*,T,이재명,*,*,*,*,*\\n',\n",
       " '메타버스,,,,NNP,*,F,메타버스,*,*,*,*,*\\n',\n",
       " '차량용반도체,,,,NNP,*,T,차량용반도체,*,*,*,*,*\\n',\n",
       " '농업,,,,NNP,*,T,농업,*,*,*,*,*\\n',\n",
       " '해상풍력발전,,,,NNP,*,T,해상풍력발전,*,*,*,*,*\\n',\n",
       " '곡물,,,,NNP,*,T,곡물,*,*,*,*,*\\n',\n",
       " '부동산정책,,,,NNP,*,T,부동산정책,*,*,*,*,*\\n',\n",
       " '친환경,,,,NNP,*,T,친환경,*,*,*,*,*\\n',\n",
       " 'OTT,,,,NNP,*,T,OTT,*,*,*,*,*\\n',\n",
       " '전기차충전소,,,,NNP,*,F,전기차충전소,*,*,*,*,*\\n',\n",
       " '싸이월드,,,,NNP,*,F,싸이월드,*,*,*,*,*\\n',\n",
       " '인공지능,,,,NNP,*,T,인공지능,*,*,*,*,*\\n',\n",
       " '철도,,,,NNP,*,F,철도,*,*,*,*,*\\n',\n",
       " '탄소중립,,,,NNP,*,T,탄소중립,*,*,*,*,*\\n',\n",
       " '윤석열,,,,NNP,*,T,윤석열,*,*,*,*,*\\n',\n",
       " '항공우주,,,,NNP,*,F,항공우주,*,*,*,*,*\\n',\n",
       " 'ESG,,,,NNP,*,T,ESG,*,*,*,*,*\\n',\n",
       " '면세점,,,,NNP,*,T,면세점,*,*,*,*,*\\n',\n",
       " '그린뉴딜,,,,NNP,*,T,그린뉴딜,*,*,*,*,*\\n',\n",
       " '카카오뱅크,,,,NNP,*,F,카카오뱅크,*,*,*,*,*\\n',\n",
       " '데이터센터,,,,NNP,*,F,데이터센터,*,*,*,*,*\\n',\n",
       " '아기상어,,,,NNP,*,F,아기상어,*,*,*,*,*\\n',\n",
       " '6G,,,,NNP,*,T,6G,*,*,*,*,*\\n',\n",
       " '풍력발전,,,,NNP,*,T,풍력발전,*,*,*,*,*\\n',\n",
       " '식품,,,,NNP,*,T,식품,*,*,*,*,*\\n',\n",
       " '인공태양,,,,NNP,*,T,인공태양,*,*,*,*,*\\n',\n",
       " '인플레이션,,,,NNP,*,T,인플레이션,*,*,*,*,*\\n',\n",
       " '배달의민족,,,,NNP,*,T,배달의민족,*,*,*,*,*\\n',\n",
       " '바이오,,,,NNP,*,F,바이오,*,*,*,*,*\\n',\n",
       " 'CBDC,,,,NNP,*,T,CBDC,*,*,*,*,*\\n',\n",
       " '자전거,,,,NNP,*,F,자전거,*,*,*,*,*\\n',\n",
       " '폭염,,,,NNP,*,T,폭염,*,*,*,*,*\\n',\n",
       " '이버멕틴,,,,NNP,*,T,이버멕틴,*,*,*,*,*\\n',\n",
       " '웹툰,,,,NNP,*,T,웹툰,*,*,*,*,*\\n',\n",
       " '에어컨,,,,NNP,*,T,에어컨,*,*,*,*,*\\n',\n",
       " '배터리,,,,NNP,*,F,배터리,*,*,*,*,*\\n',\n",
       " '이낙연,,,,NNP,*,T,이낙연,*,*,*,*,*\\n',\n",
       " '코로나진단키트,,,,NNP,*,F,코로나진단키트,*,*,*,*,*\\n',\n",
       " '자율주행,,,,NNP,*,T,자율주행,*,*,*,*,*\\n',\n",
       " '사료,,,,NNP,*,F,사료,*,*,*,*,*\\n',\n",
       " '디즈니플러스,,,,NNP,*,F,디즈니플러스,*,*,*,*,*\\n',\n",
       " '구리,,,,NNP,*,F,구리,*,*,*,*,*\\n',\n",
       " '소형원자로,,,,NNP,*,F,소형원자로,*,*,*,*,*\\n',\n",
       " '온라인쇼핑,,,,NNP,*,T,온라인쇼핑,*,*,*,*,*\\n',\n",
       " '스마젠,,,,NNP,*,T,스마젠,*,*,*,*,*\\n',\n",
       " '원격진료,,,,NNP,*,F,원격진료,*,*,*,*,*\\n',\n",
       " '두나무,,,,NNP,*,F,두나무,*,*,*,*,*\\n',\n",
       " 'SD바이오센서,,,,NNP,*,F,SD바이오센서,*,*,*,*,*\\n',\n",
       " '재택근무,,,,NNP,*,F,재택근무,*,*,*,*,*\\n',\n",
       " '진단키트,,,,NNP,*,F,진단키트,*,*,*,*,*\\n',\n",
       " '골판지,,,,NNP,*,F,골판지,*,*,*,*,*\\n',\n",
       " '원자력,,,,NNP,*,T,원자력,*,*,*,*,*\\n',\n",
       " '디지털화폐,,,,NNP,*,F,디지털화폐,*,*,*,*,*\\n',\n",
       " '키오스크,,,,NNP,*,F,키오스크,*,*,*,*,*\\n',\n",
       " '큐라티스,,,,NNP,*,F,큐라티스,*,*,*,*,*\\n',\n",
       " '대선,,,,NNP,*,T,대선,*,*,*,*,*\\n',\n",
       " 'LNG선,,,,NNP,*,T,LNG선,*,*,*,*,*\\n',\n",
       " '페인트,,,,NNP,*,F,페인트,*,*,*,*,*\\n',\n",
       " '정유,,,,NNP,*,F,정유,*,*,*,*,*\\n',\n",
       " '크래프톤,,,,NNP,*,T,크래프톤,*,*,*,*,*\\n',\n",
       " '건설,,,,NNP,*,T,건설,*,*,*,*,*\\n',\n",
       " '게임,,,,NNP,*,T,게임,*,*,*,*,*\\n',\n",
       " '윤희숙,,,,NNP,*,T,윤희숙,*,*,*,*,*\\n',\n",
       " '무상급식,,,,NNP,*,T,무상급식,*,*,*,*,*\\n',\n",
       " '코로나재확산,,,,NNP,*,T,코로나재확산,*,*,*,*,*\\n',\n",
       " '토스,,,,NNP,*,F,토스,*,*,*,*,*\\n',\n",
       " '키즈어린이,,,,NNP,*,F,키즈어린이,*,*,*,*,*\\n',\n",
       " '일자리,,,,NNP,*,F,일자리,*,*,*,*,*\\n',\n",
       " '교육,,,,NNP,*,T,교육,*,*,*,*,*\\n',\n",
       " '델타변이,,,,NNP,*,F,델타변이,*,*,*,*,*\\n',\n",
       " '폐배터리,,,,NNP,*,F,폐배터리,*,*,*,*,*\\n',\n",
       " '태양광,,,,NNP,*,T,태양광,*,*,*,*,*\\n',\n",
       " 'UAM,,,,NNP,*,T,UAM,*,*,*,*,*\\n',\n",
       " '윤석열정책테마주8종목-도시재생사업대장주,,,,NNP,*,F,윤석열정책테마주8종목-도시재생사업대장주,*,*,*,*,*\\n',\n",
       " '임플란트,,,,NNP,*,F,임플란트,*,*,*,*,*\\n',\n",
       " '타이어,,,,NNP,*,F,타이어,*,*,*,*,*\\n',\n",
       " '철강,,,,NNP,*,T,철강,*,*,*,*,*\\n',\n",
       " '추미애,,,,NNP,*,T,추미애,*,*,*,*,*\\n',\n",
       " 'OLED,,,,NNP,*,T,OLED,*,*,*,*,*\\n',\n",
       " '김동연,,,,NNP,*,T,김동연,*,*,*,*,*\\n',\n",
       " '우주항공,,,,NNP,*,T,우주항공,*,*,*,*,*\\n',\n",
       " '남북경협,,,,NNP,*,T,남북경협,*,*,*,*,*\\n',\n",
       " 'SI,,,,NNP,*,T,SI,*,*,*,*,*\\n',\n",
       " '여름,,,,NNP,*,T,여름,*,*,*,*,*\\n',\n",
       " '큐어백,,,,NNP,*,T,큐어백,*,*,*,*,*\\n',\n",
       " '엔터,,,,NNP,*,F,엔터,*,*,*,*,*\\n',\n",
       " '원전,,,,NNP,*,T,원전,*,*,*,*,*\\n',\n",
       " '노바백스,,,,NNP,*,F,노바백스,*,*,*,*,*\\n',\n",
       " '시멘트,,,,NNP,*,F,시멘트,*,*,*,*,*\\n',\n",
       " '하태경,,,,NNP,*,T,하태경,*,*,*,*,*\\n',\n",
       " '제지,,,,NNP,*,F,제지,*,*,*,*,*\\n',\n",
       " '수소차,,,,NNP,*,F,수소차,*,*,*,*,*\\n',\n",
       " '아스트라제네카,,,,NNP,*,F,아스트라제네카,*,*,*,*,*\\n',\n",
       " '재건축,,,,NNP,*,T,재건축,*,*,*,*,*\\n',\n",
       " '저탄소,,,,NNP,*,F,저탄소,*,*,*,*,*\\n',\n",
       " '화이자,,,,NNP,*,F,화이자,*,*,*,*,*\\n',\n",
       " '박용진,,,,NNP,*,T,박용진,*,*,*,*,*\\n',\n",
       " 'LG에너지솔루션,,,,NNP,*,T,LG에너지솔루션,*,*,*,*,*\\n',\n",
       " '보안,,,,NNP,*,T,보안,*,*,*,*,*\\n',\n",
       " '희토류,,,,NNP,*,F,희토류,*,*,*,*,*\\n',\n",
       " '피부미용,,,,NNP,*,T,피부미용,*,*,*,*,*\\n',\n",
       " '치매,,,,NNP,*,T,치매,*,*,*,*,*\\n',\n",
       " '건자재,,,,NNP,*,T,건자재,*,*,*,*,*\\n',\n",
       " '폐기물,,,,NNP,*,T,폐기물,*,*,*,*,*\\n',\n",
       " '유승민,,,,NNP,*,T,유승민,*,*,*,*,*\\n',\n",
       " '테이퍼링,,,,NNP,*,T,테이퍼링,*,*,*,*,*\\n',\n",
       " '4차산업,,,,NNP,*,T,4차산업,*,*,*,*,*\\n',\n",
       " '경부선지하화,,,,NNP,*,F,경부선지하화,*,*,*,*,*\\n',\n",
       " '보톡스,,,,NNP,*,F,보톡스,*,*,*,*,*\\n',\n",
       " 'NFT,,,,NNP,*,T,NFT,*,*,*,*,*\\n',\n",
       " '전선,,,,NNP,*,T,전선,*,*,*,*,*\\n',\n",
       " '백신여권,,,,NNP,*,T,백신여권,*,*,*,*,*\\n',\n",
       " '타이레놀,,,,NNP,*,T,타이레놀,*,*,*,*,*\\n',\n",
       " '금강산관광,,,,NNP,*,T,금강산관광,*,*,*,*,*\\n',\n",
       " '일본불매운동,,,,NNP,*,T,일본불매운동,*,*,*,*,*\\n',\n",
       " '출산장려정책,,,,NNP,*,T,출산장려정책,*,*,*,*,*\\n',\n",
       " '영화,,,,NNP,*,F,영화,*,*,*,*,*\\n',\n",
       " '탄소배출권,,,,NNP,*,T,탄소배출권,*,*,*,*,*\\n',\n",
       " '포토레지스트,,,,NNP,*,F,포토레지스트,*,*,*,*,*\\n',\n",
       " '자동차,,,,NNP,*,F,자동차,*,*,*,*,*\\n',\n",
       " '비메모리반도체,,,,NNP,*,T,비메모리반도체,*,*,*,*,*\\n',\n",
       " '클라우드,,,,NNP,*,F,클라우드,*,*,*,*,*\\n',\n",
       " '양자암호,,,,NNP,*,F,양자암호,*,*,*,*,*\\n',\n",
       " '창투사,,,,NNP,*,F,창투사,*,*,*,*,*\\n',\n",
       " '이준석,,,,NNP,*,T,이준석,*,*,*,*,*\\n',\n",
       " 'ott,,,,NNP,*,T,ott,*,*,*,*,*\\n',\n",
       " '스푸트니크,,,,NNP,*,F,스푸트니크,*,*,*,*,*\\n',\n",
       " '목재,,,,NNP,*,T,목재,*,*,*,*,*\\n',\n",
       " '방탄소년단,,,,NNP,*,T,방탄소년단,*,*,*,*,*\\n',\n",
       " '컨택트,,,,NNP,*,F,컨택트,*,*,*,*,*\\n',\n",
       " '항공,,,,NNP,*,T,항공,*,*,*,*,*\\n',\n",
       " '반도체후공정,,,,NNP,*,T,반도체후공정,*,*,*,*,*\\n',\n",
       " '미사일,,,,NNP,*,T,미사일,*,*,*,*,*\\n',\n",
       " '개성공단,,,,NNP,*,T,개성공단,*,*,*,*,*\\n',\n",
       " 'smr,,,,NNP,*,T,smr,*,*,*,*,*\\n',\n",
       " '금,,,,NNP,*,T,금,*,*,*,*,*\\n',\n",
       " '철근,,,,NNP,*,T,철근,*,*,*,*,*\\n',\n",
       " '천연가스셰일가스,,,,NNP,*,F,천연가스셰일가스,*,*,*,*,*\\n',\n",
       " '한미정상회담,,,,NNP,*,T,한미정상회담,*,*,*,*,*\\n',\n",
       " '무인화,,,,NNP,*,F,무인화,*,*,*,*,*\\n',\n",
       " '그랩,,,,NNP,*,T,그랩,*,*,*,*,*\\n',\n",
       " 'mRNA,,,,NNP,*,T,mRNA,*,*,*,*,*\\n',\n",
       " '팹리스,,,,NNP,*,F,팹리스,*,*,*,*,*\\n',\n",
       " 'OTT콘텐츠,,,,NNP,*,F,OTT콘텐츠,*,*,*,*,*\\n',\n",
       " '인플레이션이란?인플레이션,,,,NNP,*,T,인플레이션이란?인플레이션,*,*,*,*,*\\n',\n",
       " '3d프린터,,,,NNP,*,F,3d프린터,*,*,*,*,*\\n',\n",
       " '보험,,,,NNP,*,T,보험,*,*,*,*,*\\n',\n",
       " '설탕,,,,NNP,*,T,설탕,*,*,*,*,*\\n',\n",
       " '증권,,,,NNP,*,T,증권,*,*,*,*,*\\n',\n",
       " '스마일게이트상장,,,,NNP,*,T,스마일게이트상장,*,*,*,*,*\\n',\n",
       " '경부고속도로지하화,,,,NNP,*,F,경부고속도로지하화,*,*,*,*,*\\n',\n",
       " '시노백,,,,NNP,*,T,시노백,*,*,*,*,*\\n',\n",
       " '시노팜,,,,NNP,*,T,시노팜,*,*,*,*,*\\n',\n",
       " '아기상어핑크퐁스마트스터디,,,,NNP,*,F,아기상어핑크퐁스마트스터디,*,*,*,*,*\\n',\n",
       " '니켈,,,,NNP,*,T,니켈,*,*,*,*,*\\n',\n",
       " '유가상승,,,,NNP,*,T,유가상승,*,*,*,*,*\\n',\n",
       " '바나듐,,,,NNP,*,T,바나듐,*,*,*,*,*\\n',\n",
       " '백화점,,,,NNP,*,T,백화점,*,*,*,*,*\\n',\n",
       " 'CCTV,,,,NNP,*,T,CCTV,*,*,*,*,*\\n',\n",
       " '대체육,,,,NNP,*,T,대체육,*,*,*,*,*\\n',\n",
       " '편의점,,,,NNP,*,T,편의점,*,*,*,*,*\\n',\n",
       " '조선기자재,,,,NNP,*,T,조선기자재,*,*,*,*,*\\n',\n",
       " '옥수수,,,,NNP,*,F,옥수수,*,*,*,*,*\\n',\n",
       " '카카오페이상장일,,,,NNP,*,T,카카오페이상장일,*,*,*,*,*\\n',\n",
       " '의류,,,,NNP,*,F,의류,*,*,*,*,*\\n',\n",
       " '물류,,,,NNP,*,F,물류,*,*,*,*,*\\n',\n",
       " '신재생에너지,,,,NNP,*,F,신재생에너지,*,*,*,*,*\\n',\n",
       " '세종시,,,,NNP,*,F,세종시,*,*,*,*,*\\n',\n",
       " '자가진단키트,,,,NNP,*,F,자가진단키트,*,*,*,*,*\\n',\n",
       " '고무,,,,NNP,*,F,고무,*,*,*,*,*\\n',\n",
       " '화이자백신전쟁승리,,,,NNP,*,F,화이자백신전쟁승리,*,*,*,*,*\\n',\n",
       " 'SD바이오센서,,,,NNP,*,F,SD바이오센서,*,*,*,*,*\\n',\n",
       " '카카오페이,,,,NNP,*,F,카카오페이,*,*,*,*,*\\n',\n",
       " '골프,,,,NNP,*,F,골프,*,*,*,*,*\\n',\n",
       " '스푸트니크v백신,,,,NNP,*,T,스푸트니크v백신,*,*,*,*,*\\n',\n",
       " '홍정욱,,,,NNP,*,T,홍정욱,*,*,*,*,*\\n',\n",
       " '애플,,,,NNP,*,T,애플,*,*,*,*,*\\n',\n",
       " '핵융합,,,,NNP,*,T,핵융합,*,*,*,*,*\\n',\n",
       " 'pcb,,,,NNP,*,T,pcb,*,*,*,*,*\\n',\n",
       " '그래픽카드,,,,NNP,*,F,그래픽카드,*,*,*,*,*\\n',\n",
       " 'mcu반도체,,,,NNP,*,T,mcu반도체,*,*,*,*,*\\n',\n",
       " '그래핀,,,,NNP,*,T,그래핀,*,*,*,*,*\\n',\n",
       " '산아제한폐지,,,,NNP,*,F,산아제한폐지,*,*,*,*,*\\n',\n",
       " 'mlcc,,,,NNP,*,T,mlcc,*,*,*,*,*\\n',\n",
       " '김부겸,,,,NNP,*,T,김부겸,*,*,*,*,*\\n',\n",
       " '택배,,,,NNP,*,T,택배,*,*,*,*,*\\n',\n",
       " '쿠팡,,,,NNP,*,T,쿠팡,*,*,*,*,*\\n',\n",
       " '조선선박,,,,NNP,*,T,조선선박,*,*,*,*,*\\n',\n",
       " '전고체배터리,,,,NNP,*,F,전고체배터리,*,*,*,*,*\\n',\n",
       " '가상화폐,,,,NNP,*,F,가상화폐,*,*,*,*,*\\n',\n",
       " '페로브스카이트,,,,NNP,*,F,페로브스카이트,*,*,*,*,*\\n',\n",
       " '주택공급,,,,NNP,*,T,주택공급,*,*,*,*,*\\n',\n",
       " 'AR,,,,NNP,*,T,AR,*,*,*,*,*\\n',\n",
       " '오세훈,,,,NNP,*,T,오세훈,*,*,*,*,*\\n',\n",
       " '비트코인,,,,NNP,*,T,비트코인,*,*,*,*,*\\n',\n",
       " '수산,,,,NNP,*,T,수산,*,*,*,*,*\\n',\n",
       " '정세균,,,,NNP,*,T,정세균,*,*,*,*,*\\n',\n",
       " '루시드모터스,,,,NNP,*,F,루시드모터스,*,*,*,*,*\\n',\n",
       " '업비트,,,,NNP,*,F,업비트,*,*,*,*,*\\n',\n",
       " '이베이코리아,,,,NNP,*,F,이베이코리아,*,*,*,*,*\\n',\n",
       " '마그나,,,,NNP,*,F,마그나,*,*,*,*,*\\n',\n",
       " '콘텐츠,,,,NNP,*,F,콘텐츠,*,*,*,*,*\\n',\n",
       " '공기청정기,,,,NNP,*,F,공기청정기,*,*,*,*,*\\n',\n",
       " '마스크,,,,NNP,*,F,마스크,*,*,*,*,*\\n',\n",
       " '미중갈등,,,,NNP,*,T,미중갈등,*,*,*,*,*\\n',\n",
       " '얀센,,,,NNP,*,T,얀센,*,*,*,*,*\\n',\n",
       " '미국반도체,,,,NNP,*,T,미국반도체,*,*,*,*,*\\n',\n",
       " '암학회,,,,NNP,*,F,암학회,*,*,*,*,*\\n',\n",
       " '누리호,,,,NNP,*,F,누리호,*,*,*,*,*\\n',\n",
       " '코비박,,,,NNP,*,T,코비박,*,*,*,*,*\\n',\n",
       " '주택공급확대,,,,NNP,*,T,주택공급확대,*,*,*,*,*\\n',\n",
       " '파운드리,,,,NNP,*,F,파운드리,*,*,*,*,*\\n',\n",
       " '해저터널,,,,NNP,*,T,해저터널,*,*,*,*,*\\n',\n",
       " '삼성전자5G,,,,NNP,*,T,삼성전자5G,*,*,*,*,*\\n',\n",
       " '반려동물,,,,NNP,*,T,반려동물,*,*,*,*,*\\n',\n",
       " '닭고기,,,,NNP,*,F,닭고기,*,*,*,*,*\\n',\n",
       " '지진,,,,NNP,*,T,지진,*,*,*,*,*\\n',\n",
       " '드론택시,,,,NNP,*,F,드론택시,*,*,*,*,*\\n',\n",
       " '인공위성,,,,NNP,*,T,인공위성,*,*,*,*,*\\n',\n",
       " '가상현실,,,,NNP,*,T,가상현실,*,*,*,*,*\\n',\n",
       " '빗썸,,,,NNP,*,T,빗썸,*,*,*,*,*\\n',\n",
       " 'sk바이오사이언스,,,,NNP,*,F,sk바이오사이언스,*,*,*,*,*\\n',\n",
       " 'CMO,,,,NNP,*,T,CMO,*,*,*,*,*\\n',\n",
       " '나파모스타트,,,,NNP,*,F,나파모스타트,*,*,*,*,*\\n',\n",
       " 'catl,,,,NNP,*,T,catl,*,*,*,*,*\\n',\n",
       " '미나리,,,,NNP,*,F,미나리,*,*,*,*,*\\n',\n",
       " '리디북스,,,,NNP,*,F,리디북스,*,*,*,*,*\\n',\n",
       " '러시아백신,,,,NNP,*,T,러시아백신,*,*,*,*,*\\n',\n",
       " '황사,,,,NNP,*,F,황사,*,*,*,*,*\\n',\n",
       " '스마트팩토리,,,,NNP,*,F,스마트팩토리,*,*,*,*,*\\n',\n",
       " '대북,,,,NNP,*,T,대북,*,*,*,*,*\\n',\n",
       " '코발트,,,,NNP,*,F,코발트,*,*,*,*,*\\n',\n",
       " '모더나,,,,NNP,*,F,모더나,*,*,*,*,*\\n',\n",
       " '스마트팜,,,,NNP,*,T,스마트팜,*,*,*,*,*\\n',\n",
       " '비료,,,,NNP,*,F,비료,*,*,*,*,*\\n',\n",
       " '호텔,,,,NNP,*,T,호텔,*,*,*,*,*\\n',\n",
       " '원자재,,,,NNP,*,T,원자재,*,*,*,*,*\\n',\n",
       " '카지노,,,,NNP,*,F,카지노,*,*,*,*,*\\n',\n",
       " '암모니아,,,,NNP,*,F,암모니아,*,*,*,*,*\\n',\n",
       " '전자화폐,,,,NNP,*,F,전자화폐,*,*,*,*,*\\n',\n",
       " '디지털화폐,,,,NNP,*,F,디지털화폐,*,*,*,*,*\\n',\n",
       " '알루미늄,,,,NNP,*,T,알루미늄,*,*,*,*,*\\n',\n",
       " 'lng선,,,,NNP,*,T,lng선,*,*,*,*,*\\n',\n",
       " '셰일가스,,,,NNP,*,F,셰일가스,*,*,*,*,*\\n',\n",
       " '백신여권,,,,NNP,*,T,백신여권,*,*,*,*,*\\n',\n",
       " '스마트스터디,,,,NNP,*,F,스마트스터디,*,*,*,*,*\\n',\n",
       " '석유,,,,NNP,*,F,석유,*,*,*,*,*\\n',\n",
       " '황교안,,,,NNP,*,T,황교안,*,*,*,*,*\\n',\n",
       " '휴머니젠,,,,NNP,*,T,휴머니젠,*,*,*,*,*\\n',\n",
       " 'EUV,,,,NNP,*,T,EUV,*,*,*,*,*\\n',\n",
       " '중국양회,,,,NNP,*,F,중국양회,*,*,*,*,*\\n',\n",
       " '저출산,,,,NNP,*,T,저출산,*,*,*,*,*\\n',\n",
       " '수소충전소,,,,NNP,*,F,수소충전소,*,*,*,*,*\\n',\n",
       " '밀키트,,,,NNP,*,F,밀키트,*,*,*,*,*\\n',\n",
       " '비대면,,,,NNP,*,T,비대면,*,*,*,*,*\\n',\n",
       " '유시민,,,,NNP,*,T,유시민,*,*,*,*,*\\n',\n",
       " '아이오닉5,,,,NNP,*,T,아이오닉5,*,*,*,*,*\\n',\n",
       " 'ess,,,,NNP,*,T,ess,*,*,*,*,*\\n',\n",
       " '바이오헬스,,,,NNP,*,F,바이오헬스,*,*,*,*,*\\n',\n",
       " 'SiC전력반도체,,,,NNP,*,T,SiC전력반도체,*,*,*,*,*\\n',\n",
       " ...]"
      ]
     },
     "execution_count": 72,
     "metadata": {},
     "output_type": "execute_result"
    }
   ],
   "source": [
    "with open(\"./user-dic/nnp.csv\", 'r', encoding='utf-8') as f:\n",
    "    file_new = f.readlines()\n",
    "    \n",
    "file_new"
   ]
  },
  {
   "cell_type": "code",
   "execution_count": 73,
   "metadata": {},
   "outputs": [
    {
     "data": {
      "text/plain": [
       "[('전고체배터리', 'NNP')]"
      ]
     },
     "execution_count": 73,
     "metadata": {},
     "output_type": "execute_result"
    }
   ],
   "source": [
    "mecab = Mecab()\n",
    "mecab.pos('전고체배터리')"
   ]
  },
  {
   "cell_type": "markdown",
   "metadata": {},
   "source": [
    "# Tokenize (Mecab)"
   ]
  },
  {
   "cell_type": "code",
   "execution_count": 690,
   "metadata": {},
   "outputs": [],
   "source": [
    "stopword_list = ['종목', '관련', '투자', '돋움', '주식', '사업', '확인', '대비', '무료', '사업', '기사', '무료공개',\n",
    "                 '매수', '원샷', '주가', '고공', '행진', '지금', '당장', 'TOP', '체험', '입장', '카톡방', '카톡',\n",
    "                '주린이', '린이', '리딩', '리딩방', '평생', '초대형', '株', '클릭', '급등', '임박', '추천', '추천주',\n",
    "                '정보', '신청', '즉시', '비공개', '폭등', '폭등주', '시선', '집중', '추매', '추매각', '포착', '테마',\n",
    "                '황제', '대장', '황제주', '대장주', '무료리딩방', '무단', '전재', '배포', '뉴스', '재물운', '재물',\n",
    "                 '추석', '순매수', '상승', '개발', '기사', '책임', '증권', '최근', '영업', '시장', '제공', '기준', '분석',\n",
    "                 '전문', '뉴스봇', '테마', '개요', '리스트', '설명', '자료', '인포스탁', '홈페이지', '로보뉴스', '알고리즘', '씽크풀',\n",
    "                 '작성', '공동', '기업', '급난', '필라델피아', '인스트', '오스틴', '금액주', '코아시아', '법위', '송심', '기환',\n",
    "                 '비스', '국정','농단', '유족', '준법', '징역', '선고', '팔자', '어치', '사자', '마감', '거래량회전율', '기자', \n",
    "                 '박상인','박흥순', '이종무', '결강', '매도우', '서경', '이도원', '규빈', '윤서연', '김호윤', '표준편차', '김민주',\n",
    "                 '이근우', '김혜영', '김수정', '화영', '일보', '박준영', '서청석', '이코', '비업', '코노', '요한',\n",
    "                 '지디', '학업', '분전', '우위', '리뷰', '강도', '수집', '반전', '시각', '회전율', '천주', '기록', '저작', '매체',\n",
    "                 '길드', '던전', '스킬', '소환', '몬스터', '미션', '쿠키', '퀘스트', '레이드', '보스', '나이츠', '벤트', '전설',\n",
    "                 '아이템', '응모', '업데이트', '전투', '아레나', '영웅', '쿠폰', '경품', '이용자', '구단', '번역', '유저',\n",
    "                 '감상', '오브', '스테이지', '오디션', '로그인', '멘토링', '야구', '맞손', '우대', '클래식', '마감', '적중',\n",
    "                 '오랫동안', '팔자', '스탠더드', '세력', '선착순', '다운', '외인', '파월', '집중투자', '금일', '고수', '앤드',\n",
    "                 '부양책', '어스', '후회', '동사', '인원', '선착순', '하루', '코드', '한시', '최강', '회주', '횟수', '무제',\n",
    "                 '이용료', '승률', '발췌', '침조', '정렬', '분간', '주순', '역대', '이미지', '단독', '번주', '매일', '박주'\n",
    "                 '대어', '래프', '월간', '비즈', '기환', '지위', '본건', '관사', '이지', '상단', '에이', '구독자', '데드', '에어',\n",
    "                 '특급', '아침', '오전', '오후', '질주', '헤럴드경제', '대환', '수전', '탁론', '드립', '대중', \n",
    "                 '한정', '박찬구', '슈퍼', '형제','미수', '이젠', '프리미엄', '긴급', '박철완', '관세', '스탁', '인기', \n",
    "                 '트림', '시대', '바이', '스크랩', '이것','최저', '초보', '모터쇼', '유수', '박정호', '평택', '리더십', '플라이']\n",
    "\n",
    "# 불용어 제거 함수\n",
    "def remove_stopwords(words):\n",
    "    result = []\n",
    "    for w in words:\n",
    "        if w not in stopword_list:\n",
    "            result.append(w)\n",
    "    return result\n",
    "\n",
    "# 한 글자 단어 제거 함수\n",
    "def remove_onewords(words):\n",
    "    result = []\n",
    "    for w in words:\n",
    "        if len(w) != 1:\n",
    "            result.append(w)\n",
    "    return result\n",
    "\n",
    "drop_tagger = ['SC','SE','SF','SH','SN','SSC','SSO','SY']\n",
    "\n",
    "def unigram_tokenizer(raw_text):\n",
    "    unigram = [word for word,pos in mecab.pos(raw_text) if pos not in drop_tagger and word not in stopword_list and len(word) != 1]\n",
    "    return unigram"
   ]
  },
  {
   "cell_type": "code",
   "execution_count": 154,
   "metadata": {},
   "outputs": [
    {
     "name": "stderr",
     "output_type": "stream",
     "text": [
      "100%|██████████| 134719/134719 [08:08<00:00, 275.84it/s]\n"
     ]
    }
   ],
   "source": [
    "metadata['token'] = metadata[\"title_content_clean\"].progress_apply(unigram_tokenizer)"
   ]
  },
  {
   "cell_type": "code",
   "execution_count": 156,
   "metadata": {},
   "outputs": [],
   "source": [
    "random_sample = metadata.sample(frac = 1).reset_index(drop = True)"
   ]
  },
  {
   "cell_type": "code",
   "execution_count": 158,
   "metadata": {},
   "outputs": [
    {
     "name": "stderr",
     "output_type": "stream",
     "text": [
      "100%|██████████| 134719/134719 [34:53<00:00, 64.36it/s]\n"
     ]
    }
   ],
   "source": [
    "sep_token = []\n",
    "\n",
    "for i in tqdm(range(len(random_sample))):\n",
    "    for j in range(200):\n",
    "        try:\n",
    "            text_id = 'text_{}'.format(i)\n",
    "            n_code = random_sample['n_code'][i]\n",
    "            name= random_sample['stk_iem_krl_nm'][i]\n",
    "            token = random_sample['token'][i][j]\n",
    "            \n",
    "            token_data = text_id, n_code, name, token\n",
    "            sep_token.append(token_data)\n",
    "        except:\n",
    "            continue"
   ]
  },
  {
   "cell_type": "code",
   "execution_count": 159,
   "metadata": {},
   "outputs": [],
   "source": [
    "NER_data = pd.DataFrame(sep_token, columns = ['id','n_code', 'name', 'token'])"
   ]
  },
  {
   "cell_type": "code",
   "execution_count": 959,
   "metadata": {},
   "outputs": [],
   "source": [
    "NER_data.head()"
   ]
  },
  {
   "cell_type": "code",
   "execution_count": 161,
   "metadata": {},
   "outputs": [],
   "source": [
    "NER_data['BIO_tag'] = 'O'"
   ]
  },
  {
   "cell_type": "code",
   "execution_count": 163,
   "metadata": {},
   "outputs": [],
   "source": [
    "NER_data.to_csv('NER_dataset.csv', index = False)"
   ]
  },
  {
   "cell_type": "markdown",
   "metadata": {},
   "source": [
    "# NER Labeling"
   ]
  },
  {
   "cell_type": "code",
   "execution_count": 164,
   "metadata": {},
   "outputs": [],
   "source": [
    "NER_data = pd.read_csv('NER_dataset.csv')"
   ]
  },
  {
   "cell_type": "code",
   "execution_count": 827,
   "metadata": {},
   "outputs": [],
   "source": [
    "kospi_comp_list = list(df_kospi['코스피'].unique())\n",
    "kosdaq_comp_list = list(df_kosdaq['코스닥'].unique())\n",
    "\n",
    "for i in range(len(df_theme['테마이름'])):\n",
    "    df_theme['테마이름'][i] = re.sub(' ', '', df_theme['테마이름'][i])\n",
    "theme_name_list = list(df_theme['테마이름'].unique())"
   ]
  },
  {
   "cell_type": "code",
   "execution_count": 166,
   "metadata": {},
   "outputs": [
    {
     "name": "stderr",
     "output_type": "stream",
     "text": [
      "100%|██████████| 294754/294754 [00:44<00:00, 6681.45it/s]\n",
      "100%|██████████| 294754/294754 [00:44<00:00, 6644.64it/s]\n",
      "100%|██████████| 294754/294754 [00:45<00:00, 6508.76it/s]\n",
      "100%|██████████| 294754/294754 [00:45<00:00, 6513.04it/s]\n",
      "100%|██████████| 294754/294754 [00:45<00:00, 6486.50it/s]\n",
      "100%|██████████| 294754/294754 [00:46<00:00, 6406.72it/s]\n",
      "100%|██████████| 294754/294754 [00:46<00:00, 6361.92it/s]\n",
      "100%|██████████| 294754/294754 [00:45<00:00, 6420.56it/s]\n",
      "100%|██████████| 294754/294754 [00:45<00:00, 6501.54it/s]\n",
      " 99%|█████████▉| 292355/294754 [00:46<00:00, 7946.39it/s]\n",
      " 96%|█████████▋| 283798/294754 [00:44<00:01, 7761.35it/s]\n",
      "100%|██████████| 294754/294754 [00:46<00:00, 6371.06it/s]\n",
      "100%|██████████| 294754/294754 [00:45<00:00, 6421.21it/s]\n",
      "100%|██████████| 294754/294754 [00:46<00:00, 6345.30it/s]\n",
      "100%|██████████| 294754/294754 [00:46<00:00, 6407.59it/s]\n",
      "100%|██████████| 294754/294754 [00:45<00:00, 6452.89it/s]]\n",
      "100%|██████████| 294754/294754 [00:46<00:00, 6354.26it/s]]\n",
      "100%|██████████| 294754/294754 [00:46<00:00, 6379.05it/s] \n",
      "100%|██████████| 294754/294754 [00:46<00:00, 6352.22it/s] \n",
      "100%|██████████| 294754/294754 [00:45<00:00, 6436.73it/s] \n",
      "100%|██████████| 294754/294754 [00:46<00:00, 6399.29it/s]]\n",
      "100%|██████████| 294754/294754 [00:46<00:00, 6320.72it/s]]\n",
      "100%|██████████| 294753/294753 [00:45<00:00, 6472.14it/s]]\n",
      "100%|██████████| 294754/294754 [00:46<00:00, 6299.16it/s] \n",
      "100%|██████████| 294754/294754 [00:46<00:00, 6380.58it/s] \n",
      "100%|██████████| 294754/294754 [00:46<00:00, 6328.16it/s]]\n",
      "100%|██████████| 294753/294753 [00:45<00:00, 6420.37it/s] \n",
      "100%|██████████| 294754/294754 [00:46<00:00, 6342.45it/s] \n",
      "100%|██████████| 294754/294754 [00:46<00:00, 6328.40it/s] \n",
      "100%|██████████| 294753/294753 [00:46<00:00, 6390.85it/s] \n",
      "100%|██████████| 294753/294753 [00:45<00:00, 6430.95it/s] \n",
      "100%|██████████| 294753/294753 [00:45<00:00, 6517.25it/s] \n",
      "100%|██████████| 294753/294753 [00:46<00:00, 6378.94it/s] \n",
      "100%|██████████| 294753/294753 [00:45<00:00, 6416.53it/s] \n",
      "100%|██████████| 294753/294753 [00:45<00:00, 6426.93it/s] \n",
      "100%|██████████| 294753/294753 [00:46<00:00, 6359.72it/s] \n",
      "100%|██████████| 294753/294753 [00:45<00:00, 6445.24it/s] \n",
      "100%|██████████| 294753/294753 [00:44<00:00, 6587.55it/s] \n",
      "100%|██████████| 294753/294753 [00:45<00:00, 6419.73it/s] \n",
      "100%|██████████| 294753/294753 [00:45<00:00, 6469.52it/s] \n",
      "100%|██████████| 294753/294753 [00:45<00:00, 6492.97it/s] \n",
      "100%|██████████| 294753/294753 [00:44<00:00, 6655.32it/s] \n",
      "100%|██████████| 294753/294753 [00:45<00:00, 6469.60it/s] \n",
      "100%|██████████| 294753/294753 [00:45<00:00, 6489.65it/s] \n",
      "100%|██████████| 294753/294753 [00:44<00:00, 6625.64it/s] \n",
      "100%|██████████| 294753/294753 [00:45<00:00, 6545.00it/s] \n",
      "100%|██████████| 294753/294753 [00:45<00:00, 6523.82it/s] \n",
      "100%|██████████| 294753/294753 [00:45<00:00, 6495.86it/s] \n",
      "100%|██████████| 294753/294753 [00:44<00:00, 6587.46it/s] \n",
      "100%|██████████| 294753/294753 [00:44<00:00, 6566.55it/s] \n"
     ]
    },
    {
     "name": "stdout",
     "output_type": "stream",
     "text": [
      "89\n"
     ]
    }
   ],
   "source": [
    "import multiprocessing as mp\n",
    "from multiprocessing import Pool\n",
    "import time\n",
    "\n",
    "# 기업명 리스트에 있는 토큰은 기업명 태깅\n",
    "def basic_labeling(x):\n",
    "    if x in kospi_comp_list:\n",
    "        return 'B_COMP'\n",
    "    elif x in kosdaq_comp_list:\n",
    "        return 'B_COMP'\n",
    "    # 나머지는 전부 O 태깅\n",
    "    else:\n",
    "        return 'O'\n",
    "    \n",
    "def apply_labeling(data):\n",
    "    data['BIO_tag'] = data['token'].progress_apply(lambda x : basic_labeling(x))\n",
    "    return data\n",
    "    \n",
    "def parallel_df(df,func,n_cores):\n",
    "    df_split = np.array_split(df,n_cores)\n",
    "    pool = Pool(n_cores)\n",
    "    df = pd.concat(pool.map(func, df_split))\n",
    "    pool.close()\n",
    "    pool.join()\n",
    "    return df\n",
    "\n",
    "start = int(time.time())\n",
    "\n",
    "# Multiprocessing\n",
    "df = parallel_df(NER_data,apply_labeling,n_cores=50)\n",
    "\n",
    "# 연산 소요시간 측정\n",
    "print(int(time.time() - start))\n",
    "\n",
    "NER_data = df"
   ]
  },
  {
   "cell_type": "code",
   "execution_count": 168,
   "metadata": {},
   "outputs": [],
   "source": [
    "NER_data.to_csv('NER_dataset_base_labeled.csv', index = False)"
   ]
  },
  {
   "cell_type": "code",
   "execution_count": 169,
   "metadata": {},
   "outputs": [],
   "source": [
    "NER_data = pd.read_csv('NER_dataset_base_labeled.csv')"
   ]
  },
  {
   "cell_type": "code",
   "execution_count": 828,
   "metadata": {},
   "outputs": [],
   "source": [
    "# 이벤트 rule\n",
    "# 정의해 놨던 Rule을 중간에 날려먹어서 최대한 복구하였습니다..\n",
    "\n",
    "event_uni_list = ['무상증자', '유상증자', '구조조정', '인수합병', '인플레이션', '신규상장', '대호황', '초호황']\n",
    "\n",
    "\n",
    "event_head_list = ['MOU', '진출', '계약', '인수', '신증설', 'FOMC', '흥행', \n",
    "                 '계약',  '분할', '무상증자', '유상증자', '배당', '구조조정', '병합', '인수', '인플레이션', \n",
    "                  '파산', '호황', '신규상장', '초호황', '대호황', '업계'\n",
    "                 '실적',  '공급', '흡수', '상호', '실적', '공장', '전략', '공급',\n",
    "                     '법안', '세금', '코인', '임원', '수급', '국내', '해외', '코로나19', '수입', '수출', '서비스', '정식',\n",
    "                     '무상', '유상', '임상', '코로나', '신규', '코스피', '코스닥', '업종', '사명',\n",
    "                     '사채', '특허', '자사주', '신제품', '신규', '사업', '수익', '공시', '이벤트',\n",
    "                     '협약', '성과', '흥행', '출시', '일정']\n",
    "\n",
    "\n",
    "event_tail_list = ['부진', '발표', '체결', '계약', '합병', '변경', '회복', '결정', '신설', '건설', '완공', '지연',\n",
    "                     '제휴', '증가', '보수', '인상', '통과', '게이트', '연루', '영향', '문제', '감소', '확산', '시작',\n",
    "                     '판매', '서비스', '계약 ', '분할', '병합', '인수', '파산', '위기', '성공', '실패', '호황',\n",
    "                      '수급', '철회', '연기','해결', '요구', '요청', '증자', '예정', '실험', '상장', '추가', '개선',\n",
    "                      '공개', '대폭', '발주', '프로젝트', '발주', '수주', '발행', '개설', '취득', '특허', '매입', '개발',\n",
    "                     '편입', '지정', '종목', '규제', '강화', '약화', '악화', '정리', '개편', '구조', '추진', '확대', '확보',\n",
    "                     '매각', '주력', '달성', '실시','코로나19', '수입', '수출', '서비스', '정식',\n",
    "                     '무상', '유상', '임상', '코로나', '신규', '코스피', '코스닥', '상장', '추가', '업종', '사명', '추가',\n",
    "                     '사채', '특허', '자사주', '신제품', '신규', '관리', '규제', '사업', '수익', '공시', '이벤트',\n",
    "                  '체결', '추진', '보수', '증가', '감소', '시작', '발표', '예정', '성공', '실패', '시작', '철회',\n",
    "                      '연기', '해결', '요구', '요청', '병합', '인수', '실험', '상장', '추가', '개선', '발주', '수주',\n",
    "                      '계약', '취득', '지정', '강화', '약화', '악화', '개발', '개설', '정리', '개편', '확보','부진', '발표',\n",
    "                       '체결', '계약', '합병', '변경', '회복', '결정', '신설', '건설', '완공', '지연',\n",
    "                     '제휴', '증가', '보수', '인상', '통과', '게이트', '연루', '영향', '문제', '감소', '확산', '시작',\n",
    "                     '판매', '서비스', '계약 ', '분할', '병합', '인수', '파산', '위기', '성공', '실패', '호황',\n",
    "                      '수급', '철회', '연기','해결', '요구', '요청', '증자', '예정', '실험', '상장', '추가', '개선',\n",
    "                      '공개', '대폭', '발주', '프로젝트', '발주', '수주', '발행', '개설', '취득', '특허', '매입', '개발',\n",
    "                     '편입', '지정', '종목', '규제', '강화', '약화', '악화', '정리', '개편', '구조', '추진', '확대', '확보',\n",
    "                     '매각', '주력', '달성', '실시','코로나19', '수입', '수출', '서비스', '정식',\n",
    "                     '무상', '유상', '임상', '코로나', '신규', '코스피', '코스닥', '상장', '추가', '업종', '사명', '추가',\n",
    "                     '사채', '특허', '자사주', '신제품', '신규', '관리', '규제', '사업', '수익', '공시', '이벤트', '확정']\n",
    "\n",
    "# 테마 rule\n",
    "\n",
    "theme_uni_list = ['제약', '의료기기', '이차전지', '금속업', '금융업', '운수장비', '종이목재', '의약품', '전기가스업',\n",
    "                 '비금속광물', '방송서비스', '모바일게임', '국방', '코로나', '코로나19', '자동차부품', '재생에너지',\n",
    "                 '신재생에너지', '친환경', '대선','중국', '첨단', '종이', '디지털', '차량', '유망', '우주', '희귀', '코로나', '코로나19',\n",
    "                 '운송', '백신','의료', '폐수', '재생', '신재생', '친환경', '차량용', '메모리', '비메모리', '이재명', '윤석열', '이준석',\n",
    "                  '총선', '대선', '테이퍼링', '금리', '원자력']\n",
    "\n",
    "theme_uni_list = theme_uni_list + theme_name_list\n",
    "\n",
    "theme_bi_tail_list = ['발전소', '질환', '치료제', '백신', '인프라', '운송','보관', '기기', '처리', '에너지', '관련주', '테마주', '인상', '상승']\n",
    "\n",
    "\n",
    "# 지속 추가 (모델 디벨롭)\n"
   ]
  },
  {
   "cell_type": "code",
   "execution_count": 829,
   "metadata": {},
   "outputs": [
    {
     "data": {
      "text/plain": [
       "9436"
      ]
     },
     "execution_count": 829,
     "metadata": {},
     "output_type": "execute_result"
    }
   ],
   "source": [
    "from itertools import product\n",
    "\n",
    "len(list(product(theme_uni_list, theme_bi_tail_list)))"
   ]
  },
  {
   "cell_type": "code",
   "execution_count": 171,
   "metadata": {},
   "outputs": [],
   "source": [
    "event_tail_list = list(set(event_tail_list))"
   ]
  },
  {
   "cell_type": "code",
   "execution_count": 172,
   "metadata": {},
   "outputs": [
    {
     "name": "stderr",
     "output_type": "stream",
     "text": [
      "100%|██████████| 14737675/14737675 [1:18:25<00:00, 3132.23it/s]  \n"
     ]
    },
    {
     "name": "stdout",
     "output_type": "stream",
     "text": [
      "수행시간: 6337.619494 초\n"
     ]
    },
    {
     "name": "stderr",
     "output_type": "stream",
     "text": [
      "Process ForkPoolWorker-159:\n",
      "Process ForkPoolWorker-158:\n",
      "Process ForkPoolWorker-154:\n",
      "Process ForkPoolWorker-157:\n",
      "Process ForkPoolWorker-151:\n",
      "Process ForkPoolWorker-156:\n",
      "Process ForkPoolWorker-153:\n",
      "Traceback (most recent call last):\n",
      "Process ForkPoolWorker-155:\n",
      "Traceback (most recent call last):\n",
      "Traceback (most recent call last):\n",
      "Traceback (most recent call last):\n",
      "  File \"/usr/lib/python3.6/multiprocessing/process.py\", line 258, in _bootstrap\n",
      "    self.run()\n",
      "Traceback (most recent call last):\n",
      "  File \"/usr/lib/python3.6/multiprocessing/process.py\", line 258, in _bootstrap\n",
      "    self.run()\n",
      "  File \"/usr/lib/python3.6/multiprocessing/process.py\", line 258, in _bootstrap\n",
      "    self.run()\n",
      "Traceback (most recent call last):\n",
      "  File \"/usr/lib/python3.6/multiprocessing/process.py\", line 258, in _bootstrap\n",
      "    self.run()\n",
      "  File \"/usr/lib/python3.6/multiprocessing/process.py\", line 93, in run\n",
      "    self._target(*self._args, **self._kwargs)\n",
      "  File \"/usr/lib/python3.6/multiprocessing/process.py\", line 93, in run\n",
      "    self._target(*self._args, **self._kwargs)\n",
      "Process ForkPoolWorker-152:\n",
      "  File \"/usr/lib/python3.6/multiprocessing/process.py\", line 258, in _bootstrap\n",
      "    self.run()\n",
      "  File \"/usr/lib/python3.6/multiprocessing/process.py\", line 93, in run\n",
      "    self._target(*self._args, **self._kwargs)\n",
      "Process ForkPoolWorker-160:\n",
      "  File \"/usr/lib/python3.6/multiprocessing/pool.py\", line 108, in worker\n",
      "    task = get()\n",
      "  File \"/usr/lib/python3.6/multiprocessing/process.py\", line 93, in run\n",
      "    self._target(*self._args, **self._kwargs)\n",
      "  File \"/usr/lib/python3.6/multiprocessing/process.py\", line 258, in _bootstrap\n",
      "    self.run()\n",
      "  File \"/usr/lib/python3.6/multiprocessing/pool.py\", line 108, in worker\n",
      "    task = get()\n",
      "  File \"/usr/lib/python3.6/multiprocessing/process.py\", line 93, in run\n",
      "    self._target(*self._args, **self._kwargs)\n",
      "  File \"/usr/lib/python3.6/multiprocessing/pool.py\", line 108, in worker\n",
      "    task = get()\n",
      "  File \"/usr/lib/python3.6/multiprocessing/queues.py\", line 334, in get\n",
      "    with self._rlock:\n",
      "  File \"/usr/lib/python3.6/multiprocessing/process.py\", line 93, in run\n",
      "    self._target(*self._args, **self._kwargs)\n",
      "  File \"/usr/lib/python3.6/multiprocessing/pool.py\", line 108, in worker\n",
      "    task = get()\n",
      "Traceback (most recent call last):\n",
      "  File \"/usr/lib/python3.6/multiprocessing/queues.py\", line 334, in get\n",
      "    with self._rlock:\n",
      "  File \"/usr/lib/python3.6/multiprocessing/pool.py\", line 108, in worker\n",
      "    task = get()\n",
      "  File \"/usr/lib/python3.6/multiprocessing/queues.py\", line 334, in get\n",
      "    with self._rlock:\n",
      "  File \"/usr/lib/python3.6/multiprocessing/pool.py\", line 108, in worker\n",
      "    task = get()\n",
      "  File \"/usr/lib/python3.6/multiprocessing/synchronize.py\", line 95, in __enter__\n",
      "    return self._semlock.__enter__()\n",
      "Traceback (most recent call last):\n",
      "  File \"/usr/lib/python3.6/multiprocessing/queues.py\", line 334, in get\n",
      "    with self._rlock:\n",
      "  File \"/usr/lib/python3.6/multiprocessing/synchronize.py\", line 95, in __enter__\n",
      "    return self._semlock.__enter__()\n",
      "  File \"/usr/lib/python3.6/multiprocessing/queues.py\", line 334, in get\n",
      "    with self._rlock:\n",
      "  File \"/usr/lib/python3.6/multiprocessing/process.py\", line 258, in _bootstrap\n",
      "    self.run()\n",
      "  File \"/usr/lib/python3.6/multiprocessing/synchronize.py\", line 95, in __enter__\n",
      "    return self._semlock.__enter__()\n",
      "  File \"/usr/lib/python3.6/multiprocessing/queues.py\", line 334, in get\n",
      "    with self._rlock:\n",
      "KeyboardInterrupt\n",
      "  File \"/usr/lib/python3.6/multiprocessing/process.py\", line 258, in _bootstrap\n",
      "    self.run()\n",
      "  File \"/usr/lib/python3.6/multiprocessing/synchronize.py\", line 95, in __enter__\n",
      "    return self._semlock.__enter__()\n",
      "KeyboardInterrupt\n",
      "  File \"/usr/lib/python3.6/multiprocessing/synchronize.py\", line 95, in __enter__\n",
      "    return self._semlock.__enter__()\n",
      "KeyboardInterrupt\n",
      "  File \"/usr/lib/python3.6/multiprocessing/process.py\", line 93, in run\n",
      "    self._target(*self._args, **self._kwargs)\n",
      "  File \"/usr/lib/python3.6/multiprocessing/synchronize.py\", line 95, in __enter__\n",
      "    return self._semlock.__enter__()\n",
      "Traceback (most recent call last):\n",
      "  File \"/usr/lib/python3.6/multiprocessing/process.py\", line 93, in run\n",
      "    self._target(*self._args, **self._kwargs)\n",
      "KeyboardInterrupt\n",
      "KeyboardInterrupt\n",
      "Traceback (most recent call last):\n",
      "  File \"/usr/lib/python3.6/multiprocessing/pool.py\", line 108, in worker\n",
      "    task = get()\n",
      "KeyboardInterrupt\n",
      "  File \"/usr/lib/python3.6/multiprocessing/process.py\", line 258, in _bootstrap\n",
      "    self.run()\n",
      "  File \"/usr/lib/python3.6/multiprocessing/pool.py\", line 108, in worker\n",
      "    task = get()\n",
      "  File \"/usr/lib/python3.6/multiprocessing/process.py\", line 258, in _bootstrap\n",
      "    self.run()\n",
      "  File \"/usr/lib/python3.6/multiprocessing/queues.py\", line 334, in get\n",
      "    with self._rlock:\n",
      "  File \"/usr/lib/python3.6/multiprocessing/process.py\", line 93, in run\n",
      "    self._target(*self._args, **self._kwargs)\n",
      "  File \"/usr/lib/python3.6/multiprocessing/queues.py\", line 334, in get\n",
      "    with self._rlock:\n",
      "  File \"/usr/lib/python3.6/multiprocessing/process.py\", line 93, in run\n",
      "    self._target(*self._args, **self._kwargs)\n",
      "  File \"/usr/lib/python3.6/multiprocessing/synchronize.py\", line 95, in __enter__\n",
      "    return self._semlock.__enter__()\n",
      "  File \"/usr/lib/python3.6/multiprocessing/pool.py\", line 108, in worker\n",
      "    task = get()\n",
      "  File \"/usr/lib/python3.6/multiprocessing/synchronize.py\", line 95, in __enter__\n",
      "    return self._semlock.__enter__()\n",
      "  File \"/usr/lib/python3.6/multiprocessing/pool.py\", line 108, in worker\n",
      "    task = get()\n",
      "KeyboardInterrupt\n",
      "  File \"/usr/lib/python3.6/multiprocessing/queues.py\", line 335, in get\n",
      "    res = self._reader.recv_bytes()\n",
      "KeyboardInterrupt\n",
      "  File \"/usr/lib/python3.6/multiprocessing/queues.py\", line 334, in get\n",
      "    with self._rlock:\n",
      "  File \"/usr/lib/python3.6/multiprocessing/connection.py\", line 216, in recv_bytes\n",
      "    buf = self._recv_bytes(maxlength)\n",
      "  File \"/usr/lib/python3.6/multiprocessing/synchronize.py\", line 95, in __enter__\n",
      "    return self._semlock.__enter__()\n",
      "  File \"/usr/lib/python3.6/multiprocessing/connection.py\", line 407, in _recv_bytes\n",
      "    buf = self._recv(4)\n",
      "KeyboardInterrupt\n",
      "  File \"/usr/lib/python3.6/multiprocessing/connection.py\", line 379, in _recv\n",
      "    chunk = read(handle, remaining)\n",
      "KeyboardInterrupt\n"
     ]
    }
   ],
   "source": [
    "import multiprocessing as mp\n",
    "from multiprocessing import Pool\n",
    "import time\n",
    "from itertools import product\n",
    "from functools import partial\n",
    "def Rule_based_NER_labeling(i):\n",
    "        # 이벤트 n-gram lableing\n",
    "        if NER_data['token'][i] in event_head_list and NER_data['token'][i+1] in event_tail_list:\n",
    "            NER_data['BIO_tag'][i] = 'B_EVT'\n",
    "            NER_data['BIO_tag'][i + 1] = 'I_EVT'\n",
    "        elif NER_data['token'][i] in event_head_list:\n",
    "            NER_data['BIO_tag'][i] = 'B_EVT'\n",
    "           \n",
    "        # 기업명 n-gram labeling\n",
    "#         if NER_data['token'][i] in comp_bi_head_list and NER_data['token'][i+1] in comp_bi_tail_list:\n",
    "#             NER_data['BIO_tag'][i] = 'B_COMP'\n",
    "#             NER_data['BIO_tag'][i + 1] = 'I_COMP'\n",
    "#         elif NER_data['token'][i] in comp_uni_list:\n",
    "#             NER_data['BIO_tag'][i] = 'B_COMP'\n",
    "           \n",
    "        # 테마 n-gram labeing\n",
    "        if NER_data['token'][i] in theme_uni_list and NER_data['token'][i+1] in theme_bi_tail_list:\n",
    "            NER_data['BIO_tag'][i] = 'B_THM'\n",
    "            NER_data['BIO_tag'][i + 1] = 'I_THM'\n",
    "        elif NER_data['token'][i] in theme_uni_list:\n",
    "            NER_data['BIO_tag'][i] = 'B_THM'\n",
    "       \n",
    "        else:\n",
    "            pass\n",
    "       \n",
    "        return NER_data\n",
    "\n",
    "# For loop 용 Multiprocessing (코드 수정 필요)           \n",
    "if __name__ == '__main__':\n",
    "    start = time.time()\n",
    "    pool = Pool(processes=10)\n",
    "    result = pool.map(Rule_based_NER_labeling, tqdm(range(0, len(NER_data) - 2)))\n",
    "    end = time.time()\n",
    "    print(\"수행시간: %f 초\" % (end - start))"
   ]
  },
  {
   "cell_type": "code",
   "execution_count": 177,
   "metadata": {},
   "outputs": [],
   "source": [
    "NER_train = result[0]"
   ]
  },
  {
   "cell_type": "code",
   "execution_count": 178,
   "metadata": {},
   "outputs": [
    {
     "data": {
      "text/plain": [
       "O         13696840\n",
       "B_COMP     1009183\n",
       "B_THM        16332\n",
       "B_EVT        12689\n",
       "I_EVT         2291\n",
       "I_THM          342\n",
       "Name: BIO_tag, dtype: int64"
      ]
     },
     "execution_count": 178,
     "metadata": {},
     "output_type": "execute_result"
    }
   ],
   "source": [
    "NER_train['BIO_tag'].value_counts()"
   ]
  },
  {
   "cell_type": "code",
   "execution_count": 179,
   "metadata": {},
   "outputs": [],
   "source": [
    "NER_train.to_csv('NER_train.csv', index = False)"
   ]
  },
  {
   "cell_type": "markdown",
   "metadata": {},
   "source": [
    "# NER Modeling\n",
    "\n",
    "## BiLSTM + CRF\n",
    "### test1. Fasttext Embedding (OOV 해결 but 성능 저하)\n",
    "### test2. Pos Embedding(성능 저하)"
   ]
  },
  {
   "cell_type": "markdown",
   "metadata": {},
   "source": [
    "https://www.kaggle.com/xwalker/cnn-bilstm-crf\n",
    "\n",
    "https://github.com/keras-team/keras-contrib"
   ]
  },
  {
   "cell_type": "code",
   "execution_count": 52,
   "metadata": {},
   "outputs": [
    {
     "name": "stdout",
     "output_type": "stream",
     "text": [
      "/home/65223/INTERN2021_Python/hyp/keras-contrib-master\n"
     ]
    }
   ],
   "source": [
    "# CRF 레이어 설치\n",
    "\n",
    "cd ./keras-contrib-master"
   ]
  },
  {
   "cell_type": "code",
   "execution_count": 54,
   "metadata": {},
   "outputs": [
    {
     "name": "stdout",
     "output_type": "stream",
     "text": [
      "running install\n",
      "running bdist_egg\n",
      "running egg_info\n",
      "writing keras_contrib.egg-info/PKG-INFO\n",
      "writing dependency_links to keras_contrib.egg-info/dependency_links.txt\n",
      "writing requirements to keras_contrib.egg-info/requires.txt\n",
      "writing top-level names to keras_contrib.egg-info/top_level.txt\n",
      "reading manifest file 'keras_contrib.egg-info/SOURCES.txt'\n",
      "writing manifest file 'keras_contrib.egg-info/SOURCES.txt'\n",
      "installing library code to build/bdist.linux-x86_64/egg\n",
      "running install_lib\n",
      "running build_py\n",
      "creating build/bdist.linux-x86_64/egg\n",
      "creating build/bdist.linux-x86_64/egg/keras_contrib\n",
      "copying build/lib/keras_contrib/__init__.py -> build/bdist.linux-x86_64/egg/keras_contrib\n",
      "creating build/bdist.linux-x86_64/egg/keras_contrib/activations\n",
      "copying build/lib/keras_contrib/activations/__init__.py -> build/bdist.linux-x86_64/egg/keras_contrib/activations\n",
      "copying build/lib/keras_contrib/activations/squash.py -> build/bdist.linux-x86_64/egg/keras_contrib/activations\n",
      "creating build/bdist.linux-x86_64/egg/keras_contrib/constraints\n",
      "copying build/lib/keras_contrib/constraints/clip.py -> build/bdist.linux-x86_64/egg/keras_contrib/constraints\n",
      "copying build/lib/keras_contrib/constraints/__init__.py -> build/bdist.linux-x86_64/egg/keras_contrib/constraints\n",
      "creating build/bdist.linux-x86_64/egg/keras_contrib/optimizers\n",
      "copying build/lib/keras_contrib/optimizers/yogi.py -> build/bdist.linux-x86_64/egg/keras_contrib/optimizers\n",
      "copying build/lib/keras_contrib/optimizers/padam.py -> build/bdist.linux-x86_64/egg/keras_contrib/optimizers\n",
      "copying build/lib/keras_contrib/optimizers/lars.py -> build/bdist.linux-x86_64/egg/keras_contrib/optimizers\n",
      "copying build/lib/keras_contrib/optimizers/__init__.py -> build/bdist.linux-x86_64/egg/keras_contrib/optimizers\n",
      "copying build/lib/keras_contrib/optimizers/ftml.py -> build/bdist.linux-x86_64/egg/keras_contrib/optimizers\n",
      "creating build/bdist.linux-x86_64/egg/keras_contrib/regularizers\n",
      "copying build/lib/keras_contrib/regularizers/__init__.py -> build/bdist.linux-x86_64/egg/keras_contrib/regularizers\n",
      "creating build/bdist.linux-x86_64/egg/keras_contrib/wrappers\n",
      "copying build/lib/keras_contrib/wrappers/__init__.py -> build/bdist.linux-x86_64/egg/keras_contrib/wrappers\n",
      "creating build/bdist.linux-x86_64/egg/keras_contrib/preprocessing\n",
      "copying build/lib/keras_contrib/preprocessing/__init__.py -> build/bdist.linux-x86_64/egg/keras_contrib/preprocessing\n",
      "creating build/bdist.linux-x86_64/egg/keras_contrib/tests\n",
      "copying build/lib/keras_contrib/tests/activations.py -> build/bdist.linux-x86_64/egg/keras_contrib/tests\n",
      "copying build/lib/keras_contrib/tests/__init__.py -> build/bdist.linux-x86_64/egg/keras_contrib/tests\n",
      "copying build/lib/keras_contrib/tests/optimizers.py -> build/bdist.linux-x86_64/egg/keras_contrib/tests\n",
      "copying build/lib/keras_contrib/tests/regularizers.py -> build/bdist.linux-x86_64/egg/keras_contrib/tests\n",
      "copying build/lib/keras_contrib/tests/metrics.py -> build/bdist.linux-x86_64/egg/keras_contrib/tests\n",
      "creating build/bdist.linux-x86_64/egg/keras_contrib/initializers\n",
      "copying build/lib/keras_contrib/initializers/__init__.py -> build/bdist.linux-x86_64/egg/keras_contrib/initializers\n",
      "copying build/lib/keras_contrib/initializers/convaware.py -> build/bdist.linux-x86_64/egg/keras_contrib/initializers\n",
      "creating build/bdist.linux-x86_64/egg/keras_contrib/losses\n",
      "copying build/lib/keras_contrib/losses/jaccard.py -> build/bdist.linux-x86_64/egg/keras_contrib/losses\n",
      "copying build/lib/keras_contrib/losses/dssim.py -> build/bdist.linux-x86_64/egg/keras_contrib/losses\n",
      "copying build/lib/keras_contrib/losses/crf_losses.py -> build/bdist.linux-x86_64/egg/keras_contrib/losses\n",
      "copying build/lib/keras_contrib/losses/__init__.py -> build/bdist.linux-x86_64/egg/keras_contrib/losses\n",
      "creating build/bdist.linux-x86_64/egg/keras_contrib/datasets\n",
      "copying build/lib/keras_contrib/datasets/pascal_voc.py -> build/bdist.linux-x86_64/egg/keras_contrib/datasets\n",
      "copying build/lib/keras_contrib/datasets/coco.py -> build/bdist.linux-x86_64/egg/keras_contrib/datasets\n",
      "copying build/lib/keras_contrib/datasets/__init__.py -> build/bdist.linux-x86_64/egg/keras_contrib/datasets\n",
      "copying build/lib/keras_contrib/datasets/conll2000.py -> build/bdist.linux-x86_64/egg/keras_contrib/datasets\n",
      "creating build/bdist.linux-x86_64/egg/keras_contrib/layers\n",
      "copying build/lib/keras_contrib/layers/capsule.py -> build/bdist.linux-x86_64/egg/keras_contrib/layers\n",
      "copying build/lib/keras_contrib/layers/crf.py -> build/bdist.linux-x86_64/egg/keras_contrib/layers\n",
      "copying build/lib/keras_contrib/layers/__init__.py -> build/bdist.linux-x86_64/egg/keras_contrib/layers\n",
      "copying build/lib/keras_contrib/layers/core.py -> build/bdist.linux-x86_64/egg/keras_contrib/layers\n",
      "creating build/bdist.linux-x86_64/egg/keras_contrib/layers/advanced_activations\n",
      "copying build/lib/keras_contrib/layers/advanced_activations/swish.py -> build/bdist.linux-x86_64/egg/keras_contrib/layers/advanced_activations\n",
      "copying build/lib/keras_contrib/layers/advanced_activations/pelu.py -> build/bdist.linux-x86_64/egg/keras_contrib/layers/advanced_activations\n",
      "copying build/lib/keras_contrib/layers/advanced_activations/sinerelu.py -> build/bdist.linux-x86_64/egg/keras_contrib/layers/advanced_activations\n",
      "copying build/lib/keras_contrib/layers/advanced_activations/srelu.py -> build/bdist.linux-x86_64/egg/keras_contrib/layers/advanced_activations\n",
      "copying build/lib/keras_contrib/layers/advanced_activations/__init__.py -> build/bdist.linux-x86_64/egg/keras_contrib/layers/advanced_activations\n",
      "creating build/bdist.linux-x86_64/egg/keras_contrib/layers/convolutional\n",
      "copying build/lib/keras_contrib/layers/convolutional/subpixelupscaling.py -> build/bdist.linux-x86_64/egg/keras_contrib/layers/convolutional\n",
      "copying build/lib/keras_contrib/layers/convolutional/cosineconvolution2d.py -> build/bdist.linux-x86_64/egg/keras_contrib/layers/convolutional\n",
      "copying build/lib/keras_contrib/layers/convolutional/__init__.py -> build/bdist.linux-x86_64/egg/keras_contrib/layers/convolutional\n",
      "creating build/bdist.linux-x86_64/egg/keras_contrib/layers/normalization\n",
      "copying build/lib/keras_contrib/layers/normalization/instancenormalization.py -> build/bdist.linux-x86_64/egg/keras_contrib/layers/normalization\n",
      "copying build/lib/keras_contrib/layers/normalization/__init__.py -> build/bdist.linux-x86_64/egg/keras_contrib/layers/normalization\n",
      "copying build/lib/keras_contrib/layers/normalization/groupnormalization.py -> build/bdist.linux-x86_64/egg/keras_contrib/layers/normalization\n",
      "creating build/bdist.linux-x86_64/egg/keras_contrib/callbacks\n",
      "copying build/lib/keras_contrib/callbacks/cyclical_learning_rate.py -> build/bdist.linux-x86_64/egg/keras_contrib/callbacks\n",
      "copying build/lib/keras_contrib/callbacks/dead_relu_detector.py -> build/bdist.linux-x86_64/egg/keras_contrib/callbacks\n",
      "copying build/lib/keras_contrib/callbacks/tensorboard.py -> build/bdist.linux-x86_64/egg/keras_contrib/callbacks\n",
      "copying build/lib/keras_contrib/callbacks/snapshot.py -> build/bdist.linux-x86_64/egg/keras_contrib/callbacks\n",
      "copying build/lib/keras_contrib/callbacks/__init__.py -> build/bdist.linux-x86_64/egg/keras_contrib/callbacks\n",
      "creating build/bdist.linux-x86_64/egg/keras_contrib/applications\n",
      "copying build/lib/keras_contrib/applications/__init__.py -> build/bdist.linux-x86_64/egg/keras_contrib/applications\n",
      "copying build/lib/keras_contrib/applications/resnet.py -> build/bdist.linux-x86_64/egg/keras_contrib/applications\n",
      "copying build/lib/keras_contrib/applications/densenet.py -> build/bdist.linux-x86_64/egg/keras_contrib/applications\n",
      "copying build/lib/keras_contrib/applications/nasnet.py -> build/bdist.linux-x86_64/egg/keras_contrib/applications\n",
      "copying build/lib/keras_contrib/applications/wide_resnet.py -> build/bdist.linux-x86_64/egg/keras_contrib/applications\n",
      "creating build/bdist.linux-x86_64/egg/keras_contrib/utils\n",
      "copying build/lib/keras_contrib/utils/__init__.py -> build/bdist.linux-x86_64/egg/keras_contrib/utils\n",
      "copying build/lib/keras_contrib/utils/save_load_utils.py -> build/bdist.linux-x86_64/egg/keras_contrib/utils\n",
      "copying build/lib/keras_contrib/utils/test_utils.py -> build/bdist.linux-x86_64/egg/keras_contrib/utils\n",
      "copying build/lib/keras_contrib/utils/conv_utils.py -> build/bdist.linux-x86_64/egg/keras_contrib/utils\n",
      "creating build/bdist.linux-x86_64/egg/keras_contrib/metrics\n",
      "copying build/lib/keras_contrib/metrics/crf_accuracies.py -> build/bdist.linux-x86_64/egg/keras_contrib/metrics\n",
      "copying build/lib/keras_contrib/metrics/__init__.py -> build/bdist.linux-x86_64/egg/keras_contrib/metrics\n",
      "creating build/bdist.linux-x86_64/egg/keras_contrib/backend\n",
      "copying build/lib/keras_contrib/backend/cntk_backend.py -> build/bdist.linux-x86_64/egg/keras_contrib/backend\n",
      "copying build/lib/keras_contrib/backend/tensorflow_backend.py -> build/bdist.linux-x86_64/egg/keras_contrib/backend\n",
      "copying build/lib/keras_contrib/backend/__init__.py -> build/bdist.linux-x86_64/egg/keras_contrib/backend\n",
      "copying build/lib/keras_contrib/backend/theano_backend.py -> build/bdist.linux-x86_64/egg/keras_contrib/backend\n",
      "copying build/lib/keras_contrib/backend/numpy_backend.py -> build/bdist.linux-x86_64/egg/keras_contrib/backend\n",
      "byte-compiling build/bdist.linux-x86_64/egg/keras_contrib/__init__.py to __init__.cpython-36.pyc\n",
      "byte-compiling build/bdist.linux-x86_64/egg/keras_contrib/activations/__init__.py to __init__.cpython-36.pyc\n",
      "byte-compiling build/bdist.linux-x86_64/egg/keras_contrib/activations/squash.py to squash.cpython-36.pyc\n",
      "byte-compiling build/bdist.linux-x86_64/egg/keras_contrib/constraints/clip.py to clip.cpython-36.pyc\n",
      "byte-compiling build/bdist.linux-x86_64/egg/keras_contrib/constraints/__init__.py to __init__.cpython-36.pyc\n",
      "byte-compiling build/bdist.linux-x86_64/egg/keras_contrib/optimizers/yogi.py to yogi.cpython-36.pyc\n",
      "byte-compiling build/bdist.linux-x86_64/egg/keras_contrib/optimizers/padam.py to padam.cpython-36.pyc\n",
      "byte-compiling build/bdist.linux-x86_64/egg/keras_contrib/optimizers/lars.py to lars.cpython-36.pyc\n",
      "byte-compiling build/bdist.linux-x86_64/egg/keras_contrib/optimizers/__init__.py to __init__.cpython-36.pyc\n",
      "byte-compiling build/bdist.linux-x86_64/egg/keras_contrib/optimizers/ftml.py to ftml.cpython-36.pyc\n",
      "byte-compiling build/bdist.linux-x86_64/egg/keras_contrib/regularizers/__init__.py to __init__.cpython-36.pyc\n",
      "byte-compiling build/bdist.linux-x86_64/egg/keras_contrib/wrappers/__init__.py to __init__.cpython-36.pyc\n",
      "byte-compiling build/bdist.linux-x86_64/egg/keras_contrib/preprocessing/__init__.py to __init__.cpython-36.pyc\n",
      "byte-compiling build/bdist.linux-x86_64/egg/keras_contrib/tests/activations.py to activations.cpython-36.pyc\n",
      "byte-compiling build/bdist.linux-x86_64/egg/keras_contrib/tests/__init__.py to __init__.cpython-36.pyc\n",
      "byte-compiling build/bdist.linux-x86_64/egg/keras_contrib/tests/optimizers.py to optimizers.cpython-36.pyc\n",
      "byte-compiling build/bdist.linux-x86_64/egg/keras_contrib/tests/regularizers.py to regularizers.cpython-36.pyc\n",
      "byte-compiling build/bdist.linux-x86_64/egg/keras_contrib/tests/metrics.py to metrics.cpython-36.pyc\n",
      "byte-compiling build/bdist.linux-x86_64/egg/keras_contrib/initializers/__init__.py to __init__.cpython-36.pyc\n",
      "byte-compiling build/bdist.linux-x86_64/egg/keras_contrib/initializers/convaware.py to convaware.cpython-36.pyc\n",
      "byte-compiling build/bdist.linux-x86_64/egg/keras_contrib/losses/jaccard.py to jaccard.cpython-36.pyc\n",
      "byte-compiling build/bdist.linux-x86_64/egg/keras_contrib/losses/dssim.py to dssim.cpython-36.pyc\n",
      "byte-compiling build/bdist.linux-x86_64/egg/keras_contrib/losses/crf_losses.py to crf_losses.cpython-36.pyc\n",
      "byte-compiling build/bdist.linux-x86_64/egg/keras_contrib/losses/__init__.py to __init__.cpython-36.pyc\n",
      "byte-compiling build/bdist.linux-x86_64/egg/keras_contrib/datasets/pascal_voc.py to pascal_voc.cpython-36.pyc\n",
      "byte-compiling build/bdist.linux-x86_64/egg/keras_contrib/datasets/coco.py to coco.cpython-36.pyc\n",
      "byte-compiling build/bdist.linux-x86_64/egg/keras_contrib/datasets/__init__.py to __init__.cpython-36.pyc\n",
      "byte-compiling build/bdist.linux-x86_64/egg/keras_contrib/datasets/conll2000.py to conll2000.cpython-36.pyc\n",
      "byte-compiling build/bdist.linux-x86_64/egg/keras_contrib/layers/capsule.py to capsule.cpython-36.pyc\n",
      "byte-compiling build/bdist.linux-x86_64/egg/keras_contrib/layers/crf.py to crf.cpython-36.pyc\n",
      "byte-compiling build/bdist.linux-x86_64/egg/keras_contrib/layers/__init__.py to __init__.cpython-36.pyc\n",
      "byte-compiling build/bdist.linux-x86_64/egg/keras_contrib/layers/core.py to core.cpython-36.pyc\n",
      "byte-compiling build/bdist.linux-x86_64/egg/keras_contrib/layers/advanced_activations/swish.py to swish.cpython-36.pyc\n",
      "byte-compiling build/bdist.linux-x86_64/egg/keras_contrib/layers/advanced_activations/pelu.py to pelu.cpython-36.pyc\n",
      "byte-compiling build/bdist.linux-x86_64/egg/keras_contrib/layers/advanced_activations/sinerelu.py to sinerelu.cpython-36.pyc\n",
      "byte-compiling build/bdist.linux-x86_64/egg/keras_contrib/layers/advanced_activations/srelu.py to srelu.cpython-36.pyc\n",
      "byte-compiling build/bdist.linux-x86_64/egg/keras_contrib/layers/advanced_activations/__init__.py to __init__.cpython-36.pyc\n",
      "byte-compiling build/bdist.linux-x86_64/egg/keras_contrib/layers/convolutional/subpixelupscaling.py to subpixelupscaling.cpython-36.pyc\n",
      "byte-compiling build/bdist.linux-x86_64/egg/keras_contrib/layers/convolutional/cosineconvolution2d.py to cosineconvolution2d.cpython-36.pyc\n",
      "byte-compiling build/bdist.linux-x86_64/egg/keras_contrib/layers/convolutional/__init__.py to __init__.cpython-36.pyc\n",
      "byte-compiling build/bdist.linux-x86_64/egg/keras_contrib/layers/normalization/instancenormalization.py to instancenormalization.cpython-36.pyc\n",
      "byte-compiling build/bdist.linux-x86_64/egg/keras_contrib/layers/normalization/__init__.py to __init__.cpython-36.pyc\n",
      "byte-compiling build/bdist.linux-x86_64/egg/keras_contrib/layers/normalization/groupnormalization.py to groupnormalization.cpython-36.pyc\n",
      "byte-compiling build/bdist.linux-x86_64/egg/keras_contrib/callbacks/cyclical_learning_rate.py to cyclical_learning_rate.cpython-36.pyc\n",
      "byte-compiling build/bdist.linux-x86_64/egg/keras_contrib/callbacks/dead_relu_detector.py to dead_relu_detector.cpython-36.pyc\n",
      "byte-compiling build/bdist.linux-x86_64/egg/keras_contrib/callbacks/tensorboard.py to tensorboard.cpython-36.pyc\n",
      "byte-compiling build/bdist.linux-x86_64/egg/keras_contrib/callbacks/snapshot.py to snapshot.cpython-36.pyc\n",
      "byte-compiling build/bdist.linux-x86_64/egg/keras_contrib/callbacks/__init__.py to __init__.cpython-36.pyc\n",
      "byte-compiling build/bdist.linux-x86_64/egg/keras_contrib/applications/__init__.py to __init__.cpython-36.pyc\n",
      "byte-compiling build/bdist.linux-x86_64/egg/keras_contrib/applications/resnet.py to resnet.cpython-36.pyc\n",
      "byte-compiling build/bdist.linux-x86_64/egg/keras_contrib/applications/densenet.py to densenet.cpython-36.pyc\n",
      "byte-compiling build/bdist.linux-x86_64/egg/keras_contrib/applications/nasnet.py to nasnet.cpython-36.pyc\n",
      "byte-compiling build/bdist.linux-x86_64/egg/keras_contrib/applications/wide_resnet.py to wide_resnet.cpython-36.pyc\n",
      "byte-compiling build/bdist.linux-x86_64/egg/keras_contrib/utils/__init__.py to __init__.cpython-36.pyc\n",
      "byte-compiling build/bdist.linux-x86_64/egg/keras_contrib/utils/save_load_utils.py to save_load_utils.cpython-36.pyc\n",
      "byte-compiling build/bdist.linux-x86_64/egg/keras_contrib/utils/test_utils.py to test_utils.cpython-36.pyc\n",
      "byte-compiling build/bdist.linux-x86_64/egg/keras_contrib/utils/conv_utils.py to conv_utils.cpython-36.pyc\n",
      "byte-compiling build/bdist.linux-x86_64/egg/keras_contrib/metrics/crf_accuracies.py to crf_accuracies.cpython-36.pyc\n",
      "byte-compiling build/bdist.linux-x86_64/egg/keras_contrib/metrics/__init__.py to __init__.cpython-36.pyc\n",
      "byte-compiling build/bdist.linux-x86_64/egg/keras_contrib/backend/cntk_backend.py to cntk_backend.cpython-36.pyc\n",
      "byte-compiling build/bdist.linux-x86_64/egg/keras_contrib/backend/tensorflow_backend.py to tensorflow_backend.cpython-36.pyc\n",
      "byte-compiling build/bdist.linux-x86_64/egg/keras_contrib/backend/__init__.py to __init__.cpython-36.pyc\n",
      "byte-compiling build/bdist.linux-x86_64/egg/keras_contrib/backend/theano_backend.py to theano_backend.cpython-36.pyc\n",
      "byte-compiling build/bdist.linux-x86_64/egg/keras_contrib/backend/numpy_backend.py to numpy_backend.cpython-36.pyc\n",
      "creating build/bdist.linux-x86_64/egg/EGG-INFO\n",
      "copying keras_contrib.egg-info/PKG-INFO -> build/bdist.linux-x86_64/egg/EGG-INFO\n",
      "copying keras_contrib.egg-info/SOURCES.txt -> build/bdist.linux-x86_64/egg/EGG-INFO\n",
      "copying keras_contrib.egg-info/dependency_links.txt -> build/bdist.linux-x86_64/egg/EGG-INFO\n",
      "copying keras_contrib.egg-info/requires.txt -> build/bdist.linux-x86_64/egg/EGG-INFO\n",
      "copying keras_contrib.egg-info/top_level.txt -> build/bdist.linux-x86_64/egg/EGG-INFO\n",
      "zip_safe flag not set; analyzing archive contents...\n",
      "creating 'dist/keras_contrib-2.0.8-py3.6.egg' and adding 'build/bdist.linux-x86_64/egg' to it\n",
      "removing 'build/bdist.linux-x86_64/egg' (and everything under it)\n",
      "Processing keras_contrib-2.0.8-py3.6.egg\n",
      "Removing /usr/local/lib/python3.6/dist-packages/keras_contrib-2.0.8-py3.6.egg\n",
      "Copying keras_contrib-2.0.8-py3.6.egg to /usr/local/lib/python3.6/dist-packages\n",
      "keras-contrib 2.0.8 is already the active version in easy-install.pth\n",
      "\n",
      "Installed /usr/local/lib/python3.6/dist-packages/keras_contrib-2.0.8-py3.6.egg\n",
      "Processing dependencies for keras-contrib==2.0.8\n",
      "Searching for Keras==2.2.4\n",
      "Best match: Keras 2.2.4\n",
      "Adding Keras 2.2.4 to easy-install.pth file\n",
      "\n",
      "Using /usr/local/lib/python3.6/dist-packages\n",
      "Searching for numpy==1.16.2\n",
      "Best match: numpy 1.16.2\n",
      "Adding numpy 1.16.2 to easy-install.pth file\n",
      "Installing f2py script to /usr/local/bin\n",
      "Installing f2py3 script to /usr/local/bin\n",
      "Installing f2py3.6 script to /usr/local/bin\n",
      "\n",
      "Using /usr/local/lib/python3.6/dist-packages\n",
      "Searching for Keras-Preprocessing==1.1.0\n",
      "Best match: Keras-Preprocessing 1.1.0\n",
      "Adding Keras-Preprocessing 1.1.0 to easy-install.pth file\n",
      "\n",
      "Using /usr/local/lib/python3.6/dist-packages\n",
      "Searching for scipy==1.4.1\n",
      "Best match: scipy 1.4.1\n",
      "Adding scipy 1.4.1 to easy-install.pth file\n",
      "\n",
      "Using /usr/local/lib/python3.6/dist-packages\n",
      "Searching for six==1.14.0\n",
      "Best match: six 1.14.0\n",
      "Adding six 1.14.0 to easy-install.pth file\n",
      "\n",
      "Using /usr/local/lib/python3.6/dist-packages\n",
      "Searching for Keras-Applications==1.0.8\n",
      "Best match: Keras-Applications 1.0.8\n",
      "Adding Keras-Applications 1.0.8 to easy-install.pth file\n",
      "\n",
      "Using /usr/local/lib/python3.6/dist-packages\n",
      "Searching for h5py==2.10.0\n",
      "Best match: h5py 2.10.0\n",
      "Adding h5py 2.10.0 to easy-install.pth file\n",
      "\n",
      "Using /usr/local/lib/python3.6/dist-packages\n",
      "Searching for PyYAML==5.3.1\n",
      "Best match: PyYAML 5.3.1\n",
      "Adding PyYAML 5.3.1 to easy-install.pth file\n",
      "\n",
      "Using /usr/local/lib/python3.6/dist-packages\n",
      "Finished processing dependencies for keras-contrib==2.0.8\n"
     ]
    }
   ],
   "source": [
    "!sudo python setup.py install"
   ]
  },
  {
   "cell_type": "code",
   "execution_count": 58,
   "metadata": {},
   "outputs": [
    {
     "name": "stdout",
     "output_type": "stream",
     "text": [
      "Looking in indexes: http://172.20.8.21:8081/repository/pypi-repo/simple\n",
      "Collecting seqeval\n",
      "  Downloading http://172.20.8.21:8081/repository/pypi-repo/packages/seqeval/0.0.6/seqeval-0.0.6-py3-none-any.whl (6.0 kB)\n",
      "Requirement already satisfied: numpy>=1.14.0 in /usr/local/lib/python3.6/dist-packages (from seqeval) (1.16.2)\n",
      "Installing collected packages: seqeval\n",
      "Successfully installed seqeval-0.0.6\n"
     ]
    }
   ],
   "source": [
    "!pip install seqeval"
   ]
  },
  {
   "cell_type": "code",
   "execution_count": 31,
   "metadata": {},
   "outputs": [
    {
     "name": "stderr",
     "output_type": "stream",
     "text": [
      "Using TensorFlow backend.\n"
     ]
    }
   ],
   "source": [
    "from sklearn.preprocessing import StandardScaler\n",
    "from keras import regularizers\n",
    "from keras.models import Sequential\n",
    "from keras.layers import Dense, Input, Dropout, LSTM, Bidirectional, MaxPooling1D, Reshape, Flatten, Conv1D, Concatenate, TimeDistributed\n",
    "from keras.optimizers import Adam\n",
    "from keras.models import Model, load_model\n",
    "from keras.layers.embeddings import Embedding\n",
    "from keras.preprocessing.sequence import pad_sequences\n",
    "from keras.preprocessing.text import Tokenizer\n",
    "from keras.preprocessing import text as keras_text, sequence as keras_seq\n",
    "from keras.callbacks import Callback, ModelCheckpoint\n",
    "from gensim.models.fasttext import FastText\n",
    "from gensim.models import Word2Vec\n",
    "import pickle\n",
    "from keras.utils import to_categorical\n",
    "from sklearn.model_selection import train_test_split\n",
    "from tensorflow.keras.callbacks import ModelCheckpoint\n",
    "from keras_contrib.layers import CRF\n",
    "from keras_contrib.losses import crf_loss\n",
    "from keras_contrib.metrics import crf_viterbi_accuracy\n",
    "from seqeval.metrics import f1_score, classification_report"
   ]
  },
  {
   "cell_type": "code",
   "execution_count": 32,
   "metadata": {},
   "outputs": [],
   "source": [
    "# Multiclass F1 스코어\n",
    "\n",
    "class F1score(Callback):\n",
    "    def __init__(self, value = 0.0, use_char=True):\n",
    "        super(F1score, self).__init__()\n",
    "        self.value = value\n",
    "        self.use_char = use_char\n",
    "\n",
    "    def sequences_to_tags(self, sequences): \n",
    "        result = []\n",
    "        for sequence in sequences: \n",
    "            tag = []\n",
    "            for pred in sequence: \n",
    "                pred_index = np.argmax(pred) \n",
    "                tag.append(idx2tag[pred_index].replace(\"<PAD>\", \"0\")) \n",
    "            result.append(tag)\n",
    "        return result\n",
    "\n",
    "    def on_epoch_end(self, epoch, logs={}):\n",
    "        if self.use_char:\n",
    "            X_test = self.validation_data[0]\n",
    "            X_char_test = self.validation_data[1]\n",
    "            y_test = self.validation_data[2]\n",
    "            y_predicted = self.model.predict([X_test, X_char_test])\n",
    "        else:\n",
    "            X_test = self.validation_data[0]\n",
    "            y_test = self.validation_data[1]\n",
    "            y_predicted = self.model.predict([X_test])\n",
    "        \n",
    "        pred_tags = self.sequences_to_tags(y_predicted)\n",
    "        test_tags = self.sequences_to_tags(y_test)\n",
    "        \n",
    "        score = f1_score(pred_tags, test_tags)\n",
    "        print(' - f1: {:04.2f}'.format(score * 100))\n",
    "\n",
    "        if score > self.value:\n",
    "            print('f1_score improved from %f to %f, saving model to best_model.h5'%(self.value, score))\n",
    "            self.model.save('best_model.h5')\n",
    "            self.value = score\n",
    "        else:\n",
    "            print('f1_score did not improve from %f'%(self.value))"
   ]
  },
  {
   "cell_type": "code",
   "execution_count": 960,
   "metadata": {},
   "outputs": [],
   "source": [
    "NER_train = pd.read_csv('NER_train.csv')"
   ]
  },
  {
   "cell_type": "code",
   "execution_count": 208,
   "metadata": {},
   "outputs": [
    {
     "data": {
      "text/plain": [
       "O         13696840\n",
       "B_COMP     1009183\n",
       "B_THM        16332\n",
       "B_EVT        12689\n",
       "I_EVT         2291\n",
       "I_THM          342\n",
       "Name: BIO_tag, dtype: int64"
      ]
     },
     "execution_count": 208,
     "metadata": {},
     "output_type": "execute_result"
    }
   ],
   "source": [
    "NER_train['BIO_tag'].value_counts()"
   ]
  },
  {
   "cell_type": "code",
   "execution_count": 209,
   "metadata": {},
   "outputs": [],
   "source": [
    "NER_train.dropna(axis = 0, inplace = True)\n",
    "NER_train.reset_index(drop = True, inplace = True)"
   ]
  },
  {
   "cell_type": "code",
   "execution_count": 210,
   "metadata": {},
   "outputs": [],
   "source": [
    "# 토큰, BIO태그 정수 인코딩\n",
    "\n",
    "from itertools import chain\n",
    "def get_dict_map(data, token_or_tag):\n",
    "    tok2idx = {}\n",
    "    idx2tok = {}\n",
    "    \n",
    "    if token_or_tag == 'token':\n",
    "        vocab = list(set(data['token'].to_list()))\n",
    "    else:\n",
    "        vocab = list(set(data['BIO_tag'].to_list()))\n",
    "    \n",
    "    idx2tok = {idx:tok for  idx, tok in enumerate(vocab)}\n",
    "    tok2idx = {tok:idx for  idx, tok in enumerate(vocab)}\n",
    "    return tok2idx, idx2tok\n",
    "\n",
    "\n",
    "token2idx, idx2token = get_dict_map(NER_train, 'token')\n",
    "tag2idx, idx2tag = get_dict_map(NER_train, 'tag')\n",
    "\n",
    "tag2idx['<PAD>'] = 6\n",
    "idx2tag[6] = '<PAD>'"
   ]
  },
  {
   "cell_type": "code",
   "execution_count": 211,
   "metadata": {},
   "outputs": [
    {
     "data": {
      "text/html": [
       "<div>\n",
       "<style scoped>\n",
       "    .dataframe tbody tr th:only-of-type {\n",
       "        vertical-align: middle;\n",
       "    }\n",
       "\n",
       "    .dataframe tbody tr th {\n",
       "        vertical-align: top;\n",
       "    }\n",
       "\n",
       "    .dataframe thead th {\n",
       "        text-align: right;\n",
       "    }\n",
       "</style>\n",
       "<table border=\"1\" class=\"dataframe\">\n",
       "  <thead>\n",
       "    <tr style=\"text-align: right;\">\n",
       "      <th></th>\n",
       "      <th>id</th>\n",
       "      <th>n_code</th>\n",
       "      <th>name</th>\n",
       "      <th>token</th>\n",
       "      <th>BIO_tag</th>\n",
       "      <th>Word_idx</th>\n",
       "      <th>Tag_idx</th>\n",
       "    </tr>\n",
       "  </thead>\n",
       "  <tbody>\n",
       "    <tr>\n",
       "      <th>0</th>\n",
       "      <td>text_0</td>\n",
       "      <td>049470</td>\n",
       "      <td>에스지에이</td>\n",
       "      <td>묻어두</td>\n",
       "      <td>O</td>\n",
       "      <td>75007</td>\n",
       "      <td>0</td>\n",
       "    </tr>\n",
       "    <tr>\n",
       "      <th>1</th>\n",
       "      <td>text_0</td>\n",
       "      <td>049470</td>\n",
       "      <td>에스지에이</td>\n",
       "      <td>된다</td>\n",
       "      <td>O</td>\n",
       "      <td>64674</td>\n",
       "      <td>0</td>\n",
       "    </tr>\n",
       "    <tr>\n",
       "      <th>2</th>\n",
       "      <td>text_0</td>\n",
       "      <td>049470</td>\n",
       "      <td>에스지에이</td>\n",
       "      <td>이종목</td>\n",
       "      <td>O</td>\n",
       "      <td>73106</td>\n",
       "      <td>0</td>\n",
       "    </tr>\n",
       "    <tr>\n",
       "      <th>3</th>\n",
       "      <td>text_0</td>\n",
       "      <td>049470</td>\n",
       "      <td>에스지에이</td>\n",
       "      <td>사라</td>\n",
       "      <td>O</td>\n",
       "      <td>79124</td>\n",
       "      <td>0</td>\n",
       "    </tr>\n",
       "    <tr>\n",
       "      <th>4</th>\n",
       "      <td>text_0</td>\n",
       "      <td>049470</td>\n",
       "      <td>에스지에이</td>\n",
       "      <td>두산중공업</td>\n",
       "      <td>B_COMP</td>\n",
       "      <td>32314</td>\n",
       "      <td>5</td>\n",
       "    </tr>\n",
       "  </tbody>\n",
       "</table>\n",
       "</div>"
      ],
      "text/plain": [
       "       id  n_code   name  token BIO_tag  Word_idx  Tag_idx\n",
       "0  text_0  049470  에스지에이    묻어두       O     75007        0\n",
       "1  text_0  049470  에스지에이     된다       O     64674        0\n",
       "2  text_0  049470  에스지에이    이종목       O     73106        0\n",
       "3  text_0  049470  에스지에이     사라       O     79124        0\n",
       "4  text_0  049470  에스지에이  두산중공업  B_COMP     32314        5"
      ]
     },
     "execution_count": 211,
     "metadata": {},
     "output_type": "execute_result"
    }
   ],
   "source": [
    "NER_train['Word_idx'] = NER_train['token'].map(token2idx)\n",
    "NER_train['Tag_idx'] = NER_train['BIO_tag'].map(tag2idx)\n",
    "NER_train.head()"
   ]
  },
  {
   "cell_type": "code",
   "execution_count": 212,
   "metadata": {},
   "outputs": [
    {
     "data": {
      "text/html": [
       "<div>\n",
       "<style scoped>\n",
       "    .dataframe tbody tr th:only-of-type {\n",
       "        vertical-align: middle;\n",
       "    }\n",
       "\n",
       "    .dataframe tbody tr th {\n",
       "        vertical-align: top;\n",
       "    }\n",
       "\n",
       "    .dataframe thead th {\n",
       "        text-align: right;\n",
       "    }\n",
       "</style>\n",
       "<table border=\"1\" class=\"dataframe\">\n",
       "  <thead>\n",
       "    <tr style=\"text-align: right;\">\n",
       "      <th></th>\n",
       "      <th>id</th>\n",
       "      <th>n_code</th>\n",
       "      <th>name</th>\n",
       "      <th>token</th>\n",
       "      <th>BIO_tag</th>\n",
       "      <th>Word_idx</th>\n",
       "      <th>Tag_idx</th>\n",
       "    </tr>\n",
       "  </thead>\n",
       "  <tbody>\n",
       "    <tr>\n",
       "      <th>0</th>\n",
       "      <td>text_0</td>\n",
       "      <td>049470</td>\n",
       "      <td>에스지에이</td>\n",
       "      <td>[묻어두, 된다, 이종목, 사라, 두산중공업, 속주, 무조건, 터지, 하나, 습니다...</td>\n",
       "      <td>[O, O, O, O, B_COMP, O, O, O, O, O, O, O, B_EV...</td>\n",
       "      <td>[75007, 64674, 73106, 79124, 32314, 18717, 641...</td>\n",
       "      <td>[0, 0, 0, 0, 5, 0, 0, 0, 0, 0, 0, 0, 4, 0, 0, ...</td>\n",
       "    </tr>\n",
       "    <tr>\n",
       "      <th>1</th>\n",
       "      <td>text_1</td>\n",
       "      <td>026150</td>\n",
       "      <td>특수건설</td>\n",
       "      <td>[특수건설, 확대, 특수건설, 확대, 전일, 거래, 특수, 건설, 연관, 대양전기공...</td>\n",
       "      <td>[B_COMP, O, B_COMP, O, O, O, O, B_THM, O, B_CO...</td>\n",
       "      <td>[62613, 17157, 62613, 17157, 56016, 66517, 460...</td>\n",
       "      <td>[5, 0, 5, 0, 0, 0, 0, 1, 0, 5, 5, 5, 5, 5, 5, ...</td>\n",
       "    </tr>\n",
       "    <tr>\n",
       "      <th>2</th>\n",
       "      <td>text_10</td>\n",
       "      <td>086520</td>\n",
       "      <td>에코프로</td>\n",
       "      <td>[에코프로, 신고, 에코프로, 당일, 까지, 오르, 신고, 현재, 에코프로, 증권사...</td>\n",
       "      <td>[B_COMP, O, B_COMP, O, O, O, O, O, B_COMP, O, ...</td>\n",
       "      <td>[50172, 23517, 50172, 52435, 60599, 34424, 235...</td>\n",
       "      <td>[5, 0, 5, 0, 0, 0, 0, 0, 5, 0, 0, 0, 0, 0, 0, ...</td>\n",
       "    </tr>\n",
       "    <tr>\n",
       "      <th>3</th>\n",
       "      <td>text_100</td>\n",
       "      <td>017670</td>\n",
       "      <td>SK텔레콤보통주</td>\n",
       "      <td>[5G, 집단, 소송, 변론, 기일, 열려, 소송인, SKT, 위반, 제목, 5G,...</td>\n",
       "      <td>[B_THM, O, O, O, O, O, O, O, O, O, B_THM, O, O...</td>\n",
       "      <td>[37448, 33768, 70178, 77966, 27120, 9510, 6538...</td>\n",
       "      <td>[1, 0, 0, 0, 0, 0, 0, 0, 0, 0, 1, 0, 0, 0, 0, ...</td>\n",
       "    </tr>\n",
       "    <tr>\n",
       "      <th>4</th>\n",
       "      <td>text_1000</td>\n",
       "      <td>030210</td>\n",
       "      <td>케이티비투자증권보통주</td>\n",
       "      <td>[장중, 수급, KTB, 기관, 연속, 뉴스핌, 로보, 현재, KTB, 전일, 현재...</td>\n",
       "      <td>[O, B_EVT, O, O, O, O, O, O, O, O, O, O, O, O,...</td>\n",
       "      <td>[8857, 74736, 28621, 34622, 60233, 39810, 7050...</td>\n",
       "      <td>[0, 4, 0, 0, 0, 0, 0, 0, 0, 0, 0, 0, 0, 0, 0, ...</td>\n",
       "    </tr>\n",
       "  </tbody>\n",
       "</table>\n",
       "</div>"
      ],
      "text/plain": [
       "          id  n_code         name  \\\n",
       "0     text_0  049470        에스지에이   \n",
       "1     text_1  026150         특수건설   \n",
       "2    text_10  086520         에코프로   \n",
       "3   text_100  017670     SK텔레콤보통주   \n",
       "4  text_1000  030210  케이티비투자증권보통주   \n",
       "\n",
       "                                               token  \\\n",
       "0  [묻어두, 된다, 이종목, 사라, 두산중공업, 속주, 무조건, 터지, 하나, 습니다...   \n",
       "1  [특수건설, 확대, 특수건설, 확대, 전일, 거래, 특수, 건설, 연관, 대양전기공...   \n",
       "2  [에코프로, 신고, 에코프로, 당일, 까지, 오르, 신고, 현재, 에코프로, 증권사...   \n",
       "3  [5G, 집단, 소송, 변론, 기일, 열려, 소송인, SKT, 위반, 제목, 5G,...   \n",
       "4  [장중, 수급, KTB, 기관, 연속, 뉴스핌, 로보, 현재, KTB, 전일, 현재...   \n",
       "\n",
       "                                             BIO_tag  \\\n",
       "0  [O, O, O, O, B_COMP, O, O, O, O, O, O, O, B_EV...   \n",
       "1  [B_COMP, O, B_COMP, O, O, O, O, B_THM, O, B_CO...   \n",
       "2  [B_COMP, O, B_COMP, O, O, O, O, O, B_COMP, O, ...   \n",
       "3  [B_THM, O, O, O, O, O, O, O, O, O, B_THM, O, O...   \n",
       "4  [O, B_EVT, O, O, O, O, O, O, O, O, O, O, O, O,...   \n",
       "\n",
       "                                            Word_idx  \\\n",
       "0  [75007, 64674, 73106, 79124, 32314, 18717, 641...   \n",
       "1  [62613, 17157, 62613, 17157, 56016, 66517, 460...   \n",
       "2  [50172, 23517, 50172, 52435, 60599, 34424, 235...   \n",
       "3  [37448, 33768, 70178, 77966, 27120, 9510, 6538...   \n",
       "4  [8857, 74736, 28621, 34622, 60233, 39810, 7050...   \n",
       "\n",
       "                                             Tag_idx  \n",
       "0  [0, 0, 0, 0, 5, 0, 0, 0, 0, 0, 0, 0, 4, 0, 0, ...  \n",
       "1  [5, 0, 5, 0, 0, 0, 0, 1, 0, 5, 5, 5, 5, 5, 5, ...  \n",
       "2  [5, 0, 5, 0, 0, 0, 0, 0, 5, 0, 0, 0, 0, 0, 0, ...  \n",
       "3  [1, 0, 0, 0, 0, 0, 0, 0, 0, 0, 1, 0, 0, 0, 0, ...  \n",
       "4  [0, 4, 0, 0, 0, 0, 0, 0, 0, 0, 0, 0, 0, 0, 0, ...  "
      ]
     },
     "execution_count": 212,
     "metadata": {},
     "output_type": "execute_result"
    }
   ],
   "source": [
    "data_fillna = NER_train.fillna(method='ffill', axis=0)\n",
    "\n",
    "data_group = data_fillna.groupby(\n",
    "['id', 'n_code', 'name'],as_index=False\n",
    ")['token','BIO_tag', 'Word_idx', 'Tag_idx'].agg(lambda x: list(x))\n",
    "# Visualise data\n",
    "data_group.head()"
   ]
  },
  {
   "cell_type": "code",
   "execution_count": 213,
   "metadata": {},
   "outputs": [],
   "source": [
    "data_group.to_csv('data_group.csv', index = False)"
   ]
  },
  {
   "cell_type": "code",
   "execution_count": 214,
   "metadata": {},
   "outputs": [],
   "source": [
    "data_group = pd.read_csv('data_group.csv')"
   ]
  },
  {
   "cell_type": "code",
   "execution_count": 216,
   "metadata": {},
   "outputs": [
    {
     "name": "stderr",
     "output_type": "stream",
     "text": [
      "100%|██████████| 134771/134771 [00:40<00:00, 3342.19it/s]\n",
      "100%|██████████| 134771/134771 [00:43<00:00, 3095.72it/s]\n",
      "100%|██████████| 134771/134771 [00:42<00:00, 3181.73it/s]\n",
      "100%|██████████| 134771/134771 [00:36<00:00, 3688.18it/s]\n"
     ]
    }
   ],
   "source": [
    "# groupby 과정에서 리스트가 아닌 문자열로 취급되어 리스트로 변경하는 과정 (groupby 코드 수정 필요)\n",
    "\n",
    "import ast \n",
    "\n",
    "def str_to_list(x):\n",
    "    return ast.literal_eval(x)\n",
    "\n",
    "data_group['token'] = data_group['token'].progress_apply(str_to_list)\n",
    "data_group['Word_idx'] = data_group['Word_idx'].progress_apply(str_to_list)\n",
    "data_group['Tag_idx'] = data_group['Tag_idx'].progress_apply(str_to_list)\n",
    "data_group['BIO_tag'] = data_group['BIO_tag'].progress_apply(str_to_list)"
   ]
  },
  {
   "cell_type": "code",
   "execution_count": 99,
   "metadata": {},
   "outputs": [
    {
     "name": "stdout",
     "output_type": "stream",
     "text": [
      "CPU times: user 10min 33s, sys: 35.3 s, total: 11min 9s\n",
      "Wall time: 4min 52s\n"
     ]
    }
   ],
   "source": [
    "# %%time\n",
    "\n",
    "# ft_model = FastText(window = 3, min_count = 3, size = 200, iter = 100) \n",
    "# ft_model.build_vocab(data_group['token'])\n",
    "# ft_model.train(data_group['token'], total_examples=ft_model.corpus_count, epochs=5)\n",
    "# ft_model.save('FastText.model')"
   ]
  },
  {
   "cell_type": "code",
   "execution_count": 100,
   "metadata": {},
   "outputs": [],
   "source": [
    "# ft_model = Word2Vec.load('FastText.model')"
   ]
  },
  {
   "cell_type": "code",
   "execution_count": 101,
   "metadata": {},
   "outputs": [
    {
     "name": "stdout",
     "output_type": "stream",
     "text": [
      "CPU times: user 47 µs, sys: 0 ns, total: 47 µs\n",
      "Wall time: 60.1 µs\n"
     ]
    }
   ],
   "source": [
    "# %%time\n",
    "\n",
    "# def vectorize_data(data, vocab: dict) -> list:\n",
    "#     keys = list(vocab.keys()) \n",
    "#     filter_unknown = lambda word: vocab.get(word, None) is not None \n",
    "#     encode = lambda review: list(map(keys.index, filter(filter_unknown, review))) \n",
    "#     vectorized = list(map(encode, data)) \n",
    "#     return vectorized"
   ]
  },
  {
   "cell_type": "code",
   "execution_count": 217,
   "metadata": {},
   "outputs": [
    {
     "name": "stderr",
     "output_type": "stream",
     "text": [
      "100%|██████████| 134771/134771 [00:01<00:00, 125461.64it/s]\n"
     ]
    }
   ],
   "source": [
    "def drop_idx(x):\n",
    "    if len(x) == x.count('O'):\n",
    "        return 'drop'\n",
    "    elif len(x) == (x.count('B_COMP') + x.count(\"O\")):\n",
    "        return 'drop'\n",
    "    else:\n",
    "        return 'pass'\n",
    "    \n",
    "data_group['drop_idx'] = data_group['BIO_tag'].progress_apply(drop_idx)"
   ]
  },
  {
   "cell_type": "code",
   "execution_count": 218,
   "metadata": {},
   "outputs": [
    {
     "data": {
      "text/plain": [
       "drop    131819\n",
       "pass      2952\n",
       "Name: drop_idx, dtype: int64"
      ]
     },
     "execution_count": 218,
     "metadata": {},
     "output_type": "execute_result"
    }
   ],
   "source": [
    "# 이벤트, 테마 태깅 데이터 2952개\n",
    "\n",
    "data_group['drop_idx'].value_counts()"
   ]
  },
  {
   "cell_type": "code",
   "execution_count": 219,
   "metadata": {},
   "outputs": [],
   "source": [
    "data_O = data_group.loc[data_group['drop_idx'] == 'drop']\n",
    "data_group_ = data_group.loc[data_group['drop_idx'] == 'pass']"
   ]
  },
  {
   "cell_type": "code",
   "execution_count": 220,
   "metadata": {},
   "outputs": [],
   "source": [
    "# 불균형 해소를 위해 단순 복제 (오버샘플링)\n",
    "\n",
    "data_O.reset_index(drop = True, inplace = True)\n",
    "data_group_.reset_index(drop = True, inplace = True)\n",
    "\n",
    "data_O_to_group = data_O.iloc[:10000]\n",
    "\n",
    "data_group_ = pd.concat([data_group_,data_group_], axis = 0)\n",
    "data_group_ = pd.concat([data_group_,data_group_], axis = 0)\n",
    "data_group_ = pd.concat([data_group_,data_group_], axis = 0)\n",
    "#data_group_ = pd.concat([data_group_,data_O_to_group], axis = 0)\n",
    "data_group_.reset_index(drop = True, inplace = True)"
   ]
  },
  {
   "cell_type": "code",
   "execution_count": 223,
   "metadata": {},
   "outputs": [
    {
     "name": "stdout",
     "output_type": "stream",
     "text": [
      "train_tokens length: 15940 \n",
      "train_tokens length: 15940 \n",
      "test_tokens length: 2362 \n",
      "test_tags: 2362 \n",
      "val_tokens: 5314 \n",
      "val_tags: 5314\n"
     ]
    }
   ],
   "source": [
    "# 데이터 스플릿\n",
    "\n",
    "def get_pad_train_test_val(data_group, data):\n",
    "\n",
    "    n_token = len(list(set(data['token'].to_list())))\n",
    "    n_tag = len(list(set(data['BIO_tag'].to_list())))\n",
    " \n",
    "    tokens = data_group['Word_idx'].tolist()\n",
    "    maxlen = max([len(s) for s in tokens])\n",
    "    pad_tokens = pad_sequences(tokens, maxlen=maxlen, dtype='int32', padding='post', value= 7)\n",
    "\n",
    "    tags = data_group['Tag_idx'].tolist()\n",
    "    pad_tags = pad_sequences(tags, maxlen=maxlen, dtype='int32', padding='post', value= tag2idx[\"<PAD>\"])\n",
    "    n_tags = len(tag2idx)\n",
    "    pad_tags = [to_categorical(i, num_classes=n_tags) for i in pad_tags]\n",
    "\n",
    "    tokens_, test_tokens, tags_, test_tags = train_test_split(pad_tokens, pad_tags, test_size=0.1, train_size=0.9, random_state=2020)\n",
    "    train_tokens, val_tokens, train_tags, val_tags = train_test_split(tokens_,tags_,test_size = 0.25,train_size =0.75, random_state=2020)\n",
    "\n",
    "    print(\n",
    "        'train_tokens length:', len(train_tokens),\n",
    "        '\\ntrain_tokens length:', len(train_tokens),\n",
    "        '\\ntest_tokens length:', len(test_tokens),\n",
    "        '\\ntest_tags:', len(test_tags),\n",
    "        '\\nval_tokens:', len(val_tokens),\n",
    "        '\\nval_tags:', len(val_tags),\n",
    "    )\n",
    "    \n",
    "    return train_tokens, val_tokens, test_tokens, train_tags, val_tags, test_tags\n",
    "\n",
    "train_tokens, val_tokens, test_tokens, train_tags, val_tags, test_tags = get_pad_train_test_val(data_group_, NER_train)\n"
   ]
  },
  {
   "cell_type": "code",
   "execution_count": 224,
   "metadata": {},
   "outputs": [],
   "source": [
    "input_dim = len(list(set(NER_train['token'].to_list())))+1\n",
    "output_dim = 128\n",
    "input_length = max([len(s) for s in data_group_['Word_idx'].tolist()])\n",
    "n_tags = len(tag2idx)"
   ]
  },
  {
   "cell_type": "code",
   "execution_count": 227,
   "metadata": {},
   "outputs": [],
   "source": [
    "# NER 모델 정의\n",
    "\n",
    "def get_bilstm_lstm_model():\n",
    "    model = Sequential()\n",
    "\n",
    "    model.add(Embedding(input_dim=input_dim, output_dim=output_dim, input_length=input_length))\n",
    "\n",
    "    model.add(Bidirectional(LSTM(units=128, return_sequences=True, recurrent_dropout=0.2)))\n",
    "\n",
    "    model.add(TimeDistributed(Dense(64, activation=\"relu\")))\n",
    "    \n",
    "    model.add(TimeDistributed(Dense(64, activation=\"relu\")))\n",
    "    \n",
    "    crf = CRF(n_tags)\n",
    "    model.add(crf)\n",
    "\n",
    "    model.compile(optimizer=\"adam\", loss=crf.loss_function, metrics=[crf.accuracy])\n",
    "    model.summary()\n",
    "    \n",
    "    return model"
   ]
  },
  {
   "cell_type": "code",
   "execution_count": 228,
   "metadata": {},
   "outputs": [
    {
     "name": "stdout",
     "output_type": "stream",
     "text": [
      "_________________________________________________________________\n",
      "Layer (type)                 Output Shape              Param #   \n",
      "=================================================================\n",
      "embedding_16 (Embedding)     (None, 200, 128)          10758400  \n",
      "_________________________________________________________________\n",
      "bidirectional_16 (Bidirectio (None, 200, 256)          263168    \n",
      "_________________________________________________________________\n",
      "time_distributed_31 (TimeDis (None, 200, 64)           16448     \n",
      "_________________________________________________________________\n",
      "time_distributed_32 (TimeDis (None, 200, 64)           4160      \n",
      "_________________________________________________________________\n",
      "crf_14 (CRF)                 (None, 200, 7)            518       \n",
      "=================================================================\n",
      "Total params: 11,042,694\n",
      "Trainable params: 11,042,694\n",
      "Non-trainable params: 0\n",
      "_________________________________________________________________\n",
      "Train on 15940 samples, validate on 5314 samples\n",
      "Epoch 1/13\n",
      "15940/15940 [==============================] - 73s 5ms/step - loss: 1.7249 - crf_viterbi_accuracy: 0.3109 - val_loss: 0.8944 - val_crf_viterbi_accuracy: 0.7437\n",
      " - f1: 0.12\n",
      "f1_score improved from 0.000000 to 0.001216, saving model to best_model.h5\n",
      "Epoch 2/13\n",
      "15940/15940 [==============================] - 59s 4ms/step - loss: 0.5828 - crf_viterbi_accuracy: 0.8817 - val_loss: 0.4134 - val_crf_viterbi_accuracy: 0.9031\n",
      " - f1: 0.13\n",
      "f1_score improved from 0.001216 to 0.001343, saving model to best_model.h5\n",
      "Epoch 3/13\n",
      "15940/15940 [==============================] - 59s 4ms/step - loss: 0.3928 - crf_viterbi_accuracy: 0.9046 - val_loss: 0.3665 - val_crf_viterbi_accuracy: 0.9080\n",
      " - f1: 5.26\n",
      "f1_score improved from 0.001343 to 0.052615, saving model to best_model.h5\n",
      "Epoch 4/13\n",
      "15940/15940 [==============================] - 58s 4ms/step - loss: 0.3542 - crf_viterbi_accuracy: 0.9080 - val_loss: 0.3339 - val_crf_viterbi_accuracy: 0.9092\n",
      " - f1: 7.00\n",
      "f1_score improved from 0.052615 to 0.070043, saving model to best_model.h5\n",
      "Epoch 5/13\n",
      "15940/15940 [==============================] - 58s 4ms/step - loss: 0.3190 - crf_viterbi_accuracy: 0.9097 - val_loss: 0.2925 - val_crf_viterbi_accuracy: 0.9119\n",
      " - f1: 12.80\n",
      "f1_score improved from 0.070043 to 0.128016, saving model to best_model.h5\n",
      "Epoch 6/13\n",
      "15940/15940 [==============================] - 59s 4ms/step - loss: 0.2690 - crf_viterbi_accuracy: 0.9159 - val_loss: 0.2327 - val_crf_viterbi_accuracy: 0.9247\n",
      " - f1: 32.22\n",
      "f1_score improved from 0.128016 to 0.322168, saving model to best_model.h5\n",
      "Epoch 7/13\n",
      "15940/15940 [==============================] - 58s 4ms/step - loss: 0.2017 - crf_viterbi_accuracy: 0.9368 - val_loss: 0.1600 - val_crf_viterbi_accuracy: 0.9488\n",
      " - f1: 55.71\n",
      "f1_score improved from 0.322168 to 0.557117, saving model to best_model.h5\n",
      "Epoch 8/13\n",
      "15940/15940 [==============================] - 57s 4ms/step - loss: 0.1302 - crf_viterbi_accuracy: 0.9584 - val_loss: 0.0935 - val_crf_viterbi_accuracy: 0.9777\n",
      " - f1: 79.07\n",
      "f1_score improved from 0.557117 to 0.790660, saving model to best_model.h5\n",
      "Epoch 9/13\n",
      "15940/15940 [==============================] - 58s 4ms/step - loss: 0.0745 - crf_viterbi_accuracy: 0.9838 - val_loss: 0.0518 - val_crf_viterbi_accuracy: 0.9899\n",
      " - f1: 90.59\n",
      "f1_score improved from 0.790660 to 0.905907, saving model to best_model.h5\n",
      "Epoch 10/13\n",
      "15940/15940 [==============================] - 58s 4ms/step - loss: 0.0421 - crf_viterbi_accuracy: 0.9914 - val_loss: 0.0298 - val_crf_viterbi_accuracy: 0.9935\n",
      " - f1: 94.08\n",
      "f1_score improved from 0.905907 to 0.940801, saving model to best_model.h5\n",
      "Epoch 11/13\n",
      "15940/15940 [==============================] - 59s 4ms/step - loss: 0.0256 - crf_viterbi_accuracy: 0.9941 - val_loss: 0.0191 - val_crf_viterbi_accuracy: 0.9963\n",
      " - f1: 96.75\n",
      "f1_score improved from 0.940801 to 0.967451, saving model to best_model.h5\n",
      "Epoch 12/13\n",
      "15940/15940 [==============================] - 58s 4ms/step - loss: 0.0164 - crf_viterbi_accuracy: 0.9968 - val_loss: 0.0122 - val_crf_viterbi_accuracy: 0.9983\n",
      " - f1: 98.60\n",
      "f1_score improved from 0.967451 to 0.986003, saving model to best_model.h5\n",
      "Epoch 13/13\n",
      "15940/15940 [==============================] - 58s 4ms/step - loss: 0.0105 - crf_viterbi_accuracy: 0.9983 - val_loss: 0.0080 - val_crf_viterbi_accuracy: 0.9988\n",
      " - f1: 98.95\n",
      "f1_score improved from 0.986003 to 0.989529, saving model to best_model.h5\n"
     ]
    }
   ],
   "source": [
    "checkpoint = ModelCheckpoint('basemodel.h5', \n",
    "                             monitor='val_loss', verbose=1, save_best_only=True, mode='min')\n",
    "\n",
    "model = get_bilstm_lstm_model()\n",
    "\n",
    "history = model.fit(train_tokens, np.array(train_tags),\n",
    "                   validation_data = (val_tokens, np.array(val_tags)),\n",
    "                   batch_size = 1024,\n",
    "                   epochs = 13,\n",
    "                   callbacks=[F1score(use_char=False)])"
   ]
  },
  {
   "cell_type": "code",
   "execution_count": 229,
   "metadata": {},
   "outputs": [],
   "source": [
    "model = load_model('best_model.h5', custom_objects={'CRF':CRF,\n",
    "                                                  'crf_loss':crf_loss,\n",
    "                                                  'crf_viterbi_accuracy':crf_viterbi_accuracy})"
   ]
  },
  {
   "cell_type": "code",
   "execution_count": 230,
   "metadata": {},
   "outputs": [
    {
     "name": "stdout",
     "output_type": "stream",
     "text": [
      "단어             |실제값  |예측값\n",
      "-----------------------------------\n",
      "새로닉스             : B_COMP  B_COMP\n",
      "소폭               : O       O\n",
      "상승세              : O       O\n",
      "거래일              : O       O\n",
      "연속               : O       O\n",
      "제목               : O       O\n",
      "새로닉스             : B_COMP  B_COMP\n",
      "소폭               : O       O\n",
      "상승세              : O       O\n",
      "거래일              : O       O\n",
      "연속               : O       O\n",
      "LCD              : O       O\n",
      "TV               : O       O\n",
      "사용               : O       O\n",
      "부품               : O       O\n",
      "제조               : O       O\n",
      "판매               : O       O\n",
      "업체               : O       O\n",
      "종속               : O       O\n",
      "회사               : O       O\n",
      "산코               : O       O\n",
      "코리아              : O       O\n",
      "통해               : O       O\n",
      "태양               : B_COMP  B_COMP\n",
      "전지용              : O       O\n",
      "부품               : O       O\n",
      "제조               : O       O\n",
      "판매               : O       O\n",
      "영위               : O       O\n",
      "주요               : O       O\n",
      "제품               : O       O\n",
      "으로               : O       O\n",
      "디바이스             : O       O\n",
      "TV               : O       O\n",
      "채널               : O       O\n",
      "볼륨               : O       O\n",
      "컨트롤              : O       O\n",
      "부품               : O       O\n",
      "FFC              : O       O\n",
      "전자               : O       O\n",
      "부품               : O       O\n",
      "연성               : O       O\n",
      "케이블              : O       O\n",
      "주방               : O       O\n",
      "TV               : O       O\n",
      "Plastic          : O       O\n",
      "Injection        : O       O\n",
      "Molding          : O       O\n",
      "and              : O       O\n",
      "Assembly         : O       O\n",
      "TV               : O       O\n",
      "전면               : O       O\n",
      "또는               : O       O\n",
      "후면               : O       O\n",
      "케이스              : O       O\n",
      "제품               : O       O\n",
      "생산               : O       O\n",
      "판매               : O       O\n",
      "으로               : O       O\n",
      "PMMA             : O       O\n",
      "압출               : O       O\n",
      "판재               : O       O\n",
      "광판               : O       O\n",
      "부문               : O       O\n",
      "중단               : O       O\n",
      "코스닥              : B_EVT   B_EVT\n",
      "장사인              : O       O\n",
      "엘앤에프             : B_COMP  B_COMP\n",
      "계열사              : O       O\n",
      "보유               : O       O\n",
      "으며               : O       O\n",
      "태양전지             : B_THM   B_THM\n",
      "부품               : O       O\n",
      "제조               : O       O\n",
      "판매               : O       O\n",
      "업체               : O       O\n",
      "산코               : O       O\n",
      "코리아              : O       O\n",
      "종속               : O       O\n",
      "회사               : O       O\n",
      "보유               : O       O\n",
      "대주주              : O       O\n",
      "허제               : O       O\n",
      "Update           : O       O\n",
      "입체               : O       O\n",
      "개인               : O       O\n",
      "외국인              : O       O\n",
      "기관               : O       O\n",
      "일별               : O       O\n",
      "매매               : O       O\n",
      "동향               : O       O\n",
      "수량               : O       O\n",
      "전일               : O       O\n",
      "까지               : O       O\n",
      "거래일              : O       O\n",
      "일자               : O       O\n",
      "종가               : O       O\n",
      "등락               : O       O\n",
      "거래량              : O       O\n",
      "개인               : O       O\n",
      "외국인              : O       O\n",
      "기관계              : O       O\n",
      "기타               : O       O\n",
      "히스토리             : O       O\n",
      "자회사              : O       O\n",
      "엘앤에프             : B_COMP  B_COMP\n",
      "SK이노베이션          : B_COMP  B_COMP\n",
      "규모               : O       O\n",
      "EV               : O       O\n",
      "NCM              : O       O\n",
      "양극               : O       O\n",
      "공급               : B_EVT   B_EVT\n",
      "계약               : B_EVT   B_EVT\n",
      "체결               : I_EVT   I_EVT\n",
      "자회사              : O       O\n",
      "엘앤에프             : B_COMP  B_COMP\n",
      "SK이노베이션          : B_COMP  B_COMP\n",
      "규모               : O       O\n",
      "EV               : O       O\n",
      "NCM              : O       O\n",
      "양극               : O       O\n",
      "공급               : B_EVT   B_EVT\n",
      "계약               : B_EVT   B_EVT\n",
      "체결               : I_EVT   I_EVT\n",
      "시찰               : <PAD>   <PAD>\n",
      "시찰               : <PAD>   <PAD>\n",
      "시찰               : <PAD>   <PAD>\n",
      "시찰               : <PAD>   <PAD>\n",
      "시찰               : <PAD>   <PAD>\n",
      "시찰               : <PAD>   <PAD>\n",
      "시찰               : <PAD>   <PAD>\n",
      "시찰               : <PAD>   <PAD>\n",
      "시찰               : <PAD>   <PAD>\n",
      "시찰               : <PAD>   <PAD>\n",
      "시찰               : <PAD>   <PAD>\n",
      "시찰               : <PAD>   <PAD>\n",
      "시찰               : <PAD>   <PAD>\n",
      "시찰               : <PAD>   <PAD>\n",
      "시찰               : <PAD>   <PAD>\n",
      "시찰               : <PAD>   <PAD>\n",
      "시찰               : <PAD>   <PAD>\n",
      "시찰               : <PAD>   <PAD>\n",
      "시찰               : <PAD>   <PAD>\n",
      "시찰               : <PAD>   <PAD>\n",
      "시찰               : <PAD>   <PAD>\n",
      "시찰               : <PAD>   <PAD>\n",
      "시찰               : <PAD>   <PAD>\n",
      "시찰               : <PAD>   <PAD>\n",
      "시찰               : <PAD>   <PAD>\n",
      "시찰               : <PAD>   <PAD>\n",
      "시찰               : <PAD>   <PAD>\n",
      "시찰               : <PAD>   <PAD>\n",
      "시찰               : <PAD>   <PAD>\n",
      "시찰               : <PAD>   <PAD>\n",
      "시찰               : <PAD>   <PAD>\n",
      "시찰               : <PAD>   <PAD>\n",
      "시찰               : <PAD>   <PAD>\n",
      "시찰               : <PAD>   <PAD>\n",
      "시찰               : <PAD>   <PAD>\n",
      "시찰               : <PAD>   <PAD>\n",
      "시찰               : <PAD>   <PAD>\n",
      "시찰               : <PAD>   <PAD>\n",
      "시찰               : <PAD>   <PAD>\n",
      "시찰               : <PAD>   <PAD>\n",
      "시찰               : <PAD>   <PAD>\n",
      "시찰               : <PAD>   <PAD>\n",
      "시찰               : <PAD>   <PAD>\n",
      "시찰               : <PAD>   <PAD>\n",
      "시찰               : <PAD>   <PAD>\n",
      "시찰               : <PAD>   <PAD>\n",
      "시찰               : <PAD>   <PAD>\n",
      "시찰               : <PAD>   <PAD>\n",
      "시찰               : <PAD>   <PAD>\n",
      "시찰               : <PAD>   <PAD>\n",
      "시찰               : <PAD>   <PAD>\n",
      "시찰               : <PAD>   <PAD>\n",
      "시찰               : <PAD>   <PAD>\n",
      "시찰               : <PAD>   <PAD>\n",
      "시찰               : <PAD>   <PAD>\n",
      "시찰               : <PAD>   <PAD>\n",
      "시찰               : <PAD>   <PAD>\n",
      "시찰               : <PAD>   <PAD>\n",
      "시찰               : <PAD>   <PAD>\n",
      "시찰               : <PAD>   <PAD>\n",
      "시찰               : <PAD>   <PAD>\n",
      "시찰               : <PAD>   <PAD>\n",
      "시찰               : <PAD>   <PAD>\n",
      "시찰               : <PAD>   <PAD>\n",
      "시찰               : <PAD>   <PAD>\n",
      "시찰               : <PAD>   <PAD>\n",
      "시찰               : <PAD>   <PAD>\n",
      "시찰               : <PAD>   <PAD>\n",
      "시찰               : <PAD>   <PAD>\n",
      "시찰               : <PAD>   <PAD>\n",
      "시찰               : <PAD>   <PAD>\n",
      "시찰               : <PAD>   <PAD>\n",
      "시찰               : <PAD>   <PAD>\n",
      "시찰               : <PAD>   <PAD>\n",
      "시찰               : <PAD>   <PAD>\n",
      "시찰               : <PAD>   <PAD>\n"
     ]
    }
   ],
   "source": [
    "i=28\n",
    "y_predicted = model.predict(np.array([test_tokens[i]])) \n",
    "y_predicted = np.argmax(y_predicted, axis=-1) \n",
    "true = np.argmax(test_tags[i], -1) \n",
    "\n",
    "print(\"{:15}|{:5}|{}\".format(\"단어\", \"실제값\", \"예측값\"))\n",
    "print(35 * \"-\")\n",
    "\n",
    "for w, t, pred in zip(test_tokens[i], true, y_predicted[0]):\n",
    "    if w != 0: # PAD값은 제외함.\n",
    "        print(\"{:17}: {:7} {}\".format(idx2token[w], idx2tag[t], idx2tag[pred]))"
   ]
  },
  {
   "cell_type": "markdown",
   "metadata": {},
   "source": [
    "# 실제 테스트"
   ]
  },
  {
   "cell_type": "code",
   "execution_count": 703,
   "metadata": {},
   "outputs": [
    {
     "name": "stdout",
     "output_type": "stream",
     "text": [
      "CPU times: user 638 ms, sys: 143 ms, total: 781 ms\n",
      "Wall time: 6.56 s\n"
     ]
    }
   ],
   "source": [
    "from pyhive import hive \n",
    "import pandas as pd \n",
    "conn = hive.Connection('172.20.8.62', port=10000, username='65223', password='65223q12!', database='lake', auth='LDAP') \n",
    "sql = ''' \n",
    "select n_date, n_code, n_title, n_content from lake.n_newsmem\n",
    "where n_fgubun not in ('F05','F12','F22','F38','F39','F40')\n",
    "and (n_title, n_content) is NOT NULL\n",
    "and n_code != '000000  '\n",
    "and n_date between 20210815 and 20210820\n",
    "''' \n",
    "%time news_data = pd.read_sql(sql, conn, parse_dates = ['n_date']) "
   ]
  },
  {
   "cell_type": "code",
   "execution_count": 704,
   "metadata": {},
   "outputs": [],
   "source": [
    "news_data['title_content'] = news_data['n_title'] + '. ' + news_data['n_content']"
   ]
  },
  {
   "cell_type": "code",
   "execution_count": 705,
   "metadata": {},
   "outputs": [],
   "source": [
    "news_data.dropna(axis = 0, inplace = True)"
   ]
  },
  {
   "cell_type": "code",
   "execution_count": 713,
   "metadata": {},
   "outputs": [
    {
     "name": "stderr",
     "output_type": "stream",
     "text": [
      "100%|██████████| 11446/11446 [00:33<00:00, 337.87it/s]\n",
      "100%|██████████| 11446/11446 [00:05<00:00, 2215.27it/s]\n"
     ]
    }
   ],
   "source": [
    "news_data['title_content_clean'] = news_data['title_content'].progress_apply(text_cleaning_1)\n",
    "news_data['title_content_clean'] = news_data['title_content_clean'].progress_apply(text_cleaning_2)"
   ]
  },
  {
   "cell_type": "code",
   "execution_count": 714,
   "metadata": {},
   "outputs": [
    {
     "name": "stderr",
     "output_type": "stream",
     "text": [
      "100%|██████████| 11446/11446 [00:40<00:00, 279.43it/s]\n"
     ]
    }
   ],
   "source": [
    "news_data['token'] = news_data[\"title_content_clean\"].progress_apply(unigram_tokenizer)"
   ]
  },
  {
   "cell_type": "code",
   "execution_count": 715,
   "metadata": {},
   "outputs": [],
   "source": [
    "news_data.drop(news_data.loc[news_data['title_content_clean'] == 'drop_records'].index, axis = 0, inplace = True)"
   ]
  },
  {
   "cell_type": "code",
   "execution_count": 716,
   "metadata": {},
   "outputs": [],
   "source": [
    "iem_data.rename({'iem_cd' : 'n_code'}, axis = 1, inplace = True)"
   ]
  },
  {
   "cell_type": "code",
   "execution_count": 717,
   "metadata": {},
   "outputs": [
    {
     "name": "stderr",
     "output_type": "stream",
     "text": [
      "100%|██████████| 5454/5454 [00:00<00:00, 216065.64it/s]\n",
      "100%|██████████| 5454/5454 [00:00<00:00, 219688.59it/s]\n",
      "100%|██████████| 5454/5454 [00:00<00:00, 192930.20it/s]\n",
      "100%|██████████| 5454/5454 [00:00<00:00, 218465.43it/s]\n",
      "100%|██████████| 10934/10934 [00:00<00:00, 210975.19it/s]\n"
     ]
    }
   ],
   "source": [
    "def del_tab(x):\n",
    "    x = re.sub(' ', '', x)\n",
    "    return x\n",
    "\n",
    "iem_data.dropna(axis = 0, inplace = True)\n",
    "iem_data.reset_index(drop = True, inplace = True)\n",
    "\n",
    "iem_data['n_code'] = iem_data['n_code'].progress_apply(del_tab)\n",
    "iem_data['n_code'] = iem_data['n_code'].progress_apply(lambda x : re.sub('A', '', x))\n",
    "iem_data['stk_iem_krl_nm'] = iem_data['stk_iem_krl_nm'].progress_apply(del_tab)\n",
    "iem_data['rgs_mkt_cd'] = iem_data['rgs_mkt_cd'].progress_apply(del_tab)\n",
    "\n",
    "news_data['n_code'] = news_data['n_code'].progress_apply(del_tab)"
   ]
  },
  {
   "cell_type": "code",
   "execution_count": 718,
   "metadata": {},
   "outputs": [],
   "source": [
    "news_data = pd.merge(iem_data, news_data, on = 'n_code', how = 'right')"
   ]
  },
  {
   "cell_type": "code",
   "execution_count": 294,
   "metadata": {},
   "outputs": [
    {
     "name": "stderr",
     "output_type": "stream",
     "text": [
      "100%|██████████| 11019/11019 [02:48<00:00, 65.44it/s]\n"
     ]
    }
   ],
   "source": [
    "sep_token = []\n",
    "\n",
    "for i in tqdm(range(len(news_data))):\n",
    "    for j in range(200):\n",
    "        try:\n",
    "            text_id = 'text_{}'.format(i)\n",
    "            n_code = news_data['n_code'][i]\n",
    "            name= news_data['stk_iem_krl_nm'][i]\n",
    "            token = news_data['token'][i][j]\n",
    "            \n",
    "            token_data = text_id, n_code, name, token\n",
    "            sep_token.append(token_data)\n",
    "        except:\n",
    "            continue"
   ]
  },
  {
   "cell_type": "code",
   "execution_count": 296,
   "metadata": {},
   "outputs": [],
   "source": [
    "NER_test = pd.DataFrame(sep_token, columns = ['id','n_code', 'name', 'token'])"
   ]
  },
  {
   "cell_type": "code",
   "execution_count": null,
   "metadata": {},
   "outputs": [],
   "source": [
    "def basic_labeling(x):\n",
    "    if x in kospi_comp_list:\n",
    "        return 'B_COMP'\n",
    "    elif x in kosdaq_comp_list:\n",
    "        return 'B_COMP'\n",
    "    else:\n",
    "        return 'O'"
   ]
  },
  {
   "cell_type": "code",
   "execution_count": 297,
   "metadata": {},
   "outputs": [],
   "source": [
    "NER_test['Word_idx'] = NER_test['token'].map(token2idx)"
   ]
  },
  {
   "cell_type": "code",
   "execution_count": 299,
   "metadata": {},
   "outputs": [
    {
     "data": {
      "text/html": [
       "<div>\n",
       "<style scoped>\n",
       "    .dataframe tbody tr th:only-of-type {\n",
       "        vertical-align: middle;\n",
       "    }\n",
       "\n",
       "    .dataframe tbody tr th {\n",
       "        vertical-align: top;\n",
       "    }\n",
       "\n",
       "    .dataframe thead th {\n",
       "        text-align: right;\n",
       "    }\n",
       "</style>\n",
       "<table border=\"1\" class=\"dataframe\">\n",
       "  <thead>\n",
       "    <tr style=\"text-align: right;\">\n",
       "      <th></th>\n",
       "      <th>id</th>\n",
       "      <th>n_code</th>\n",
       "      <th>name</th>\n",
       "      <th>token</th>\n",
       "      <th>Word_idx</th>\n",
       "    </tr>\n",
       "  </thead>\n",
       "  <tbody>\n",
       "    <tr>\n",
       "      <th>0</th>\n",
       "      <td>text_0</td>\n",
       "      <td>046940</td>\n",
       "      <td>우원개발</td>\n",
       "      <td>[우원개발, 수주, 공시, 안산선, 복선, 전철, 민간, 공구, 구간, 매출액, 우...</td>\n",
       "      <td>[72942.0, 63822.0, 72169.0, 72169.0, 78886.0, ...</td>\n",
       "    </tr>\n",
       "    <tr>\n",
       "      <th>1</th>\n",
       "      <td>text_1</td>\n",
       "      <td>046940</td>\n",
       "      <td>우원개발</td>\n",
       "      <td>[우원개발, 규모, 공급, 계약, 신안, 산선, 복선, 전철, 민간, 공구, 구간,...</td>\n",
       "      <td>[72942.0, 33602.0, 74727.0, 24301.0, 4314.0, 3...</td>\n",
       "    </tr>\n",
       "    <tr>\n",
       "      <th>2</th>\n",
       "      <td>text_10</td>\n",
       "      <td>052710</td>\n",
       "      <td>아모텍</td>\n",
       "      <td>[리포트, 브리핑, 아모텍, 이미, 기대, 유효, 목표, 하이, 뉴스핌, 로보, 에...</td>\n",
       "      <td>[18360.0, 28114.0, 69276.0, 20309.0, 83412.0, ...</td>\n",
       "    </tr>\n",
       "    <tr>\n",
       "      <th>3</th>\n",
       "      <td>text_100</td>\n",
       "      <td>145020</td>\n",
       "      <td>휴젤</td>\n",
       "      <td>[휴젤, 당해, 연도, 분기, 연결, 이익, 제목, 휴젤, 당해, 연도, 분기, 연...</td>\n",
       "      <td>[43479.0, 2635.0, 35423.0, 53928.0, 30587.0, 5...</td>\n",
       "    </tr>\n",
       "    <tr>\n",
       "      <th>4</th>\n",
       "      <td>text_1000</td>\n",
       "      <td>016360</td>\n",
       "      <td>삼성증권보통주</td>\n",
       "      <td>[삼성증권, 상장지수, 신규상장, 가격, 안내, 삼성증권, 삼성, KRX, 2차전지...</td>\n",
       "      <td>[49102.0, 53466.0, 75682.0, 8487.0, 25078.0, 4...</td>\n",
       "    </tr>\n",
       "  </tbody>\n",
       "</table>\n",
       "</div>"
      ],
      "text/plain": [
       "          id  n_code     name  \\\n",
       "0     text_0  046940     우원개발   \n",
       "1     text_1  046940     우원개발   \n",
       "2    text_10  052710      아모텍   \n",
       "3   text_100  145020       휴젤   \n",
       "4  text_1000  016360  삼성증권보통주   \n",
       "\n",
       "                                               token  \\\n",
       "0  [우원개발, 수주, 공시, 안산선, 복선, 전철, 민간, 공구, 구간, 매출액, 우...   \n",
       "1  [우원개발, 규모, 공급, 계약, 신안, 산선, 복선, 전철, 민간, 공구, 구간,...   \n",
       "2  [리포트, 브리핑, 아모텍, 이미, 기대, 유효, 목표, 하이, 뉴스핌, 로보, 에...   \n",
       "3  [휴젤, 당해, 연도, 분기, 연결, 이익, 제목, 휴젤, 당해, 연도, 분기, 연...   \n",
       "4  [삼성증권, 상장지수, 신규상장, 가격, 안내, 삼성증권, 삼성, KRX, 2차전지...   \n",
       "\n",
       "                                            Word_idx  \n",
       "0  [72942.0, 63822.0, 72169.0, 72169.0, 78886.0, ...  \n",
       "1  [72942.0, 33602.0, 74727.0, 24301.0, 4314.0, 3...  \n",
       "2  [18360.0, 28114.0, 69276.0, 20309.0, 83412.0, ...  \n",
       "3  [43479.0, 2635.0, 35423.0, 53928.0, 30587.0, 5...  \n",
       "4  [49102.0, 53466.0, 75682.0, 8487.0, 25078.0, 4...  "
      ]
     },
     "execution_count": 299,
     "metadata": {},
     "output_type": "execute_result"
    }
   ],
   "source": [
    "test_fillna = NER_test.fillna(method='ffill', axis=0)\n",
    "\n",
    "test_group = test_fillna.groupby(\n",
    "['id', 'n_code', 'name'],as_index=False\n",
    ")['token','Word_idx'].agg(lambda x: list(x))\n",
    "# Visualise data\n",
    "test_group.head()"
   ]
  },
  {
   "cell_type": "code",
   "execution_count": 300,
   "metadata": {},
   "outputs": [],
   "source": [
    "def get_pad_test(data_group, data):\n",
    "\n",
    "    n_token = len(list(set(data['token'].to_list())))\n",
    " \n",
    "    tokens = data_group['Word_idx'].tolist()\n",
    "    maxlen = max([len(s) for s in tokens])\n",
    "    test_tokens = pad_sequences(tokens, maxlen=maxlen, dtype='int32', padding='post', value= 7)\n",
    "\n",
    "    return test_tokens\n",
    "\n",
    "test_tokens = get_pad_test(test_group, NER_test)"
   ]
  },
  {
   "cell_type": "code",
   "execution_count": 301,
   "metadata": {},
   "outputs": [],
   "source": [
    "pred = model.predict([test_tokens]) "
   ]
  },
  {
   "cell_type": "code",
   "execution_count": 302,
   "metadata": {},
   "outputs": [],
   "source": [
    "pred_tags = f1score.sequences_to_tags(pred)\n",
    "test_group['BIO_tag'] = pred_tags"
   ]
  },
  {
   "cell_type": "code",
   "execution_count": 312,
   "metadata": {},
   "outputs": [
    {
     "name": "stderr",
     "output_type": "stream",
     "text": [
      "100%|██████████| 11019/11019 [03:36<00:00, 50.88it/s]\n"
     ]
    }
   ],
   "source": [
    "sep_token = []\n",
    "\n",
    "for i in tqdm(range(len(test_group))):\n",
    "    for j in range(200):\n",
    "        try:\n",
    "            text_id = 'text_{}'.format(i)\n",
    "            n_code = test_group['n_code'][i]\n",
    "            name= test_group['name'][i]\n",
    "            token = test_group['token'][i][j]\n",
    "            tag = test_group['BIO_tag'][i][j]\n",
    "            \n",
    "            token_data = text_id, n_code, name, token, tag\n",
    "            sep_token.append(token_data)\n",
    "        except:\n",
    "            continue"
   ]
  },
  {
   "cell_type": "code",
   "execution_count": 315,
   "metadata": {},
   "outputs": [],
   "source": [
    "NER_result = pd.DataFrame(sep_token, columns = ['id','n_code', 'name', 'token', 'BIO_tag'])"
   ]
  },
  {
   "cell_type": "code",
   "execution_count": 109,
   "metadata": {},
   "outputs": [],
   "source": [
    "import matplotlib as mpl\n",
    "import matplotlib.pyplot as plt\n",
    "import matplotlib.font_manager as fm\n",
    "import seaborn as sns\n",
    "\n",
    "path = '/usr/share/fonts/truetype/NanumFont_TTF_ALL/NanumGothicBold.ttf'\n",
    "fontprop = fm.FontProperties(fname=path, size=12)\n",
    "\n",
    "%matplotlib inline\n",
    "mpl.rcParams['axes.unicode_minus'] = False"
   ]
  },
  {
   "cell_type": "code",
   "execution_count": 326,
   "metadata": {},
   "outputs": [
    {
     "data": {
      "text/plain": [
       "O         1077467\n",
       "B_COMP      68434\n",
       "B_THM       50045\n",
       "B_EVT       41627\n",
       "I_EVT       10349\n",
       "0             171\n",
       "I_THM          65\n",
       "Name: BIO_tag, dtype: int64"
      ]
     },
     "execution_count": 326,
     "metadata": {},
     "output_type": "execute_result"
    }
   ],
   "source": [
    "NER_result['BIO_tag'].value_counts()"
   ]
  },
  {
   "cell_type": "code",
   "execution_count": 330,
   "metadata": {},
   "outputs": [
    {
     "data": {
      "text/plain": [
       "Text(0, 0.5, 'BIO 태그')"
      ]
     },
     "execution_count": 330,
     "metadata": {},
     "output_type": "execute_result"
    },
    {
     "data": {
      "image/png": "[encoded data removed]",
      "text/plain": [
       "<Figure size 720x432 with 1 Axes>"
      ]
     },
     "metadata": {
      "needs_background": "light"
     },
     "output_type": "display_data"
    }
   ],
   "source": [
    "f, ax = plt.subplots(figsize = (10, 6))\n",
    "ax.grid(axis='x', linestyle='--')\n",
    "\n",
    "sns.countplot(y = \"BIO_tag\", data = NER_result, ax = ax, palette = \"YlGnBu_r\",edgecolor='black', linewidth=0.8,\n",
    "             order=NER_result['BIO_tag'].value_counts().iloc[1:5].index)\n",
    "plt.title(\"2021.08.16 ~ 2021.08.20 뉴스 NER 태그 카운트\", size = 20, fontproperties = fontprop)\n",
    "plt.xticks(size = 15, fontproperties = fontprop)\n",
    "plt.yticks(size = 15, fontproperties = fontprop)\n",
    "plt.xlabel(\"카운트\", size = 18, fontproperties = fontprop)\n",
    "plt.ylabel(\"BIO 태그\", size = 18, fontproperties = fontprop)"
   ]
  },
  {
   "cell_type": "code",
   "execution_count": 335,
   "metadata": {},
   "outputs": [],
   "source": [
    "result_EVT = NER_result.loc[(NER_result['BIO_tag'] == 'B_EVT') | (NER_result['BIO_tag'] == 'I_EVT')]\n",
    "result_THM = NER_result.loc[(NER_result['BIO_tag'] == 'B_THM') | (NER_result['BIO_tag'] == 'I_THM')]"
   ]
  },
  {
   "cell_type": "code",
   "execution_count": 336,
   "metadata": {},
   "outputs": [
    {
     "data": {
      "text/html": [
       "<div>\n",
       "<style scoped>\n",
       "    .dataframe tbody tr th:only-of-type {\n",
       "        vertical-align: middle;\n",
       "    }\n",
       "\n",
       "    .dataframe tbody tr th {\n",
       "        vertical-align: top;\n",
       "    }\n",
       "\n",
       "    .dataframe thead th {\n",
       "        text-align: right;\n",
       "    }\n",
       "</style>\n",
       "<table border=\"1\" class=\"dataframe\">\n",
       "  <thead>\n",
       "    <tr style=\"text-align: right;\">\n",
       "      <th></th>\n",
       "      <th>n_code</th>\n",
       "      <th>name</th>\n",
       "      <th>token</th>\n",
       "      <th>BIO_tag</th>\n",
       "    </tr>\n",
       "  </thead>\n",
       "  <tbody>\n",
       "    <tr>\n",
       "      <th>0</th>\n",
       "      <td>000020</td>\n",
       "      <td>동화약품보통주</td>\n",
       "      <td>[실적, 실적, 실적, 실적, 개선, 실적, 서비스, 국내, 공시, 자사주, 국내,...</td>\n",
       "      <td>[B_EVT, B_EVT, B_EVT, B_EVT, I_EVT, B_EVT, B_E...</td>\n",
       "    </tr>\n",
       "    <tr>\n",
       "      <th>1</th>\n",
       "      <td>000060</td>\n",
       "      <td>메리츠화재해상보험보통주</td>\n",
       "      <td>[실적, 국내, 실적, 실적, 수입, 공시, 공시, Mom, 배당, 수익, 일정]</td>\n",
       "      <td>[B_EVT, B_EVT, B_EVT, B_EVT, B_EVT, B_EVT, B_E...</td>\n",
       "    </tr>\n",
       "    <tr>\n",
       "      <th>2</th>\n",
       "      <td>000070</td>\n",
       "      <td>삼양홀딩스보통주</td>\n",
       "      <td>[국내, 임상, 해외, 임상, 증례, 확보, 기기, 해외, 국내, aging, 임상...</td>\n",
       "      <td>[B_EVT, B_EVT, B_EVT, B_EVT, B_EVT, I_EVT, I_E...</td>\n",
       "    </tr>\n",
       "    <tr>\n",
       "      <th>3</th>\n",
       "      <td>000080</td>\n",
       "      <td>하이트진로보통주</td>\n",
       "      <td>[신규, 신규, 실적, 실적, 뉴질랜드, 뉴질랜드, 해외, 확산, 뉴질랜드, 전략,...</td>\n",
       "      <td>[B_EVT, B_EVT, B_EVT, B_EVT, I_EVT, I_EVT, B_E...</td>\n",
       "    </tr>\n",
       "    <tr>\n",
       "      <th>4</th>\n",
       "      <td>000100</td>\n",
       "      <td>유한양행보통주</td>\n",
       "      <td>[국내, 국내, 안무, 국내, 국내, 안무, 국내, 국내, 안무, 국내, 국내, 진...</td>\n",
       "      <td>[B_EVT, B_EVT, I_EVT, B_EVT, B_EVT, I_EVT, B_E...</td>\n",
       "    </tr>\n",
       "  </tbody>\n",
       "</table>\n",
       "</div>"
      ],
      "text/plain": [
       "   n_code          name                                              token  \\\n",
       "0  000020       동화약품보통주  [실적, 실적, 실적, 실적, 개선, 실적, 서비스, 국내, 공시, 자사주, 국내,...   \n",
       "1  000060  메리츠화재해상보험보통주      [실적, 국내, 실적, 실적, 수입, 공시, 공시, Mom, 배당, 수익, 일정]   \n",
       "2  000070      삼양홀딩스보통주  [국내, 임상, 해외, 임상, 증례, 확보, 기기, 해외, 국내, aging, 임상...   \n",
       "3  000080      하이트진로보통주  [신규, 신규, 실적, 실적, 뉴질랜드, 뉴질랜드, 해외, 확산, 뉴질랜드, 전략,...   \n",
       "4  000100       유한양행보통주  [국내, 국내, 안무, 국내, 국내, 안무, 국내, 국내, 안무, 국내, 국내, 진...   \n",
       "\n",
       "                                             BIO_tag  \n",
       "0  [B_EVT, B_EVT, B_EVT, B_EVT, I_EVT, B_EVT, B_E...  \n",
       "1  [B_EVT, B_EVT, B_EVT, B_EVT, B_EVT, B_EVT, B_E...  \n",
       "2  [B_EVT, B_EVT, B_EVT, B_EVT, B_EVT, I_EVT, I_E...  \n",
       "3  [B_EVT, B_EVT, B_EVT, B_EVT, I_EVT, I_EVT, B_E...  \n",
       "4  [B_EVT, B_EVT, I_EVT, B_EVT, B_EVT, I_EVT, B_E...  "
      ]
     },
     "execution_count": 336,
     "metadata": {},
     "output_type": "execute_result"
    }
   ],
   "source": [
    "EVT_fillna = result_EVT.fillna(method='ffill', axis=0)\n",
    "\n",
    "EVT_group = EVT_fillna.groupby(\n",
    "['n_code', 'name'],as_index=False\n",
    ")['token','BIO_tag'].agg(lambda x: list(x))\n",
    "\n",
    "THM_fillna = result_THM.fillna(method='ffill', axis=0)\n",
    "\n",
    "THM_group = THM_fillna.groupby(\n",
    "['n_code', 'name'],as_index=False\n",
    ")['token','BIO_tag'].agg(lambda x: list(x))\n",
    "\n",
    "EVT_group.head()"
   ]
  },
  {
   "cell_type": "markdown",
   "metadata": {},
   "source": [
    "# 테이블 추출 & 연관기업 병합"
   ]
  },
  {
   "cell_type": "code",
   "execution_count": 79,
   "metadata": {},
   "outputs": [],
   "source": [
    "final_data = pd.read_csv('final_NER_data.csv')"
   ]
  },
  {
   "cell_type": "code",
   "execution_count": 80,
   "metadata": {},
   "outputs": [
    {
     "data": {
      "text/html": [
       "<div>\n",
       "<style scoped>\n",
       "    .dataframe tbody tr th:only-of-type {\n",
       "        vertical-align: middle;\n",
       "    }\n",
       "\n",
       "    .dataframe tbody tr th {\n",
       "        vertical-align: top;\n",
       "    }\n",
       "\n",
       "    .dataframe thead th {\n",
       "        text-align: right;\n",
       "    }\n",
       "</style>\n",
       "<table border=\"1\" class=\"dataframe\">\n",
       "  <thead>\n",
       "    <tr style=\"text-align: right;\">\n",
       "      <th></th>\n",
       "      <th>id</th>\n",
       "      <th>n_code</th>\n",
       "      <th>name</th>\n",
       "      <th>token</th>\n",
       "      <th>BIO_tag</th>\n",
       "      <th>Word_idx</th>\n",
       "      <th>Tag_idx</th>\n",
       "      <th>drop_idx</th>\n",
       "    </tr>\n",
       "  </thead>\n",
       "  <tbody>\n",
       "    <tr>\n",
       "      <th>0</th>\n",
       "      <td>text_0</td>\n",
       "      <td>049470</td>\n",
       "      <td>에스지에이</td>\n",
       "      <td>['묻어두', '된다', '이종목', '사라', '두산중공업', '속주', '무조건...</td>\n",
       "      <td>['O', 'O', 'O', 'O', 'B_COMP', 'O', 'O', 'O', ...</td>\n",
       "      <td>[75007, 64674, 73106, 79124, 32314, 18717, 641...</td>\n",
       "      <td>[0, 0, 0, 0, 5, 0, 0, 0, 0, 0, 0, 0, 4, 0, 0, ...</td>\n",
       "      <td>pass</td>\n",
       "    </tr>\n",
       "    <tr>\n",
       "      <th>1</th>\n",
       "      <td>text_1</td>\n",
       "      <td>026150</td>\n",
       "      <td>특수건설</td>\n",
       "      <td>['특수건설', '확대', '특수건설', '확대', '전일', '거래', '특수',...</td>\n",
       "      <td>['B_COMP', 'O', 'B_COMP', 'O', 'O', 'O', 'O', ...</td>\n",
       "      <td>[62613, 17157, 62613, 17157, 56016, 66517, 460...</td>\n",
       "      <td>[5, 0, 5, 0, 0, 0, 0, 1, 0, 5, 5, 5, 5, 5, 5, ...</td>\n",
       "      <td>pass</td>\n",
       "    </tr>\n",
       "    <tr>\n",
       "      <th>2</th>\n",
       "      <td>text_100</td>\n",
       "      <td>017670</td>\n",
       "      <td>SK텔레콤보통주</td>\n",
       "      <td>['5G', '집단', '소송', '변론', '기일', '열려', '소송인', 'S...</td>\n",
       "      <td>['B_THM', 'O', 'O', 'O', 'O', 'O', 'O', 'O', '...</td>\n",
       "      <td>[37448, 33768, 70178, 77966, 27120, 9510, 6538...</td>\n",
       "      <td>[1, 0, 0, 0, 0, 0, 0, 0, 0, 0, 1, 0, 0, 0, 0, ...</td>\n",
       "      <td>pass</td>\n",
       "    </tr>\n",
       "    <tr>\n",
       "      <th>3</th>\n",
       "      <td>text_1000</td>\n",
       "      <td>030210</td>\n",
       "      <td>케이티비투자증권보통주</td>\n",
       "      <td>['장중', '수급', 'KTB', '기관', '연속', '뉴스핌', '로보', '...</td>\n",
       "      <td>['O', 'B_EVT', 'O', 'O', 'O', 'O', 'O', 'O', '...</td>\n",
       "      <td>[8857, 74736, 28621, 34622, 60233, 39810, 7050...</td>\n",
       "      <td>[0, 4, 0, 0, 0, 0, 0, 0, 0, 0, 0, 0, 0, 0, 0, ...</td>\n",
       "      <td>pass</td>\n",
       "    </tr>\n",
       "    <tr>\n",
       "      <th>4</th>\n",
       "      <td>text_1001</td>\n",
       "      <td>145020</td>\n",
       "      <td>휴젤</td>\n",
       "      <td>['특징', '휴젤', '신세계', '인수', '추진', '강세', '신고', '이...</td>\n",
       "      <td>['O', 'B_COMP', 'B_COMP', 'B_EVT', 'I_EVT', 'O...</td>\n",
       "      <td>[49321, 43479, 3534, 45715, 36401, 82253, 2351...</td>\n",
       "      <td>[0, 5, 5, 4, 2, 0, 0, 0, 5, 5, 1, 4, 2, 0, 0, ...</td>\n",
       "      <td>pass</td>\n",
       "    </tr>\n",
       "  </tbody>\n",
       "</table>\n",
       "</div>"
      ],
      "text/plain": [
       "          id  n_code         name  \\\n",
       "0     text_0  049470        에스지에이   \n",
       "1     text_1  026150         특수건설   \n",
       "2   text_100  017670     SK텔레콤보통주   \n",
       "3  text_1000  030210  케이티비투자증권보통주   \n",
       "4  text_1001  145020           휴젤   \n",
       "\n",
       "                                               token  \\\n",
       "0  ['묻어두', '된다', '이종목', '사라', '두산중공업', '속주', '무조건...   \n",
       "1  ['특수건설', '확대', '특수건설', '확대', '전일', '거래', '특수',...   \n",
       "2  ['5G', '집단', '소송', '변론', '기일', '열려', '소송인', 'S...   \n",
       "3  ['장중', '수급', 'KTB', '기관', '연속', '뉴스핌', '로보', '...   \n",
       "4  ['특징', '휴젤', '신세계', '인수', '추진', '강세', '신고', '이...   \n",
       "\n",
       "                                             BIO_tag  \\\n",
       "0  ['O', 'O', 'O', 'O', 'B_COMP', 'O', 'O', 'O', ...   \n",
       "1  ['B_COMP', 'O', 'B_COMP', 'O', 'O', 'O', 'O', ...   \n",
       "2  ['B_THM', 'O', 'O', 'O', 'O', 'O', 'O', 'O', '...   \n",
       "3  ['O', 'B_EVT', 'O', 'O', 'O', 'O', 'O', 'O', '...   \n",
       "4  ['O', 'B_COMP', 'B_COMP', 'B_EVT', 'I_EVT', 'O...   \n",
       "\n",
       "                                            Word_idx  \\\n",
       "0  [75007, 64674, 73106, 79124, 32314, 18717, 641...   \n",
       "1  [62613, 17157, 62613, 17157, 56016, 66517, 460...   \n",
       "2  [37448, 33768, 70178, 77966, 27120, 9510, 6538...   \n",
       "3  [8857, 74736, 28621, 34622, 60233, 39810, 7050...   \n",
       "4  [49321, 43479, 3534, 45715, 36401, 82253, 2351...   \n",
       "\n",
       "                                             Tag_idx drop_idx  \n",
       "0  [0, 0, 0, 0, 5, 0, 0, 0, 0, 0, 0, 0, 4, 0, 0, ...     pass  \n",
       "1  [5, 0, 5, 0, 0, 0, 0, 1, 0, 5, 5, 5, 5, 5, 5, ...     pass  \n",
       "2  [1, 0, 0, 0, 0, 0, 0, 0, 0, 0, 1, 0, 0, 0, 0, ...     pass  \n",
       "3  [0, 4, 0, 0, 0, 0, 0, 0, 0, 0, 0, 0, 0, 0, 0, ...     pass  \n",
       "4  [0, 5, 5, 4, 2, 0, 0, 0, 5, 5, 1, 4, 2, 0, 0, ...     pass  "
      ]
     },
     "execution_count": 80,
     "metadata": {},
     "output_type": "execute_result"
    }
   ],
   "source": [
    "final_data.head()"
   ]
  },
  {
   "cell_type": "code",
   "execution_count": 87,
   "metadata": {},
   "outputs": [
    {
     "name": "stderr",
     "output_type": "stream",
     "text": [
      "100%|██████████| 155435/155435 [01:50<00:00, 1401.45it/s]\n",
      "100%|██████████| 155435/155435 [02:39<00:00, 975.74it/s] \n"
     ]
    }
   ],
   "source": [
    "import ast \n",
    "\n",
    "def str_to_list(x):\n",
    "    return ast.literal_eval(x)\n",
    "\n",
    "final_data['token'] = final_data['token'].progress_apply(str_to_list)\n",
    "final_data['BIO_tag'] = final_data['BIO_tag'].progress_apply(str_to_list)"
   ]
  },
  {
   "cell_type": "code",
   "execution_count": 147,
   "metadata": {},
   "outputs": [
    {
     "name": "stderr",
     "output_type": "stream",
     "text": [
      "100%|██████████| 155435/155435 [54:20<00:00, 47.68it/s] \n"
     ]
    }
   ],
   "source": [
    "sep_token = []\n",
    "\n",
    "for i in tqdm(range(len(final_data))):\n",
    "    for j in range(200):\n",
    "        try:\n",
    "            text_id = 'text_{}'.format(i)\n",
    "            n_code = final_data['n_code'][i]\n",
    "            name= final_data['name'][i]\n",
    "            token = final_data['token'][i][j]\n",
    "            tag = final_data['BIO_tag'][i][j]\n",
    "            \n",
    "            token_data = text_id, n_code, name, token, tag\n",
    "            sep_token.append(token_data)\n",
    "        except:\n",
    "            continue"
   ]
  },
  {
   "cell_type": "code",
   "execution_count": 148,
   "metadata": {},
   "outputs": [],
   "source": [
    "NER_result = pd.DataFrame(sep_token, columns = ['id','n_code', 'name', 'token', 'BIO_tag'])"
   ]
  },
  {
   "cell_type": "code",
   "execution_count": 150,
   "metadata": {},
   "outputs": [],
   "source": [
    "NER_result.to_csv('NER_final_result.csv', index = False)"
   ]
  },
  {
   "cell_type": "code",
   "execution_count": 124,
   "metadata": {},
   "outputs": [],
   "source": [
    "NER_result = pd.read_csv('NER_final_result.csv')"
   ]
  },
  {
   "cell_type": "code",
   "execution_count": 125,
   "metadata": {},
   "outputs": [],
   "source": [
    "result_EVT = NER_result.loc[(NER_result['BIO_tag'] == 'B_EVT') | (NER_result['BIO_tag'] == 'I_EVT')]\n",
    "result_THM = NER_result.loc[(NER_result['BIO_tag'] == 'B_THM') | (NER_result['BIO_tag'] == 'I_THM')]"
   ]
  },
  {
   "cell_type": "code",
   "execution_count": 126,
   "metadata": {},
   "outputs": [],
   "source": [
    "result_EVT.reset_index(drop = True, inplace = True)\n",
    "result_THM.reset_index(drop = True, inplace = True)"
   ]
  },
  {
   "cell_type": "code",
   "execution_count": 6,
   "metadata": {},
   "outputs": [
    {
     "name": "stderr",
     "output_type": "stream",
     "text": [
      "100%|██████████| 754534/754534 [07:15<00:00, 1734.47it/s] \n"
     ]
    },
    {
     "name": "stdout",
     "output_type": "stream",
     "text": [
      "수행시간: 583.235228 초\n"
     ]
    },
    {
     "name": "stderr",
     "output_type": "stream",
     "text": [
      "Process ForkPoolWorker-13:\n",
      "Process ForkPoolWorker-19:\n",
      "Process ForkPoolWorker-15:\n",
      "Process ForkPoolWorker-14:\n",
      "Process ForkPoolWorker-16:\n",
      "  File \"/usr/lib/python3.6/multiprocessing/process.py\", line 93, in run\n",
      "    self._target(*self._args, **self._kwargs)\n",
      "Process ForkPoolWorker-20:\n",
      "Process ForkPoolWorker-11:\n",
      "Process ForkPoolWorker-17:\n",
      "Process ForkPoolWorker-18:\n",
      "Process ForkPoolWorker-12:\n",
      "Traceback (most recent call last):\n",
      "Traceback (most recent call last):\n",
      "Traceback (most recent call last):\n",
      "Traceback (most recent call last):\n",
      "Traceback (most recent call last):\n",
      "Traceback (most recent call last):\n",
      "Traceback (most recent call last):\n",
      "Traceback (most recent call last):\n",
      "Traceback (most recent call last):\n",
      "Traceback (most recent call last):\n",
      "  File \"/usr/lib/python3.6/multiprocessing/process.py\", line 258, in _bootstrap\n",
      "    self.run()\n",
      "  File \"/usr/lib/python3.6/multiprocessing/process.py\", line 258, in _bootstrap\n",
      "    self.run()\n",
      "  File \"/usr/lib/python3.6/multiprocessing/process.py\", line 258, in _bootstrap\n",
      "    self.run()\n",
      "  File \"/usr/lib/python3.6/multiprocessing/process.py\", line 258, in _bootstrap\n",
      "    self.run()\n",
      "  File \"/usr/lib/python3.6/multiprocessing/process.py\", line 258, in _bootstrap\n",
      "    self.run()\n",
      "  File \"/usr/lib/python3.6/multiprocessing/process.py\", line 258, in _bootstrap\n",
      "    self.run()\n",
      "  File \"/usr/lib/python3.6/multiprocessing/process.py\", line 258, in _bootstrap\n",
      "    self.run()\n",
      "  File \"/usr/lib/python3.6/multiprocessing/process.py\", line 258, in _bootstrap\n",
      "    self.run()\n",
      "  File \"/usr/lib/python3.6/multiprocessing/process.py\", line 258, in _bootstrap\n",
      "    self.run()\n",
      "  File \"/usr/lib/python3.6/multiprocessing/process.py\", line 258, in _bootstrap\n",
      "    self.run()\n",
      "  File \"/usr/lib/python3.6/multiprocessing/process.py\", line 93, in run\n",
      "    self._target(*self._args, **self._kwargs)\n",
      "  File \"/usr/lib/python3.6/multiprocessing/process.py\", line 93, in run\n",
      "    self._target(*self._args, **self._kwargs)\n",
      "  File \"/usr/lib/python3.6/multiprocessing/process.py\", line 93, in run\n",
      "    self._target(*self._args, **self._kwargs)\n",
      "  File \"/usr/lib/python3.6/multiprocessing/process.py\", line 93, in run\n",
      "    self._target(*self._args, **self._kwargs)\n",
      "  File \"/usr/lib/python3.6/multiprocessing/process.py\", line 93, in run\n",
      "    self._target(*self._args, **self._kwargs)\n",
      "  File \"/usr/lib/python3.6/multiprocessing/process.py\", line 93, in run\n",
      "    self._target(*self._args, **self._kwargs)\n",
      "  File \"/usr/lib/python3.6/multiprocessing/process.py\", line 93, in run\n",
      "    self._target(*self._args, **self._kwargs)\n",
      "  File \"/usr/lib/python3.6/multiprocessing/process.py\", line 93, in run\n",
      "    self._target(*self._args, **self._kwargs)\n",
      "  File \"/usr/lib/python3.6/multiprocessing/pool.py\", line 108, in worker\n",
      "    task = get()\n",
      "  File \"/usr/lib/python3.6/multiprocessing/pool.py\", line 108, in worker\n",
      "    task = get()\n",
      "  File \"/usr/lib/python3.6/multiprocessing/process.py\", line 93, in run\n",
      "    self._target(*self._args, **self._kwargs)\n",
      "  File \"/usr/lib/python3.6/multiprocessing/pool.py\", line 108, in worker\n",
      "    task = get()\n",
      "  File \"/usr/lib/python3.6/multiprocessing/pool.py\", line 108, in worker\n",
      "    task = get()\n",
      "  File \"/usr/lib/python3.6/multiprocessing/pool.py\", line 108, in worker\n",
      "    task = get()\n",
      "  File \"/usr/lib/python3.6/multiprocessing/pool.py\", line 108, in worker\n",
      "    task = get()\n",
      "  File \"/usr/lib/python3.6/multiprocessing/pool.py\", line 108, in worker\n",
      "    task = get()\n",
      "  File \"/usr/lib/python3.6/multiprocessing/pool.py\", line 108, in worker\n",
      "    task = get()\n",
      "  File \"/usr/lib/python3.6/multiprocessing/pool.py\", line 108, in worker\n",
      "    task = get()\n",
      "  File \"/usr/lib/python3.6/multiprocessing/pool.py\", line 108, in worker\n",
      "    task = get()\n",
      "  File \"/usr/lib/python3.6/multiprocessing/queues.py\", line 334, in get\n",
      "    with self._rlock:\n",
      "  File \"/usr/lib/python3.6/multiprocessing/queues.py\", line 334, in get\n",
      "    with self._rlock:\n",
      "  File \"/usr/lib/python3.6/multiprocessing/queues.py\", line 334, in get\n",
      "    with self._rlock:\n",
      "  File \"/usr/lib/python3.6/multiprocessing/queues.py\", line 334, in get\n",
      "    with self._rlock:\n",
      "  File \"/usr/lib/python3.6/multiprocessing/queues.py\", line 334, in get\n",
      "    with self._rlock:\n",
      "  File \"/usr/lib/python3.6/multiprocessing/queues.py\", line 334, in get\n",
      "    with self._rlock:\n",
      "  File \"/usr/lib/python3.6/multiprocessing/queues.py\", line 334, in get\n",
      "    with self._rlock:\n",
      "  File \"/usr/lib/python3.6/multiprocessing/queues.py\", line 334, in get\n",
      "    with self._rlock:\n",
      "  File \"/usr/lib/python3.6/multiprocessing/queues.py\", line 334, in get\n",
      "    with self._rlock:\n",
      "  File \"/usr/lib/python3.6/multiprocessing/queues.py\", line 335, in get\n",
      "    res = self._reader.recv_bytes()\n",
      "  File \"/usr/lib/python3.6/multiprocessing/synchronize.py\", line 95, in __enter__\n",
      "    return self._semlock.__enter__()\n",
      "  File \"/usr/lib/python3.6/multiprocessing/synchronize.py\", line 95, in __enter__\n",
      "    return self._semlock.__enter__()\n",
      "  File \"/usr/lib/python3.6/multiprocessing/synchronize.py\", line 95, in __enter__\n",
      "    return self._semlock.__enter__()\n",
      "  File \"/usr/lib/python3.6/multiprocessing/synchronize.py\", line 95, in __enter__\n",
      "    return self._semlock.__enter__()\n",
      "  File \"/usr/lib/python3.6/multiprocessing/synchronize.py\", line 95, in __enter__\n",
      "    return self._semlock.__enter__()\n",
      "  File \"/usr/lib/python3.6/multiprocessing/synchronize.py\", line 95, in __enter__\n",
      "    return self._semlock.__enter__()\n",
      "  File \"/usr/lib/python3.6/multiprocessing/synchronize.py\", line 95, in __enter__\n",
      "    return self._semlock.__enter__()\n",
      "  File \"/usr/lib/python3.6/multiprocessing/synchronize.py\", line 95, in __enter__\n",
      "    return self._semlock.__enter__()\n",
      "  File \"/usr/lib/python3.6/multiprocessing/synchronize.py\", line 95, in __enter__\n",
      "    return self._semlock.__enter__()\n",
      "  File \"/usr/lib/python3.6/multiprocessing/connection.py\", line 216, in recv_bytes\n",
      "    buf = self._recv_bytes(maxlength)\n",
      "KeyboardInterrupt\n",
      "KeyboardInterrupt\n",
      "KeyboardInterrupt\n",
      "KeyboardInterrupt\n",
      "KeyboardInterrupt\n",
      "KeyboardInterrupt\n",
      "KeyboardInterrupt\n",
      "KeyboardInterrupt\n",
      "KeyboardInterrupt\n",
      "  File \"/usr/lib/python3.6/multiprocessing/connection.py\", line 407, in _recv_bytes\n",
      "    buf = self._recv(4)\n",
      "  File \"/usr/lib/python3.6/multiprocessing/connection.py\", line 379, in _recv\n",
      "    chunk = read(handle, remaining)\n",
      "KeyboardInterrupt\n"
     ]
    }
   ],
   "source": [
    "import multiprocessing as mp\n",
    "from multiprocessing import Pool\n",
    "import time\n",
    "from itertools import product\n",
    "from functools import partial\n",
    "\n",
    "def B_I_EVT_merge(i):\n",
    "    if result_EVT['BIO_tag'][i] == 'B_EVT' and result_EVT['BIO_tag'][i+1] == 'I_EVT':\n",
    "        result_EVT['token'][i] = result_EVT['token'][i] + ' ' + result_EVT['token'][i+1]\n",
    "    else:\n",
    "        pass\n",
    "       \n",
    "    return result_EVT\n",
    "\n",
    "           \n",
    "if __name__ == '__main__':\n",
    "    start = time.time()\n",
    "    pool = Pool(processes=10)\n",
    "    result = pool.map(B_I_EVT_merge, tqdm(range(0, len(result_EVT) - 1)))\n",
    "    end = time.time()\n",
    "    print(\"수행시간: %f 초\" % (end - start))"
   ]
  },
  {
   "cell_type": "code",
   "execution_count": 961,
   "metadata": {},
   "outputs": [],
   "source": [
    "result_EVT = result[0]\n",
    "result_EVT.drop(result_EVT.loc[result_EVT['BIO_tag'] == 'I_EVT'].index, axis = 0, inplace = True)\n",
    "result_EVT.reset_index(drop = True, inplace = True)\n",
    "result_EVT.head()"
   ]
  },
  {
   "cell_type": "code",
   "execution_count": 962,
   "metadata": {},
   "outputs": [],
   "source": [
    "def B_I_THM_merge(i):\n",
    "    if result_THM['BIO_tag'][i] == 'B_THM' and result_THM['BIO_tag'][i+1] == 'I_THM':\n",
    "        result_THM['token'][i] = result_THM['token'][i] + ' ' + result_THM['token'][i+1]\n",
    "    else:\n",
    "        pass\n",
    "       \n",
    "    return result_THM\n",
    "\n",
    "           \n",
    "if __name__ == '__main__':\n",
    "    start = time.time()\n",
    "    pool = Pool(processes=10)\n",
    "    result = pool.map(B_I_THM_merge, tqdm(range(0, len(result_THM) - 1)))\n",
    "    end = time.time()\n",
    "    print(\"수행시간: %f 초\" % (end - start))"
   ]
  },
  {
   "cell_type": "code",
   "execution_count": 131,
   "metadata": {},
   "outputs": [],
   "source": [
    "result_THM = result[0]\n",
    "result_THM.drop(result_THM.loc[result_THM['BIO_tag'] == 'I_THM'].index, axis = 0, inplace = True)\n",
    "result_THM.reset_index(drop = True, inplace = True)"
   ]
  },
  {
   "cell_type": "code",
   "execution_count": 96,
   "metadata": {},
   "outputs": [],
   "source": [
    "from collections import Counter\n",
    "\n",
    "c = Counter(result_THM['token'])\n",
    "most_THEME = c.most_common(5)\n",
    "\n",
    "most_THEME = pd.DataFrame(most_THEME, columns = [\"단어 토큰\", \"빈도 수\"])"
   ]
  },
  {
   "cell_type": "code",
   "execution_count": 119,
   "metadata": {},
   "outputs": [],
   "source": [
    "c = Counter(bigram_EVT['token'])\n",
    "most_EVT = c.most_common(5)\n",
    "most_EVT = pd.DataFrame(most_EVT, columns = [\"단어 토큰\", \"빈도 수\"])"
   ]
  },
  {
   "cell_type": "code",
   "execution_count": 819,
   "metadata": {},
   "outputs": [
    {
     "data": {
      "text/html": [
       "<div>\n",
       "<style scoped>\n",
       "    .dataframe tbody tr th:only-of-type {\n",
       "        vertical-align: middle;\n",
       "    }\n",
       "\n",
       "    .dataframe tbody tr th {\n",
       "        vertical-align: top;\n",
       "    }\n",
       "\n",
       "    .dataframe thead th {\n",
       "        text-align: right;\n",
       "    }\n",
       "</style>\n",
       "<table border=\"1\" class=\"dataframe\">\n",
       "  <thead>\n",
       "    <tr style=\"text-align: right;\">\n",
       "      <th></th>\n",
       "      <th>단어 토큰</th>\n",
       "      <th>빈도 수</th>\n",
       "    </tr>\n",
       "  </thead>\n",
       "  <tbody>\n",
       "    <tr>\n",
       "      <th>0</th>\n",
       "      <td>코로나19</td>\n",
       "      <td>34330</td>\n",
       "    </tr>\n",
       "    <tr>\n",
       "      <th>1</th>\n",
       "      <td>반도체</td>\n",
       "      <td>28504</td>\n",
       "    </tr>\n",
       "    <tr>\n",
       "      <th>2</th>\n",
       "      <td>바이오</td>\n",
       "      <td>23057</td>\n",
       "    </tr>\n",
       "    <tr>\n",
       "      <th>3</th>\n",
       "      <td>백신</td>\n",
       "      <td>22620</td>\n",
       "    </tr>\n",
       "    <tr>\n",
       "      <th>4</th>\n",
       "      <td>배터리</td>\n",
       "      <td>17912</td>\n",
       "    </tr>\n",
       "  </tbody>\n",
       "</table>\n",
       "</div>"
      ],
      "text/plain": [
       "   단어 토큰   빈도 수\n",
       "0  코로나19  34330\n",
       "1    반도체  28504\n",
       "2    바이오  23057\n",
       "3     백신  22620\n",
       "4    배터리  17912"
      ]
     },
     "execution_count": 819,
     "metadata": {},
     "output_type": "execute_result"
    }
   ],
   "source": [
    "most_THEME"
   ]
  },
  {
   "cell_type": "code",
   "execution_count": 120,
   "metadata": {},
   "outputs": [],
   "source": [
    "palette = [(0.999078431372549, 0.8565974625144174, 0.31494809688581313),(0.16696655132641292, 0.48069204152249134, 0.7291503267973857)]"
   ]
  },
  {
   "cell_type": "code",
   "execution_count": 121,
   "metadata": {},
   "outputs": [
    {
     "data": {
      "image/png": "[encoded data removed]",
      "text/plain": [
       "<Figure size 1200x500 with 2 Axes>"
      ]
     },
     "metadata": {
      "needs_background": "light"
     },
     "output_type": "display_data"
    }
   ],
   "source": [
    "fig, axes = plt.subplots(ncols=2, figsize=(12, 5), dpi=100)\n",
    "axes[0].grid(axis='x', linestyle='--')\n",
    "axes[1].grid(axis='x', linestyle='--')\n",
    "plt.tight_layout()\n",
    "\n",
    "sns.barplot(y=most_EVT['단어 토큰'].values, x=most_EVT['빈도 수'].values, ax=axes[0], edgecolor='black', linewidth=0.8,color=palette[1])\n",
    "sns.barplot(y=most_THEME['단어 토큰'].values, x=most_THEME['빈도 수'].values, ax=axes[1], edgecolor='black', linewidth=0.8,color=palette[0])\n",
    "\n",
    "for i in range(2):\n",
    "    axes[i].spines['right'].set_visible(False)\n",
    "    axes[i].set_xlabel('')\n",
    "    axes[i].set_ylabel('')\n",
    "axes[0].set_yticklabels(most_EVT['단어 토큰'].values, fontproperties = fontprop)\n",
    "axes[1].set_yticklabels(most_THEME['단어 토큰'].values, fontproperties = fontprop)\n",
    "axes[0].set_title('이벤트 Top 5 ', fontproperties = fontprop)\n",
    "axes[1].set_title('테마 Top 5 ', fontproperties = fontprop)\n",
    "\n",
    "plt.show()"
   ]
  },
  {
   "cell_type": "markdown",
   "metadata": {},
   "source": [
    "# Sample data 추출 (이벤트, 테마)"
   ]
  },
  {
   "cell_type": "code",
   "execution_count": 22,
   "metadata": {},
   "outputs": [],
   "source": [
    "EVT_fillna = result_EVT.fillna(method='ffill', axis=0)\n",
    "\n",
    "EVT_group = EVT_fillna.groupby(['name'],as_index=False)['token','BIO_tag'].agg(lambda x: list(set(x)))"
   ]
  },
  {
   "cell_type": "code",
   "execution_count": 585,
   "metadata": {},
   "outputs": [],
   "source": [
    "THM_fillna = result_THM.fillna(method='ffill', axis=0)\n",
    "\n",
    "THM_group = THM_fillna.groupby(['name'],as_index=False)['token','BIO_tag'].agg(lambda x: list(x))"
   ]
  },
  {
   "cell_type": "code",
   "execution_count": 589,
   "metadata": {},
   "outputs": [
    {
     "name": "stderr",
     "output_type": "stream",
     "text": [
      "100%|██████████| 2259/2259 [01:42<00:00, 22.00it/s] \n"
     ]
    }
   ],
   "source": [
    "for x in tqdm(range(len(THM_group['token']))):\n",
    "    for i in THM_group['token'][x]:\n",
    "        if THM_group['token'][x].count(str(i)) < 50:\n",
    "            THM_group['token'][x].remove(str(i))\n",
    "            \n",
    "        else:\n",
    "            continue"
   ]
  },
  {
   "cell_type": "code",
   "execution_count": 627,
   "metadata": {},
   "outputs": [],
   "source": [
    "# 코스피 TOP 10\n",
    "\n",
    "sample_list = ['삼성전자보통주', '에스케이하이닉스보통주', 'NAVER보통주', '카카오보통주', '삼성바이오로직스보통주',\n",
    "'LG화학보통주', '삼성SDI보통주', '현대자동차보통주', '셀트리온보통주', '기아보통주', '엔에이치투자증권보통주']\n",
    "\n",
    "sample_df_list = []\n",
    "\n",
    "for i in sample_list:\n",
    "    sample_df_list.append(THM_group.loc[THM_group['name'] == i])\n",
    "    \n",
    "sample_THM = pd.concat(sample_df_list)    "
   ]
  },
  {
   "cell_type": "code",
   "execution_count": 629,
   "metadata": {},
   "outputs": [],
   "source": [
    "sample_THM.reset_index(drop = True, inplace = True)"
   ]
  },
  {
   "cell_type": "code",
   "execution_count": 631,
   "metadata": {},
   "outputs": [
    {
     "name": "stderr",
     "output_type": "stream",
     "text": [
      "100%|██████████| 11/11 [00:24<00:00,  2.20s/it]\n"
     ]
    }
   ],
   "source": [
    "sep_token = []\n",
    "\n",
    "for i in tqdm(range(len(sample_THM))):\n",
    "    for j in range(40000):\n",
    "        try:\n",
    "            name= sample_THM['name'][i]\n",
    "            token = sample_THM['token'][i][j]\n",
    "            \n",
    "            token_data = name, token\n",
    "            sep_token.append(token_data)\n",
    "        except:\n",
    "            pass"
   ]
  },
  {
   "cell_type": "code",
   "execution_count": 931,
   "metadata": {},
   "outputs": [
    {
     "name": "stderr",
     "output_type": "stream",
     "text": [
      "100%|██████████| 10/10 [00:22<00:00,  2.21s/it]\n"
     ]
    }
   ],
   "source": [
    "sep_token = []\n",
    "\n",
    "for i in tqdm(range(len(sample_data))):\n",
    "    for j in range(40000):\n",
    "        try:\n",
    "            name= sample_data['name'][i]\n",
    "            token = sample_data['EVENT'][i][j]\n",
    "            \n",
    "            token_data = name, token\n",
    "            sep_token.append(token_data)\n",
    "        except:\n",
    "            pass"
   ]
  },
  {
   "cell_type": "code",
   "execution_count": 933,
   "metadata": {},
   "outputs": [],
   "source": [
    "sample_EVT = pd.DataFrame(sep_token, columns = ['name', 'token'])"
   ]
  },
  {
   "cell_type": "code",
   "execution_count": 937,
   "metadata": {},
   "outputs": [
    {
     "data": {
      "text/html": [
       "<div>\n",
       "<style scoped>\n",
       "    .dataframe tbody tr th:only-of-type {\n",
       "        vertical-align: middle;\n",
       "    }\n",
       "\n",
       "    .dataframe tbody tr th {\n",
       "        vertical-align: top;\n",
       "    }\n",
       "\n",
       "    .dataframe thead th {\n",
       "        text-align: right;\n",
       "    }\n",
       "</style>\n",
       "<table border=\"1\" class=\"dataframe\">\n",
       "  <thead>\n",
       "    <tr style=\"text-align: right;\">\n",
       "      <th></th>\n",
       "      <th>name</th>\n",
       "      <th>token</th>\n",
       "    </tr>\n",
       "  </thead>\n",
       "  <tbody>\n",
       "    <tr>\n",
       "      <th>0</th>\n",
       "      <td>삼성전자보통주</td>\n",
       "      <td>계약 수주</td>\n",
       "    </tr>\n",
       "    <tr>\n",
       "      <th>1</th>\n",
       "      <td>삼성전자보통주</td>\n",
       "      <td>일정 공개</td>\n",
       "    </tr>\n",
       "    <tr>\n",
       "      <th>2</th>\n",
       "      <td>삼성전자보통주</td>\n",
       "      <td>배당 결정</td>\n",
       "    </tr>\n",
       "    <tr>\n",
       "      <th>3</th>\n",
       "      <td>삼성전자보통주</td>\n",
       "      <td>수출</td>\n",
       "    </tr>\n",
       "    <tr>\n",
       "      <th>4</th>\n",
       "      <td>삼성전자보통주</td>\n",
       "      <td>계약 체결</td>\n",
       "    </tr>\n",
       "  </tbody>\n",
       "</table>\n",
       "</div>"
      ],
      "text/plain": [
       "      name  token\n",
       "0  삼성전자보통주  계약 수주\n",
       "1  삼성전자보통주  일정 공개\n",
       "2  삼성전자보통주  배당 결정\n",
       "3  삼성전자보통주     수출\n",
       "4  삼성전자보통주  계약 체결"
      ]
     },
     "execution_count": 937,
     "metadata": {},
     "output_type": "execute_result"
    }
   ],
   "source": [
    "sample_EVT.head()"
   ]
  },
  {
   "cell_type": "code",
   "execution_count": 939,
   "metadata": {},
   "outputs": [],
   "source": [
    "# 감성 스코어 태깅을 위해 unique값 분류\n",
    "\n",
    "pos_list = ['계약 수주' ,'일정 공개' ,'배당 결정','수출','계약 체결','실적 확산', \n",
    "            '서비스 시작','실적 공개','수급 개선','협약 체결','실적 달성' ,'서비스 강화',\n",
    "            '호황' ,'실적 개선','이벤트','수익 개선','협약','성과','출시',\n",
    "            '임상','특허','수익 공개','국내 판매','공장 결정','초호황', 'MOU',\n",
    "            '전략 합병','서비스 추진','진출','계약' ,'공급','MOU 체결' ,'흥행' ,\n",
    "            '실적 발표','대호황' ,'공급 예정','수익','수입','출시 예정','신규 추진',\n",
    "            '전략 제휴','해외 상장','서비스 확대','서비스 확산' ,'인수 추진','국내 상장',\n",
    "            '협약 시작','수익 확보', '코스피 상장', '공장 수주', '공장 신설', '전략 발표', '공급 확대',\n",
    "            '실적 확대', '공급 증가', '공급 시작', '출시 시작', '실적 판매', '배당 실시', '협약 추진', '해외 판매',\n",
    "            '성과 달성', '공급 체결', '계약 판매', '일정 확정', '출시 확정', '수익 확대', '수출 증가', '해외 증가',\n",
    "            '흥행 성공', '출시 판매']\n",
    "\n",
    "neg_list = ['출시 규제', '수익 영향', '실적 악화', '인수 합병', '실적 부진', '상호 변경', '유상 증자', '흡수',\n",
    "           '분할 결정', '흡수 합병', '수급 악화', '수급 문제', '일정 지연', '국내 영향', '공급 문제', '국내 감소',\n",
    "           '해외 확산', '출시 지연']"
   ]
  },
  {
   "cell_type": "code",
   "execution_count": 941,
   "metadata": {},
   "outputs": [
    {
     "name": "stderr",
     "output_type": "stream",
     "text": [
      "100%|██████████| 490/490 [00:00<00:00, 143480.10it/s]\n"
     ]
    }
   ],
   "source": [
    "def sentiment_labeling(x):\n",
    "    if x in pos_list:\n",
    "        return 'positive'\n",
    "    elif x in neg_list:\n",
    "        return 'negative'\n",
    "    else:\n",
    "        return 'drop'\n",
    "    \n",
    "sample_EVT['word_sentiment'] = sample_EVT['token'].progress_apply(sentiment_labeling)"
   ]
  },
  {
   "cell_type": "code",
   "execution_count": 943,
   "metadata": {},
   "outputs": [],
   "source": [
    "sample_EVT.drop(sample_EVT.loc[sample_EVT['word_sentiment'] == 'drop'].index, axis = 0, inplace = True)"
   ]
  },
  {
   "cell_type": "code",
   "execution_count": 935,
   "metadata": {},
   "outputs": [],
   "source": [
    "count_EVT = pd.DataFrame(sample_EVT.groupby(['name', 'token'])['token'].count())"
   ]
  },
  {
   "cell_type": "code",
   "execution_count": 946,
   "metadata": {},
   "outputs": [],
   "source": [
    "sample_EVT.to_csv('sample_EVT_sentiment.csv')"
   ]
  },
  {
   "cell_type": "code",
   "execution_count": 675,
   "metadata": {},
   "outputs": [],
   "source": [
    "count_thm.columns = ['_'.join(col).strip() for col in count_thm.columns.values]"
   ]
  },
  {
   "cell_type": "code",
   "execution_count": 963,
   "metadata": {},
   "outputs": [
    {
     "data": {
      "text/html": [
       "<div>\n",
       "<style scoped>\n",
       "    .dataframe tbody tr th:only-of-type {\n",
       "        vertical-align: middle;\n",
       "    }\n",
       "\n",
       "    .dataframe tbody tr th {\n",
       "        vertical-align: top;\n",
       "    }\n",
       "\n",
       "    .dataframe thead th {\n",
       "        text-align: right;\n",
       "    }\n",
       "</style>\n",
       "<table border=\"1\" class=\"dataframe\">\n",
       "  <thead>\n",
       "    <tr style=\"text-align: right;\">\n",
       "      <th></th>\n",
       "      <th>name</th>\n",
       "      <th>token</th>\n",
       "      <th>word_sentiment</th>\n",
       "    </tr>\n",
       "  </thead>\n",
       "  <tbody>\n",
       "    <tr>\n",
       "      <th>0</th>\n",
       "      <td>삼성전자보통주</td>\n",
       "      <td>계약 수주</td>\n",
       "      <td>positive</td>\n",
       "    </tr>\n",
       "    <tr>\n",
       "      <th>1</th>\n",
       "      <td>삼성전자보통주</td>\n",
       "      <td>일정 공개</td>\n",
       "      <td>positive</td>\n",
       "    </tr>\n",
       "    <tr>\n",
       "      <th>2</th>\n",
       "      <td>삼성전자보통주</td>\n",
       "      <td>배당 결정</td>\n",
       "      <td>positive</td>\n",
       "    </tr>\n",
       "    <tr>\n",
       "      <th>3</th>\n",
       "      <td>삼성전자보통주</td>\n",
       "      <td>수출</td>\n",
       "      <td>positive</td>\n",
       "    </tr>\n",
       "    <tr>\n",
       "      <th>4</th>\n",
       "      <td>삼성전자보통주</td>\n",
       "      <td>계약 체결</td>\n",
       "      <td>positive</td>\n",
       "    </tr>\n",
       "  </tbody>\n",
       "</table>\n",
       "</div>"
      ],
      "text/plain": [
       "      name  token word_sentiment\n",
       "0  삼성전자보통주  계약 수주       positive\n",
       "1  삼성전자보통주  일정 공개       positive\n",
       "2  삼성전자보통주  배당 결정       positive\n",
       "3  삼성전자보통주     수출       positive\n",
       "4  삼성전자보통주  계약 체결       positive"
      ]
     },
     "execution_count": 963,
     "metadata": {},
     "output_type": "execute_result"
    }
   ],
   "source": [
    "sample_EVT.head()"
   ]
  },
  {
   "cell_type": "code",
   "execution_count": 636,
   "metadata": {},
   "outputs": [],
   "source": [
    "sample_THM.to_csv('theme_wordcloud.csv')"
   ]
  },
  {
   "cell_type": "code",
   "execution_count": 141,
   "metadata": {},
   "outputs": [
    {
     "name": "stderr",
     "output_type": "stream",
     "text": [
      "100%|██████████| 2259/2259 [00:00<00:00, 45508.80it/s]\n"
     ]
    }
   ],
   "source": [
    "def set_list(x):\n",
    "    return list(set(x))\n",
    "\n",
    "THM_group['token'] = THM_group['token'].progress_apply(set_list)"
   ]
  },
  {
   "cell_type": "code",
   "execution_count": 144,
   "metadata": {},
   "outputs": [],
   "source": [
    "iem_data.rename({'stk_iem_krl_nm':'name'}, axis = 1, inplace = True)"
   ]
  },
  {
   "cell_type": "code",
   "execution_count": 145,
   "metadata": {},
   "outputs": [],
   "source": [
    "EVT_group.rename({'token':'EVENT'}, axis = 1, inplace = True)\n",
    "THM_group.rename({'token':'THEME'}, axis = 1, inplace = True)\n",
    "\n",
    "EVT_THM = pd.merge(EVT_group, THM_group, on = 'name')"
   ]
  },
  {
   "cell_type": "code",
   "execution_count": 146,
   "metadata": {},
   "outputs": [],
   "source": [
    "EVT_THM = pd.merge(iem_data, EVT_THM, on = 'name')"
   ]
  },
  {
   "cell_type": "code",
   "execution_count": 147,
   "metadata": {},
   "outputs": [],
   "source": [
    "EVT_THM = EVT_THM[['n_code', 'name', 'EVENT', 'THEME']]"
   ]
  },
  {
   "cell_type": "code",
   "execution_count": 198,
   "metadata": {},
   "outputs": [],
   "source": [
    "EVT_THM.to_csv('EVT_THM_COMP.csv', index = False)"
   ]
  },
  {
   "cell_type": "code",
   "execution_count": 150,
   "metadata": {},
   "outputs": [],
   "source": [
    "COMP = pd.read_csv('linked_comp.csv')"
   ]
  },
  {
   "cell_type": "code",
   "execution_count": 175,
   "metadata": {},
   "outputs": [],
   "source": [
    "COMP.drop(COMP.loc[COMP['관련기업리스트'] == '기업정보없음'].index, axis = 0, inplace = True)"
   ]
  },
  {
   "cell_type": "code",
   "execution_count": 178,
   "metadata": {},
   "outputs": [],
   "source": [
    "COMP.reset_index(drop = True, inplace = True)"
   ]
  },
  {
   "cell_type": "code",
   "execution_count": 179,
   "metadata": {},
   "outputs": [
    {
     "name": "stderr",
     "output_type": "stream",
     "text": [
      "100%|██████████| 2051/2051 [00:07<00:00, 256.48it/s]\n"
     ]
    }
   ],
   "source": [
    "for i in tqdm(range(len(COMP))):\n",
    "    idx = EVT_THM.loc[EVT_THM['name'].str.contains(COMP['기업명'][i])].index\n",
    "    EVT_THM['LINKED_COMP'][idx] = COMP['관련기업리스트'][i]"
   ]
  },
  {
   "cell_type": "code",
   "execution_count": 213,
   "metadata": {},
   "outputs": [],
   "source": [
    "sample_list = ['삼성전자보통주', '에스케이하이닉스보통주', 'NAVER보통주', '카카오보통주', '삼성바이오로직스보통주',\n",
    "'LG화학보통주', '삼성SDI보통주', '현대자동차보통주', '셀트리온보통주', '기아보통주']"
   ]
  },
  {
   "cell_type": "code",
   "execution_count": 215,
   "metadata": {},
   "outputs": [],
   "source": [
    "sample_df_list = []\n",
    "\n",
    "for i in sample_list:\n",
    "    sample_df_list.append(EVT_THM.loc[EVT_THM['name'] == i])\n",
    "    \n",
    "sample_data = pd.concat(sample_df_list)    "
   ]
  },
  {
   "cell_type": "code",
   "execution_count": 217,
   "metadata": {},
   "outputs": [],
   "source": [
    "sample_data.reset_index(drop= True, inplace = True)"
   ]
  },
  {
   "cell_type": "code",
   "execution_count": 909,
   "metadata": {},
   "outputs": [],
   "source": [
    "sample_data.to_csv('sample_data_EVT_THM_COMP.csv', index = False)"
   ]
  },
  {
   "cell_type": "markdown",
   "metadata": {},
   "source": [
    "# 연관어 추출"
   ]
  },
  {
   "cell_type": "code",
   "execution_count": 685,
   "metadata": {},
   "outputs": [
    {
     "name": "stdout",
     "output_type": "stream",
     "text": [
      "Looking in indexes: http://172.20.8.21:8081/repository/pypi-repo/simple\r\n",
      "Requirement already satisfied: soykeyword in /usr/local/lib/python3.6/dist-packages (0.0.14)\r\n",
      "Requirement already satisfied: scikit-learn>=0.18.0 in /usr/local/lib/python3.6/dist-packages (from soykeyword) (0.22.2.post1)\r\n",
      "Requirement already satisfied: numpy>=1.12.0 in /usr/local/lib/python3.6/dist-packages (from soykeyword) (1.16.2)\r\n",
      "Requirement already satisfied: psutil>=5.0.1 in /usr/local/lib/python3.6/dist-packages (from soykeyword) (5.7.0)\r\n",
      "Requirement already satisfied: joblib>=0.11 in /usr/local/lib/python3.6/dist-packages (from scikit-learn>=0.18.0->soykeyword) (0.14.1)\r\n",
      "Requirement already satisfied: scipy>=0.17.0 in /usr/local/lib/python3.6/dist-packages (from scikit-learn>=0.18.0->soykeyword) (1.4.1)\r\n"
     ]
    }
   ],
   "source": [
    "!pip install soykeyword"
   ]
  },
  {
   "cell_type": "code",
   "execution_count": 686,
   "metadata": {},
   "outputs": [
    {
     "data": {
      "text/html": [
       "<div>\n",
       "<style scoped>\n",
       "    .dataframe tbody tr th:only-of-type {\n",
       "        vertical-align: middle;\n",
       "    }\n",
       "\n",
       "    .dataframe tbody tr th {\n",
       "        vertical-align: top;\n",
       "    }\n",
       "\n",
       "    .dataframe thead th {\n",
       "        text-align: right;\n",
       "    }\n",
       "</style>\n",
       "<table border=\"1\" class=\"dataframe\">\n",
       "  <thead>\n",
       "    <tr style=\"text-align: right;\">\n",
       "      <th></th>\n",
       "      <th>form</th>\n",
       "      <th>n_code</th>\n",
       "      <th>n_content</th>\n",
       "      <th>n_content_clean</th>\n",
       "      <th>n_date</th>\n",
       "      <th>n_title</th>\n",
       "      <th>rgs_mkt_cd</th>\n",
       "      <th>stk_iem_krl_nm</th>\n",
       "      <th>title_content</th>\n",
       "      <th>title_content_clean</th>\n",
       "      <th>month</th>\n",
       "      <th>day</th>\n",
       "      <th>dayofweek</th>\n",
       "    </tr>\n",
       "  </thead>\n",
       "  <tbody>\n",
       "    <tr>\n",
       "      <th>0</th>\n",
       "      <td>news</td>\n",
       "      <td>046940</td>\n",
       "      <td>우원개발(046940)이 상승폭을 확대하고 있다. 전일 대비 4.40% 상승한 7,...</td>\n",
       "      <td>우원개발(046940)이 상승폭을 확대하고 있다. 전일 대비 4.40% 상승한 7,...</td>\n",
       "      <td>2021-07-15</td>\n",
       "      <td>우원개발, +4.40% 상승폭 확대</td>\n",
       "      <td>코스닥</td>\n",
       "      <td>우원개발</td>\n",
       "      <td>우원개발, +4.40% 상승폭 확대. 우원개발(046940)이 상승폭을 확대하고 있...</td>\n",
       "      <td>우원개발 4.40 상승폭 확대. 우원개발 046940 이 상승폭을 확대하고 있다. ...</td>\n",
       "      <td>7</td>\n",
       "      <td>15</td>\n",
       "      <td>3</td>\n",
       "    </tr>\n",
       "    <tr>\n",
       "      <th>1</th>\n",
       "      <td>news</td>\n",
       "      <td>046940</td>\n",
       "      <td>&lt;meta http-equiv=\"Content-Type\" content=\"text/...</td>\n",
       "      <td>&lt;meta http-equiv=\"Content-Type\" content=\"text/...</td>\n",
       "      <td>2021-07-15</td>\n",
       "      <td>우원개발(046940)  소폭 상승세 +3.06%</td>\n",
       "      <td>코스닥</td>\n",
       "      <td>우원개발</td>\n",
       "      <td>우원개발(046940)  소폭 상승세 +3.06%. &lt;meta http-equiv=...</td>\n",
       "      <td>우원개발 046940 소폭 상승세 3.06 . 제목 우원개발 046940 소폭 상승...</td>\n",
       "      <td>7</td>\n",
       "      <td>15</td>\n",
       "      <td>3</td>\n",
       "    </tr>\n",
       "    <tr>\n",
       "      <th>2</th>\n",
       "      <td>news</td>\n",
       "      <td>046940</td>\n",
       "      <td>&lt;meta http-equiv=\"Content-Type\" content=\"text/...</td>\n",
       "      <td>&lt;meta http-equiv=\"Content-Type\" content=\"text/...</td>\n",
       "      <td>2021-06-30</td>\n",
       "      <td>우원개발(046940)  소폭 상승세 +3.13%</td>\n",
       "      <td>코스닥</td>\n",
       "      <td>우원개발</td>\n",
       "      <td>우원개발(046940)  소폭 상승세 +3.13%. &lt;meta http-equiv=...</td>\n",
       "      <td>우원개발 046940 소폭 상승세 3.13 . 제목 우원개발 046940 소폭 상승...</td>\n",
       "      <td>6</td>\n",
       "      <td>30</td>\n",
       "      <td>2</td>\n",
       "    </tr>\n",
       "    <tr>\n",
       "      <th>3</th>\n",
       "      <td>news</td>\n",
       "      <td>046940</td>\n",
       "      <td>&lt;meta http-equiv=\"Content-Type\" content=\"text/...</td>\n",
       "      <td>&lt;meta http-equiv=\"Content-Type\" content=\"text/...</td>\n",
       "      <td>2021-07-27</td>\n",
       "      <td>우원개발(046940)  소폭 상승세 +3.17%</td>\n",
       "      <td>코스닥</td>\n",
       "      <td>우원개발</td>\n",
       "      <td>우원개발(046940)  소폭 상승세 +3.17%. &lt;meta http-equiv=...</td>\n",
       "      <td>우원개발 046940 소폭 상승세 3.17 . 제목 우원개발 046940 소폭 상승...</td>\n",
       "      <td>7</td>\n",
       "      <td>27</td>\n",
       "      <td>1</td>\n",
       "    </tr>\n",
       "    <tr>\n",
       "      <th>4</th>\n",
       "      <td>news</td>\n",
       "      <td>046940</td>\n",
       "      <td>&lt;meta http-equiv=\"Content-Type\" content=\"text/...</td>\n",
       "      <td>&lt;meta http-equiv=\"Content-Type\" content=\"text/...</td>\n",
       "      <td>2021-06-02</td>\n",
       "      <td>우원개발(046940)  소폭 상승세 +3.12%, 3거래일 연속 상승</td>\n",
       "      <td>코스닥</td>\n",
       "      <td>우원개발</td>\n",
       "      <td>우원개발(046940)  소폭 상승세 +3.12%, 3거래일 연속 상승. &lt;meta...</td>\n",
       "      <td>우원개발 046940 소폭 상승세 3.12 3거래일 연속 상승. 제목 우원개발 04...</td>\n",
       "      <td>6</td>\n",
       "      <td>2</td>\n",
       "      <td>2</td>\n",
       "    </tr>\n",
       "  </tbody>\n",
       "</table>\n",
       "</div>"
      ],
      "text/plain": [
       "   form  n_code                                          n_content  \\\n",
       "0  news  046940  우원개발(046940)이 상승폭을 확대하고 있다. 전일 대비 4.40% 상승한 7,...   \n",
       "1  news  046940  <meta http-equiv=\"Content-Type\" content=\"text/...   \n",
       "2  news  046940  <meta http-equiv=\"Content-Type\" content=\"text/...   \n",
       "3  news  046940  <meta http-equiv=\"Content-Type\" content=\"text/...   \n",
       "4  news  046940  <meta http-equiv=\"Content-Type\" content=\"text/...   \n",
       "\n",
       "                                     n_content_clean      n_date  \\\n",
       "0  우원개발(046940)이 상승폭을 확대하고 있다. 전일 대비 4.40% 상승한 7,...  2021-07-15   \n",
       "1  <meta http-equiv=\"Content-Type\" content=\"text/...  2021-07-15   \n",
       "2  <meta http-equiv=\"Content-Type\" content=\"text/...  2021-06-30   \n",
       "3  <meta http-equiv=\"Content-Type\" content=\"text/...  2021-07-27   \n",
       "4  <meta http-equiv=\"Content-Type\" content=\"text/...  2021-06-02   \n",
       "\n",
       "                                   n_title rgs_mkt_cd stk_iem_krl_nm  \\\n",
       "0                      우원개발, +4.40% 상승폭 확대        코스닥           우원개발   \n",
       "1              우원개발(046940)  소폭 상승세 +3.06%        코스닥           우원개발   \n",
       "2              우원개발(046940)  소폭 상승세 +3.13%        코스닥           우원개발   \n",
       "3              우원개발(046940)  소폭 상승세 +3.17%        코스닥           우원개발   \n",
       "4  우원개발(046940)  소폭 상승세 +3.12%, 3거래일 연속 상승        코스닥           우원개발   \n",
       "\n",
       "                                       title_content  \\\n",
       "0  우원개발, +4.40% 상승폭 확대. 우원개발(046940)이 상승폭을 확대하고 있...   \n",
       "1  우원개발(046940)  소폭 상승세 +3.06%. <meta http-equiv=...   \n",
       "2  우원개발(046940)  소폭 상승세 +3.13%. <meta http-equiv=...   \n",
       "3  우원개발(046940)  소폭 상승세 +3.17%. <meta http-equiv=...   \n",
       "4  우원개발(046940)  소폭 상승세 +3.12%, 3거래일 연속 상승. <meta...   \n",
       "\n",
       "                                 title_content_clean  month  day  dayofweek  \n",
       "0  우원개발 4.40 상승폭 확대. 우원개발 046940 이 상승폭을 확대하고 있다. ...      7   15          3  \n",
       "1  우원개발 046940 소폭 상승세 3.06 . 제목 우원개발 046940 소폭 상승...      7   15          3  \n",
       "2  우원개발 046940 소폭 상승세 3.13 . 제목 우원개발 046940 소폭 상승...      6   30          2  \n",
       "3  우원개발 046940 소폭 상승세 3.17 . 제목 우원개발 046940 소폭 상승...      7   27          1  \n",
       "4  우원개발 046940 소폭 상승세 3.12 3거래일 연속 상승. 제목 우원개발 04...      6    2          2  "
      ]
     },
     "execution_count": 686,
     "metadata": {},
     "output_type": "execute_result"
    }
   ],
   "source": [
    "metadata = pd.read_csv('new_metadata.csv')\n",
    "metadata.head()"
   ]
  },
  {
   "cell_type": "code",
   "execution_count": 810,
   "metadata": {},
   "outputs": [
    {
     "data": {
      "text/plain": [
       "(134719, 13)"
      ]
     },
     "execution_count": 810,
     "metadata": {},
     "output_type": "execute_result"
    }
   ],
   "source": [
    "metadata.shape"
   ]
  },
  {
   "cell_type": "code",
   "execution_count": 687,
   "metadata": {},
   "outputs": [],
   "source": [
    "def tokenizing_for_count(x):\n",
    "    x = mecab.nouns(x)\n",
    "    x = remove_stopwords(x)\n",
    "    x = remove_onewords(x)\n",
    "    return x"
   ]
  },
  {
   "cell_type": "code",
   "execution_count": 691,
   "metadata": {},
   "outputs": [
    {
     "name": "stdout",
     "output_type": "stream",
     "text": [
      "CPU times: user 6min 9s, sys: 4.21 s, total: 6min 13s\n",
      "Wall time: 6min 13s\n"
     ]
    }
   ],
   "source": [
    "%%time\n",
    "\n",
    "from sklearn.feature_extraction.text import CountVectorizer\n",
    "\n",
    "vectorizer = CountVectorizer(min_df=0.001, ngram_range = (1, 1), tokenizer = tokenizing_for_count)\n",
    "x = vectorizer.fit_transform(metadata['title_content_clean'])"
   ]
  },
  {
   "cell_type": "code",
   "execution_count": 811,
   "metadata": {},
   "outputs": [
    {
     "data": {
      "text/plain": [
       "<134719x6338 sparse matrix of type '<class 'numpy.int64'>'\n",
       "\twith 7693712 stored elements in Compressed Sparse Row format>"
      ]
     },
     "execution_count": 811,
     "metadata": {},
     "output_type": "execute_result"
    }
   ],
   "source": [
    "x"
   ]
  },
  {
   "cell_type": "code",
   "execution_count": 692,
   "metadata": {},
   "outputs": [],
   "source": [
    "word2index = vectorizer.vocabulary_\n",
    "index2word = sorted(\n",
    "    vectorizer.vocabulary_,\n",
    "    key=lambda x:vectorizer.vocabulary_[x]\n",
    ")"
   ]
  },
  {
   "cell_type": "code",
   "execution_count": 756,
   "metadata": {},
   "outputs": [
    {
     "name": "stdout",
     "output_type": "stream",
     "text": [
      "MatrixbasedKeywordExtractor trained\n",
      "CPU times: user 58.8 s, sys: 1.84 s, total: 1min\n",
      "Wall time: 1min\n"
     ]
    }
   ],
   "source": [
    "%%time\n",
    "\n",
    "from soykeyword.proportion import MatrixbasedKeywordExtractor\n",
    "\n",
    "matrixbased_extractor = MatrixbasedKeywordExtractor(\n",
    "    min_tf=10,\n",
    "    min_df=3,\n",
    "    verbose=True\n",
    ")\n",
    "\n",
    "matrixbased_extractor.train(x, index2word)"
   ]
  },
  {
   "cell_type": "code",
   "execution_count": 874,
   "metadata": {},
   "outputs": [
    {
     "data": {
      "text/plain": [
       "[KeywordScore(word='기아', frequency=8872, score=1.0),\n",
       " KeywordScore(word='신차', frequency=1379, score=0.9580323481078163),\n",
       " KeywordScore(word='현대차', frequency=14449, score=0.9493384027751619),\n",
       " KeywordScore(word='하이브리드', frequency=1624, score=0.9465819104398148),\n",
       " KeywordScore(word='신형', frequency=1124, score=0.9427565407530044),\n",
       " KeywordScore(word='신한지주', frequency=1415, score=0.9390612883230753),\n",
       " KeywordScore(word='현대모비스', frequency=2545, score=0.9353942723676978),\n",
       " KeywordScore(word='제네시스', frequency=1239, score=0.932076041940814),\n",
       " KeywordScore(word='명예', frequency=1391, score=0.9258501075611469),\n",
       " KeywordScore(word='사양', frequency=1049, score=0.9252923000447014),\n",
       " KeywordScore(word='전동', frequency=1211, score=0.9234569218994929),\n",
       " KeywordScore(word='주행', frequency=2534, score=0.9227754861159873),\n",
       " KeywordScore(word='현대위아', frequency=1446, score=0.922327357500143),\n",
       " KeywordScore(word='하이텍', frequency=1652, score=0.9147667525585946),\n",
       " KeywordScore(word='교섭', frequency=1587, score=0.9130361074876049),\n",
       " KeywordScore(word='만도', frequency=1301, score=0.9123250897483874),\n",
       " KeywordScore(word='누락', frequency=1086, score=0.903808531345442),\n",
       " KeywordScore(word='자동차', frequency=15635, score=0.9037080051619961),\n",
       " KeywordScore(word='시그', frequency=1123, score=0.90351097491121),\n",
       " KeywordScore(word='프레스티지', frequency=1101, score=0.9017632479151443),\n",
       " KeywordScore(word='운전자', frequency=1004, score=0.9013522424247524)]"
      ]
     },
     "execution_count": 874,
     "metadata": {},
     "output_type": "execute_result"
    }
   ],
   "source": [
    "keywords = matrixbased_extractor.extract_from_word(\n",
    "    '기아',\n",
    "    min_score=0.0,\n",
    "    min_frequency=1000)\n",
    "\n",
    "keywords[:21]"
   ]
  },
  {
   "cell_type": "code",
   "execution_count": 875,
   "metadata": {},
   "outputs": [],
   "source": [
    "# keyword_list_n 리스트 차례로 적재 (for loop 추가 필요)\n",
    "\n",
    "keyword_list_10 = []\n",
    "\n",
    "for words in keywords[1:21]:\n",
    "    token = words.word\n",
    "    frequency = words.frequency\n",
    "    score = words.score\n",
    "    keyword_data = token, frequency, score\n",
    "    \n",
    "    keyword_list_10.append(keyword_data)"
   ]
  },
  {
   "cell_type": "code",
   "execution_count": 876,
   "metadata": {},
   "outputs": [],
   "source": [
    "kia = pd.DataFrame(keyword_list_10, columns = ['linked_words', 'freq', 'score'])"
   ]
  },
  {
   "cell_type": "code",
   "execution_count": 896,
   "metadata": {},
   "outputs": [],
   "source": [
    "sample_linked_word_data = pd.concat([sample_linked_word_data, kia], axis = 0)    "
   ]
  },
  {
   "cell_type": "code",
   "execution_count": 898,
   "metadata": {},
   "outputs": [],
   "source": [
    "sample_linked_word_data.to_csv('sample_linked_word_data.csv', index = False)"
   ]
  }
 ],
 "metadata": {
  "kernelspec": {
   "display_name": "Python 3",
   "language": "python",
   "name": "python3"
  },
  "language_info": {
   "codemirror_mode": {
    "name": "ipython",
    "version": 3
   },
   "file_extension": ".py",
   "mimetype": "text/x-python",
   "name": "python",
   "nbconvert_exporter": "python",
   "pygments_lexer": "ipython3",
   "version": "3.6.10"
  }
 },
 "nbformat": 4,
 "nbformat_minor": 4
}
